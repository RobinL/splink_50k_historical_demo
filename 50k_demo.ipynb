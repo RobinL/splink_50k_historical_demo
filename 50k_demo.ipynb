{
  "cells": [
    {
      "cell_type": "code",
      "execution_count": 1,
      "id": "9ceef6f1",
      "metadata": {
        "execution": {
          "iopub.execute_input": "2024-07-11T13:34:21.934832Z",
          "iopub.status.busy": "2024-07-11T13:34:21.934445Z",
          "iopub.status.idle": "2024-07-11T13:34:21.956453Z",
          "shell.execute_reply": "2024-07-11T13:34:21.955605Z"
        },
        "tags": [
          "hide_input"
        ]
      },
      "outputs": [],
      "source": [
        "# Uncomment and run this cell if you're running in Google Colab.\n",
        "# !pip install splink"
      ]
    },
    {
      "cell_type": "code",
      "execution_count": 2,
      "id": "5620a9a6",
      "metadata": {},
      "outputs": [
        {
          "data": {
            "text/html": [
              "<div>\n",
              "<style scoped>\n",
              "    .dataframe tbody tr th:only-of-type {\n",
              "        vertical-align: middle;\n",
              "    }\n",
              "\n",
              "    .dataframe tbody tr th {\n",
              "        vertical-align: top;\n",
              "    }\n",
              "\n",
              "    .dataframe thead th {\n",
              "        text-align: right;\n",
              "    }\n",
              "</style>\n",
              "<table border=\"1\" class=\"dataframe\">\n",
              "  <thead>\n",
              "    <tr style=\"text-align: right;\">\n",
              "      <th></th>\n",
              "      <th>unique_id</th>\n",
              "      <th>cluster</th>\n",
              "      <th>full_name</th>\n",
              "      <th>first_and_surname</th>\n",
              "      <th>first_name</th>\n",
              "      <th>surname</th>\n",
              "      <th>dob</th>\n",
              "      <th>birth_place</th>\n",
              "      <th>postcode_fake</th>\n",
              "      <th>gender</th>\n",
              "      <th>occupation</th>\n",
              "    </tr>\n",
              "  </thead>\n",
              "  <tbody>\n",
              "    <tr>\n",
              "      <th>0</th>\n",
              "      <td>Q2296770-1</td>\n",
              "      <td>Q2296770</td>\n",
              "      <td>thomas clifford, 1st baron clifford of chudleigh</td>\n",
              "      <td>thomas chudleigh</td>\n",
              "      <td>thomas</td>\n",
              "      <td>chudleigh</td>\n",
              "      <td>1630-08-01</td>\n",
              "      <td>devon</td>\n",
              "      <td>tq13 8df</td>\n",
              "      <td>male</td>\n",
              "      <td>politician</td>\n",
              "    </tr>\n",
              "    <tr>\n",
              "      <th>1</th>\n",
              "      <td>Q2296770-2</td>\n",
              "      <td>Q2296770</td>\n",
              "      <td>thomas of chudleigh</td>\n",
              "      <td>thomas chudleigh</td>\n",
              "      <td>thomas</td>\n",
              "      <td>chudleigh</td>\n",
              "      <td>1630-08-01</td>\n",
              "      <td>devon</td>\n",
              "      <td>tq13 8df</td>\n",
              "      <td>male</td>\n",
              "      <td>politician</td>\n",
              "    </tr>\n",
              "    <tr>\n",
              "      <th>2</th>\n",
              "      <td>Q2296770-3</td>\n",
              "      <td>Q2296770</td>\n",
              "      <td>tom 1st baron clifford of chudleigh</td>\n",
              "      <td>tom chudleigh</td>\n",
              "      <td>tom</td>\n",
              "      <td>chudleigh</td>\n",
              "      <td>1630-08-01</td>\n",
              "      <td>devon</td>\n",
              "      <td>tq13 8df</td>\n",
              "      <td>male</td>\n",
              "      <td>politician</td>\n",
              "    </tr>\n",
              "    <tr>\n",
              "      <th>3</th>\n",
              "      <td>Q2296770-4</td>\n",
              "      <td>Q2296770</td>\n",
              "      <td>thomas 1st chudleigh</td>\n",
              "      <td>thomas chudleigh</td>\n",
              "      <td>thomas</td>\n",
              "      <td>chudleigh</td>\n",
              "      <td>1630-08-01</td>\n",
              "      <td>devon</td>\n",
              "      <td>tq13 8hu</td>\n",
              "      <td>None</td>\n",
              "      <td>politician</td>\n",
              "    </tr>\n",
              "    <tr>\n",
              "      <th>4</th>\n",
              "      <td>Q2296770-5</td>\n",
              "      <td>Q2296770</td>\n",
              "      <td>thomas clifford, 1st baron chudleigh</td>\n",
              "      <td>thomas chudleigh</td>\n",
              "      <td>thomas</td>\n",
              "      <td>chudleigh</td>\n",
              "      <td>1630-08-01</td>\n",
              "      <td>devon</td>\n",
              "      <td>tq13 8df</td>\n",
              "      <td>None</td>\n",
              "      <td>politician</td>\n",
              "    </tr>\n",
              "  </tbody>\n",
              "</table>\n",
              "</div>"
            ],
            "text/plain": [
              "    unique_id   cluster                                         full_name  \\\n",
              "0  Q2296770-1  Q2296770  thomas clifford, 1st baron clifford of chudleigh   \n",
              "1  Q2296770-2  Q2296770                               thomas of chudleigh   \n",
              "2  Q2296770-3  Q2296770               tom 1st baron clifford of chudleigh   \n",
              "3  Q2296770-4  Q2296770                              thomas 1st chudleigh   \n",
              "4  Q2296770-5  Q2296770              thomas clifford, 1st baron chudleigh   \n",
              "\n",
              "  first_and_surname first_name    surname         dob birth_place  \\\n",
              "0  thomas chudleigh     thomas  chudleigh  1630-08-01       devon   \n",
              "1  thomas chudleigh     thomas  chudleigh  1630-08-01       devon   \n",
              "2     tom chudleigh        tom  chudleigh  1630-08-01       devon   \n",
              "3  thomas chudleigh     thomas  chudleigh  1630-08-01       devon   \n",
              "4  thomas chudleigh     thomas  chudleigh  1630-08-01       devon   \n",
              "\n",
              "  postcode_fake gender  occupation  \n",
              "0      tq13 8df   male  politician  \n",
              "1      tq13 8df   male  politician  \n",
              "2      tq13 8df   male  politician  \n",
              "3      tq13 8hu   None  politician  \n",
              "4      tq13 8df   None  politician  "
            ]
          },
          "execution_count": 2,
          "metadata": {},
          "output_type": "execute_result"
        }
      ],
      "source": [
        "from splink import splink_datasets, DuckDBAPI, block_on\n",
        "import splink.exploratory as exploratory\n",
        "df = splink_datasets.historical_50k\n",
        "df.head(5)\n",
        "\n"
      ]
    },
    {
      "cell_type": "markdown",
      "id": "05fe8e0f",
      "metadata": {},
      "source": [
        "## Exploratory analysis"
      ]
    },
    {
      "cell_type": "code",
      "execution_count": 3,
      "id": "68f1e1dc",
      "metadata": {},
      "outputs": [
        {
          "data": {
            "text/html": [
              "\n",
              "<style>\n",
              "  #altair-viz-6647cd2d26d04761880c7ce4d8016369.vega-embed {\n",
              "    width: 100%;\n",
              "    display: flex;\n",
              "  }\n",
              "\n",
              "  #altair-viz-6647cd2d26d04761880c7ce4d8016369.vega-embed details,\n",
              "  #altair-viz-6647cd2d26d04761880c7ce4d8016369.vega-embed details summary {\n",
              "    position: relative;\n",
              "  }\n",
              "</style>\n",
              "<div id=\"altair-viz-6647cd2d26d04761880c7ce4d8016369\"></div>\n",
              "<script type=\"text/javascript\">\n",
              "  var VEGA_DEBUG = (typeof VEGA_DEBUG == \"undefined\") ? {} : VEGA_DEBUG;\n",
              "  (function(spec, embedOpt){\n",
              "    let outputDiv = document.currentScript.previousElementSibling;\n",
              "    if (outputDiv.id !== \"altair-viz-6647cd2d26d04761880c7ce4d8016369\") {\n",
              "      outputDiv = document.getElementById(\"altair-viz-6647cd2d26d04761880c7ce4d8016369\");\n",
              "    }\n",
              "    const paths = {\n",
              "      \"vega\": \"https://cdn.jsdelivr.net/npm/vega@5?noext\",\n",
              "      \"vega-lib\": \"https://cdn.jsdelivr.net/npm/vega-lib?noext\",\n",
              "      \"vega-lite\": \"https://cdn.jsdelivr.net/npm/vega-lite@5.20.1?noext\",\n",
              "      \"vega-embed\": \"https://cdn.jsdelivr.net/npm/vega-embed@6?noext\",\n",
              "    };\n",
              "\n",
              "    function maybeLoadScript(lib, version) {\n",
              "      var key = `${lib.replace(\"-\", \"\")}_version`;\n",
              "      return (VEGA_DEBUG[key] == version) ?\n",
              "        Promise.resolve(paths[lib]) :\n",
              "        new Promise(function(resolve, reject) {\n",
              "          var s = document.createElement('script');\n",
              "          document.getElementsByTagName(\"head\")[0].appendChild(s);\n",
              "          s.async = true;\n",
              "          s.onload = () => {\n",
              "            VEGA_DEBUG[key] = version;\n",
              "            return resolve(paths[lib]);\n",
              "          };\n",
              "          s.onerror = () => reject(`Error loading script: ${paths[lib]}`);\n",
              "          s.src = paths[lib];\n",
              "        });\n",
              "    }\n",
              "\n",
              "    function showError(err) {\n",
              "      outputDiv.innerHTML = `<div class=\"error\" style=\"color:red;\">${err}</div>`;\n",
              "      throw err;\n",
              "    }\n",
              "\n",
              "    function displayChart(vegaEmbed) {\n",
              "      vegaEmbed(outputDiv, spec, embedOpt)\n",
              "        .catch(err => showError(`Javascript Error: ${err.message}<br>This usually means there's a typo in your chart specification. See the javascript console for the full traceback.`));\n",
              "    }\n",
              "\n",
              "    if(typeof define === \"function\" && define.amd) {\n",
              "      requirejs.config({paths});\n",
              "      require([\"vega-embed\"], displayChart, err => showError(`Error loading script: ${err.message}`));\n",
              "    } else {\n",
              "      maybeLoadScript(\"vega\", \"5\")\n",
              "        .then(() => maybeLoadScript(\"vega-lite\", \"5.20.1\"))\n",
              "        .then(() => maybeLoadScript(\"vega-embed\", \"6\"))\n",
              "        .catch(showError)\n",
              "        .then(() => displayChart(vegaEmbed));\n",
              "    }\n",
              "  })({\"config\": {\"view\": {\"continuousWidth\": 400, \"continuousHeight\": 300}}, \"layer\": [{\"mark\": \"rect\", \"encoding\": {\"color\": {\"field\": \"completeness\", \"legend\": null, \"scale\": {\"scheme\": \"darkred\", \"zero\": true}, \"type\": \"quantitative\"}, \"tooltip\": [{\"field\": \"source_dataset\", \"title\": \"Source dataset\", \"type\": \"nominal\"}, {\"field\": \"total_rows_inc_nulls\", \"format\": \",\", \"title\": \"# of records\", \"type\": \"quantitative\"}, {\"field\": \"column_name\", \"title\": \"Column name\", \"type\": \"nominal\"}, {\"field\": \"total_null_rows\", \"format\": \",\", \"title\": \"# of nulls\", \"type\": \"quantitative\"}, {\"field\": \"completeness\", \"format\": \".1%\", \"type\": \"quantitative\"}], \"x\": {\"axis\": {\"labelAngle\": 20}, \"field\": \"column_name\", \"sort\": {\"field\": \"mean_comp\", \"order\": \"descending\"}, \"title\": \"Column name\", \"type\": \"nominal\"}, \"y\": {\"field\": \"source_dataset\", \"title\": \"Source dataset\", \"type\": \"nominal\"}}, \"title\": \"Column completeness by source dataset\", \"transform\": [{\"joinaggregate\": [{\"op\": \"mean\", \"field\": \"completeness\", \"as\": \"mean_comp\"}], \"groupby\": [\"column_name\"]}]}, {\"mark\": {\"type\": \"text\"}, \"encoding\": {\"color\": {\"condition\": {\"test\": \"datum['completeness'] < 0.5\", \"value\": \"white\"}, \"value\": \"black\"}, \"text\": {\"field\": \"completeness\", \"format\": \".0%\", \"type\": \"quantitative\"}, \"x\": {\"axis\": {\"labelAngle\": 0}, \"field\": \"column_name\", \"sort\": {\"field\": \"mean_comp\", \"order\": \"descending\"}, \"type\": \"nominal\"}, \"y\": {\"field\": \"source_dataset\", \"type\": \"nominal\"}}, \"transform\": [{\"joinaggregate\": [{\"op\": \"mean\", \"field\": \"completeness\", \"as\": \"mean_comp\"}], \"groupby\": [\"column_name\"]}]}], \"data\": {\"name\": \"data-52897e9c02117835241209b87a2cfa31\"}, \"height\": {\"step\": 40}, \"width\": {\"step\": 40}, \"$schema\": \"https://vega.github.io/schema/vega-lite/v5.9.3.json\", \"datasets\": {\"data-52897e9c02117835241209b87a2cfa31\": [{\"source_dataset\": \"input_data_1\", \"column_name\": \"unique_id\", \"total_null_rows\": 0, \"total_rows_inc_nulls\": 50578, \"completeness\": 1.0}, {\"source_dataset\": \"input_data_1\", \"column_name\": \"cluster\", \"total_null_rows\": 0, \"total_rows_inc_nulls\": 50578, \"completeness\": 1.0}, {\"source_dataset\": \"input_data_1\", \"column_name\": \"full_name\", \"total_null_rows\": 67, \"total_rows_inc_nulls\": 50578, \"completeness\": 0.9986752867698669}, {\"source_dataset\": \"input_data_1\", \"column_name\": \"first_and_surname\", \"total_null_rows\": 67, \"total_rows_inc_nulls\": 50578, \"completeness\": 0.9986752867698669}, {\"source_dataset\": \"input_data_1\", \"column_name\": \"first_name\", \"total_null_rows\": 67, \"total_rows_inc_nulls\": 50578, \"completeness\": 0.9986752867698669}, {\"source_dataset\": \"input_data_1\", \"column_name\": \"surname\", \"total_null_rows\": 4515, \"total_rows_inc_nulls\": 50578, \"completeness\": 0.9107319116592407}, {\"source_dataset\": \"input_data_1\", \"column_name\": \"dob\", \"total_null_rows\": 11403, \"total_rows_inc_nulls\": 50578, \"completeness\": 0.7745462656021118}, {\"source_dataset\": \"input_data_1\", \"column_name\": \"birth_place\", \"total_null_rows\": 6927, \"total_rows_inc_nulls\": 50578, \"completeness\": 0.8630432486534119}, {\"source_dataset\": \"input_data_1\", \"column_name\": \"postcode_fake\", \"total_null_rows\": 11426, \"total_rows_inc_nulls\": 50578, \"completeness\": 0.7740914821624756}, {\"source_dataset\": \"input_data_1\", \"column_name\": \"gender\", \"total_null_rows\": 11230, \"total_rows_inc_nulls\": 50578, \"completeness\": 0.7779666781425476}, {\"source_dataset\": \"input_data_1\", \"column_name\": \"occupation\", \"total_null_rows\": 25289, \"total_rows_inc_nulls\": 50578, \"completeness\": 0.5}]}}, {\"mode\": \"vega-lite\"});\n",
              "</script>"
            ],
            "text/plain": [
              "alt.LayerChart(...)"
            ]
          },
          "execution_count": 3,
          "metadata": {},
          "output_type": "execute_result"
        }
      ],
      "source": [
        "import splink.exploratory as exploratory\n",
        "\n",
        "db_api = DuckDBAPI()\n",
        "exploratory.completeness_chart(df, db_api=db_api)"
      ]
    },
    {
      "cell_type": "code",
      "execution_count": 4,
      "id": "f5335093",
      "metadata": {},
      "outputs": [
        {
          "data": {
            "text/html": [
              "\n",
              "<style>\n",
              "  #altair-viz-b42c7f4af0aa45e584dff9ac1b22f245.vega-embed {\n",
              "    width: 100%;\n",
              "    display: flex;\n",
              "  }\n",
              "\n",
              "  #altair-viz-b42c7f4af0aa45e584dff9ac1b22f245.vega-embed details,\n",
              "  #altair-viz-b42c7f4af0aa45e584dff9ac1b22f245.vega-embed details summary {\n",
              "    position: relative;\n",
              "  }\n",
              "</style>\n",
              "<div id=\"altair-viz-b42c7f4af0aa45e584dff9ac1b22f245\"></div>\n",
              "<script type=\"text/javascript\">\n",
              "  var VEGA_DEBUG = (typeof VEGA_DEBUG == \"undefined\") ? {} : VEGA_DEBUG;\n",
              "  (function(spec, embedOpt){\n",
              "    let outputDiv = document.currentScript.previousElementSibling;\n",
              "    if (outputDiv.id !== \"altair-viz-b42c7f4af0aa45e584dff9ac1b22f245\") {\n",
              "      outputDiv = document.getElementById(\"altair-viz-b42c7f4af0aa45e584dff9ac1b22f245\");\n",
              "    }\n",
              "    const paths = {\n",
              "      \"vega\": \"https://cdn.jsdelivr.net/npm/vega@5?noext\",\n",
              "      \"vega-lib\": \"https://cdn.jsdelivr.net/npm/vega-lib?noext\",\n",
              "      \"vega-lite\": \"https://cdn.jsdelivr.net/npm/vega-lite@5.20.1?noext\",\n",
              "      \"vega-embed\": \"https://cdn.jsdelivr.net/npm/vega-embed@6?noext\",\n",
              "    };\n",
              "\n",
              "    function maybeLoadScript(lib, version) {\n",
              "      var key = `${lib.replace(\"-\", \"\")}_version`;\n",
              "      return (VEGA_DEBUG[key] == version) ?\n",
              "        Promise.resolve(paths[lib]) :\n",
              "        new Promise(function(resolve, reject) {\n",
              "          var s = document.createElement('script');\n",
              "          document.getElementsByTagName(\"head\")[0].appendChild(s);\n",
              "          s.async = true;\n",
              "          s.onload = () => {\n",
              "            VEGA_DEBUG[key] = version;\n",
              "            return resolve(paths[lib]);\n",
              "          };\n",
              "          s.onerror = () => reject(`Error loading script: ${paths[lib]}`);\n",
              "          s.src = paths[lib];\n",
              "        });\n",
              "    }\n",
              "\n",
              "    function showError(err) {\n",
              "      outputDiv.innerHTML = `<div class=\"error\" style=\"color:red;\">${err}</div>`;\n",
              "      throw err;\n",
              "    }\n",
              "\n",
              "    function displayChart(vegaEmbed) {\n",
              "      vegaEmbed(outputDiv, spec, embedOpt)\n",
              "        .catch(err => showError(`Javascript Error: ${err.message}<br>This usually means there's a typo in your chart specification. See the javascript console for the full traceback.`));\n",
              "    }\n",
              "\n",
              "    if(typeof define === \"function\" && define.amd) {\n",
              "      requirejs.config({paths});\n",
              "      require([\"vega-embed\"], displayChart, err => showError(`Error loading script: ${err.message}`));\n",
              "    } else {\n",
              "      maybeLoadScript(\"vega\", \"5\")\n",
              "        .then(() => maybeLoadScript(\"vega-lite\", \"5.20.1\"))\n",
              "        .then(() => maybeLoadScript(\"vega-embed\", \"6\"))\n",
              "        .catch(showError)\n",
              "        .then(() => displayChart(vegaEmbed));\n",
              "    }\n",
              "  })({\"config\": {\"view\": {\"continuousWidth\": 400, \"continuousHeight\": 300}}, \"vconcat\": [{\"hconcat\": [{\"mark\": {\"type\": \"line\", \"interpolate\": \"step-after\"}, \"data\": {\"values\": [{\"percentile_ex_nulls\": 0.194452702999115, \"percentile_inc_nulls\": 0.1955198049545288, \"value_count\": 14, \"group_name\": \"first_name\", \"total_non_null_rows\": 50511, \"total_rows_inc_nulls\": 50578, \"sum_tokens_in_value_count_group\": 378.0, \"distinct_value_count\": 4413}, {\"percentile_ex_nulls\": 0.18158423900604248, \"percentile_inc_nulls\": 0.18266832828521729, \"value_count\": 13, \"group_name\": \"first_name\", \"total_non_null_rows\": 50511, \"total_rows_inc_nulls\": 50578, \"sum_tokens_in_value_count_group\": 650.0, \"distinct_value_count\": 4413}, {\"percentile_ex_nulls\": 0.17279404401779175, \"percentile_inc_nulls\": 0.17388981580734253, \"value_count\": 12, \"group_name\": \"first_name\", \"total_non_null_rows\": 50511, \"total_rows_inc_nulls\": 50578, \"sum_tokens_in_value_count_group\": 444.0, \"distinct_value_count\": 4413}, {\"percentile_ex_nulls\": 0.16538971662521362, \"percentile_inc_nulls\": 0.16649532318115234, \"value_count\": 11, \"group_name\": \"first_name\", \"total_non_null_rows\": 50511, \"total_rows_inc_nulls\": 50578, \"sum_tokens_in_value_count_group\": 374.0, \"distinct_value_count\": 4413}, {\"percentile_ex_nulls\": 0.15588682889938354, \"percentile_inc_nulls\": 0.15700501203536987, \"value_count\": 10, \"group_name\": \"first_name\", \"total_non_null_rows\": 50511, \"total_rows_inc_nulls\": 50578, \"sum_tokens_in_value_count_group\": 480.0, \"distinct_value_count\": 4413}, {\"percentile_ex_nulls\": 0.14394885301589966, \"percentile_inc_nulls\": 0.14508283138275146, \"value_count\": 9, \"group_name\": \"first_name\", \"total_non_null_rows\": 50511, \"total_rows_inc_nulls\": 50578, \"sum_tokens_in_value_count_group\": 603.0, \"distinct_value_count\": 4413}, {\"percentile_ex_nulls\": 0.13143670558929443, \"percentile_inc_nulls\": 0.13258731365203857, \"value_count\": 8, \"group_name\": \"first_name\", \"total_non_null_rows\": 50511, \"total_rows_inc_nulls\": 50578, \"sum_tokens_in_value_count_group\": 632.0, \"distinct_value_count\": 4413}, {\"percentile_ex_nulls\": 0.12145870923995972, \"percentile_inc_nulls\": 0.12262248992919922, \"value_count\": 7, \"group_name\": \"first_name\", \"total_non_null_rows\": 50511, \"total_rows_inc_nulls\": 50578, \"sum_tokens_in_value_count_group\": 504.0, \"distinct_value_count\": 4413}, {\"percentile_ex_nulls\": 0.11076796054840088, \"percentile_inc_nulls\": 0.11194592714309692, \"value_count\": 6, \"group_name\": \"first_name\", \"total_non_null_rows\": 50511, \"total_rows_inc_nulls\": 50578, \"sum_tokens_in_value_count_group\": 540.0, \"distinct_value_count\": 4413}, {\"percentile_ex_nulls\": 0.10017621517181396, \"percentile_inc_nulls\": 0.10136818885803223, \"value_count\": 5, \"group_name\": \"first_name\", \"total_non_null_rows\": 50511, \"total_rows_inc_nulls\": 50578, \"sum_tokens_in_value_count_group\": 535.0, \"distinct_value_count\": 4413}, {\"percentile_ex_nulls\": 0.08655542135238647, \"percentile_inc_nulls\": 0.08776545524597168, \"value_count\": 4, \"group_name\": \"first_name\", \"total_non_null_rows\": 50511, \"total_rows_inc_nulls\": 50578, \"sum_tokens_in_value_count_group\": 688.0, \"distinct_value_count\": 4413}, {\"percentile_ex_nulls\": 0.0702817440032959, \"percentile_inc_nulls\": 0.07151329517364502, \"value_count\": 3, \"group_name\": \"first_name\", \"total_non_null_rows\": 50511, \"total_rows_inc_nulls\": 50578, \"sum_tokens_in_value_count_group\": 822.0, \"distinct_value_count\": 4413}, {\"percentile_ex_nulls\": 0.047276854515075684, \"percentile_inc_nulls\": 0.04853886365890503, \"value_count\": 2, \"group_name\": \"first_name\", \"total_non_null_rows\": 50511, \"total_rows_inc_nulls\": 50578, \"sum_tokens_in_value_count_group\": 1162.0, \"distinct_value_count\": 4413}, {\"percentile_ex_nulls\": 0.0, \"percentile_inc_nulls\": 0.0013247132301330566, \"value_count\": 1, \"group_name\": \"first_name\", \"total_non_null_rows\": 50511, \"total_rows_inc_nulls\": 50578, \"sum_tokens_in_value_count_group\": 2388.0, \"distinct_value_count\": 4413}, {\"percentile_ex_nulls\": 0.9449625015258789, \"percentile_inc_nulls\": 0.9450353980064392, \"value_count\": 2780, \"group_name\": \"first_name\", \"total_non_null_rows\": 50511, \"total_rows_inc_nulls\": 50578, \"sum_tokens_in_value_count_group\": 2780.0, \"distinct_value_count\": 4413}, {\"percentile_ex_nulls\": 0.8907960653305054, \"percentile_inc_nulls\": 0.8909407258033752, \"value_count\": 2736, \"group_name\": \"first_name\", \"total_non_null_rows\": 50511, \"total_rows_inc_nulls\": 50578, \"sum_tokens_in_value_count_group\": 2736.0, \"distinct_value_count\": 4413}, {\"percentile_ex_nulls\": 0.8621290326118469, \"percentile_inc_nulls\": 0.8623116612434387, \"value_count\": 1448, \"group_name\": \"first_name\", \"total_non_null_rows\": 50511, \"total_rows_inc_nulls\": 50578, \"sum_tokens_in_value_count_group\": 1448.0, \"distinct_value_count\": 4413}, {\"percentile_ex_nulls\": 0.8341153264045715, \"percentile_inc_nulls\": 0.8343350887298584, \"value_count\": 1415, \"group_name\": \"first_name\", \"total_non_null_rows\": 50511, \"total_rows_inc_nulls\": 50578, \"sum_tokens_in_value_count_group\": 1415.0, \"distinct_value_count\": 4413}, {\"percentile_ex_nulls\": 0.8082596063613892, \"percentile_inc_nulls\": 0.8085135817527771, \"value_count\": 1306, \"group_name\": \"first_name\", \"total_non_null_rows\": 50511, \"total_rows_inc_nulls\": 50578, \"sum_tokens_in_value_count_group\": 1306.0, \"distinct_value_count\": 4413}, {\"percentile_ex_nulls\": 0.7832155227661133, \"percentile_inc_nulls\": 0.7835026979446411, \"value_count\": 1265, \"group_name\": \"first_name\", \"total_non_null_rows\": 50511, \"total_rows_inc_nulls\": 50578, \"sum_tokens_in_value_count_group\": 1265.0, \"distinct_value_count\": 4413}, {\"percentile_ex_nulls\": 0.7582308650016785, \"percentile_inc_nulls\": 0.7585511207580566, \"value_count\": 1262, \"group_name\": \"first_name\", \"total_non_null_rows\": 50511, \"total_rows_inc_nulls\": 50578, \"sum_tokens_in_value_count_group\": 1262.0, \"distinct_value_count\": 4413}, {\"percentile_ex_nulls\": 0.7341569066047668, \"percentile_inc_nulls\": 0.7345091104507446, \"value_count\": 1216, \"group_name\": \"first_name\", \"total_non_null_rows\": 50511, \"total_rows_inc_nulls\": 50578, \"sum_tokens_in_value_count_group\": 1216.0, \"distinct_value_count\": 4413}, {\"percentile_ex_nulls\": 0.7161211967468262, \"percentile_inc_nulls\": 0.7164973020553589, \"value_count\": 911, \"group_name\": \"first_name\", \"total_non_null_rows\": 50511, \"total_rows_inc_nulls\": 50578, \"sum_tokens_in_value_count_group\": 911.0, \"distinct_value_count\": 4413}, {\"percentile_ex_nulls\": 0.698620080947876, \"percentile_inc_nulls\": 0.6990193128585815, \"value_count\": 884, \"group_name\": \"first_name\", \"total_non_null_rows\": 50511, \"total_rows_inc_nulls\": 50578, \"sum_tokens_in_value_count_group\": 884.0, \"distinct_value_count\": 4413}, {\"percentile_ex_nulls\": 0.6826632022857666, \"percentile_inc_nulls\": 0.6830835342407227, \"value_count\": 806, \"group_name\": \"first_name\", \"total_non_null_rows\": 50511, \"total_rows_inc_nulls\": 50578, \"sum_tokens_in_value_count_group\": 806.0, \"distinct_value_count\": 4413}, {\"percentile_ex_nulls\": 0.6697155237197876, \"percentile_inc_nulls\": 0.670153021812439, \"value_count\": 654, \"group_name\": \"first_name\", \"total_non_null_rows\": 50511, \"total_rows_inc_nulls\": 50578, \"sum_tokens_in_value_count_group\": 654.0, \"distinct_value_count\": 4413}, {\"percentile_ex_nulls\": 0.6573221683502197, \"percentile_inc_nulls\": 0.6577761173248291, \"value_count\": 626, \"group_name\": \"first_name\", \"total_non_null_rows\": 50511, \"total_rows_inc_nulls\": 50578, \"sum_tokens_in_value_count_group\": 626.0, \"distinct_value_count\": 4413}, {\"percentile_ex_nulls\": 0.6471858024597168, \"percentile_inc_nulls\": 0.6476531028747559, \"value_count\": 512, \"group_name\": \"first_name\", \"total_non_null_rows\": 50511, \"total_rows_inc_nulls\": 50578, \"sum_tokens_in_value_count_group\": 512.0, \"distinct_value_count\": 4413}, {\"percentile_ex_nulls\": 0.6370691657066345, \"percentile_inc_nulls\": 0.6375499367713928, \"value_count\": 511, \"group_name\": \"first_name\", \"total_non_null_rows\": 50511, \"total_rows_inc_nulls\": 50578, \"sum_tokens_in_value_count_group\": 511.0, \"distinct_value_count\": 4413}, {\"percentile_ex_nulls\": 0.6269921064376831, \"percentile_inc_nulls\": 0.6274862289428711, \"value_count\": 509, \"group_name\": \"first_name\", \"total_non_null_rows\": 50511, \"total_rows_inc_nulls\": 50578, \"sum_tokens_in_value_count_group\": 509.0, \"distinct_value_count\": 4413}, {\"percentile_ex_nulls\": 0.6171329021453857, \"percentile_inc_nulls\": 0.6176400780677795, \"value_count\": 498, \"group_name\": \"first_name\", \"total_non_null_rows\": 50511, \"total_rows_inc_nulls\": 50578, \"sum_tokens_in_value_count_group\": 498.0, \"distinct_value_count\": 4413}, {\"percentile_ex_nulls\": 0.6079269647598267, \"percentile_inc_nulls\": 0.6084463596343994, \"value_count\": 465, \"group_name\": \"first_name\", \"total_non_null_rows\": 50511, \"total_rows_inc_nulls\": 50578, \"sum_tokens_in_value_count_group\": 465.0, \"distinct_value_count\": 4413}, {\"percentile_ex_nulls\": 0.5987408757209778, \"percentile_inc_nulls\": 0.5992723703384399, \"value_count\": 464, \"group_name\": \"first_name\", \"total_non_null_rows\": 50511, \"total_rows_inc_nulls\": 50578, \"sum_tokens_in_value_count_group\": 464.0, \"distinct_value_count\": 4413}, {\"percentile_ex_nulls\": 0.5904456377029419, \"percentile_inc_nulls\": 0.5909881591796875, \"value_count\": 419, \"group_name\": \"first_name\", \"total_non_null_rows\": 50511, \"total_rows_inc_nulls\": 50578, \"sum_tokens_in_value_count_group\": 419.0, \"distinct_value_count\": 4413}, {\"percentile_ex_nulls\": 0.5831403136253357, \"percentile_inc_nulls\": 0.5836925506591797, \"value_count\": 369, \"group_name\": \"first_name\", \"total_non_null_rows\": 50511, \"total_rows_inc_nulls\": 50578, \"sum_tokens_in_value_count_group\": 369.0, \"distinct_value_count\": 4413}, {\"percentile_ex_nulls\": 0.5762308835983276, \"percentile_inc_nulls\": 0.5767922401428223, \"value_count\": 349, \"group_name\": \"first_name\", \"total_non_null_rows\": 50511, \"total_rows_inc_nulls\": 50578, \"sum_tokens_in_value_count_group\": 349.0, \"distinct_value_count\": 4413}, {\"percentile_ex_nulls\": 0.5698164701461792, \"percentile_inc_nulls\": 0.5703862905502319, \"value_count\": 324, \"group_name\": \"first_name\", \"total_non_null_rows\": 50511, \"total_rows_inc_nulls\": 50578, \"sum_tokens_in_value_count_group\": 324.0, \"distinct_value_count\": 4413}, {\"percentile_ex_nulls\": 0.5634812116622925, \"percentile_inc_nulls\": 0.5640594959259033, \"value_count\": 320, \"group_name\": \"first_name\", \"total_non_null_rows\": 50511, \"total_rows_inc_nulls\": 50578, \"sum_tokens_in_value_count_group\": 320.0, \"distinct_value_count\": 4413}, {\"percentile_ex_nulls\": 0.5573043823242188, \"percentile_inc_nulls\": 0.557890772819519, \"value_count\": 312, \"group_name\": \"first_name\", \"total_non_null_rows\": 50511, \"total_rows_inc_nulls\": 50578, \"sum_tokens_in_value_count_group\": 312.0, \"distinct_value_count\": 4413}, {\"percentile_ex_nulls\": 0.5513848066329956, \"percentile_inc_nulls\": 0.551979124546051, \"value_count\": 299, \"group_name\": \"first_name\", \"total_non_null_rows\": 50511, \"total_rows_inc_nulls\": 50578, \"sum_tokens_in_value_count_group\": 299.0, \"distinct_value_count\": 4413}, {\"percentile_ex_nulls\": 0.5457029342651367, \"percentile_inc_nulls\": 0.5463047027587891, \"value_count\": 287, \"group_name\": \"first_name\", \"total_non_null_rows\": 50511, \"total_rows_inc_nulls\": 50578, \"sum_tokens_in_value_count_group\": 287.0, \"distinct_value_count\": 4413}, {\"percentile_ex_nulls\": 0.5401991605758667, \"percentile_inc_nulls\": 0.5408082604408264, \"value_count\": 278, \"group_name\": \"first_name\", \"total_non_null_rows\": 50511, \"total_rows_inc_nulls\": 50578, \"sum_tokens_in_value_count_group\": 278.0, \"distinct_value_count\": 4413}, {\"percentile_ex_nulls\": 0.5348538160324097, \"percentile_inc_nulls\": 0.5354700088500977, \"value_count\": 270, \"group_name\": \"first_name\", \"total_non_null_rows\": 50511, \"total_rows_inc_nulls\": 50578, \"sum_tokens_in_value_count_group\": 270.0, \"distinct_value_count\": 4413}, {\"percentile_ex_nulls\": 0.5298252105712891, \"percentile_inc_nulls\": 0.5304480195045471, \"value_count\": 254, \"group_name\": \"first_name\", \"total_non_null_rows\": 50511, \"total_rows_inc_nulls\": 50578, \"sum_tokens_in_value_count_group\": 254.0, \"distinct_value_count\": 4413}, {\"percentile_ex_nulls\": 0.5250935554504395, \"percentile_inc_nulls\": 0.5257226228713989, \"value_count\": 239, \"group_name\": \"first_name\", \"total_non_null_rows\": 50511, \"total_rows_inc_nulls\": 50578, \"sum_tokens_in_value_count_group\": 239.0, \"distinct_value_count\": 4413}, {\"percentile_ex_nulls\": 0.5204806923866272, \"percentile_inc_nulls\": 0.5211158990859985, \"value_count\": 233, \"group_name\": \"first_name\", \"total_non_null_rows\": 50511, \"total_rows_inc_nulls\": 50578, \"sum_tokens_in_value_count_group\": 233.0, \"distinct_value_count\": 4413}, {\"percentile_ex_nulls\": 0.5164815187454224, \"percentile_inc_nulls\": 0.5171220302581787, \"value_count\": 202, \"group_name\": \"first_name\", \"total_non_null_rows\": 50511, \"total_rows_inc_nulls\": 50578, \"sum_tokens_in_value_count_group\": 202.0, \"distinct_value_count\": 4413}, {\"percentile_ex_nulls\": 0.51287841796875, \"percentile_inc_nulls\": 0.5135236978530884, \"value_count\": 182, \"group_name\": \"first_name\", \"total_non_null_rows\": 50511, \"total_rows_inc_nulls\": 50578, \"sum_tokens_in_value_count_group\": 182.0, \"distinct_value_count\": 4413}, {\"percentile_ex_nulls\": 0.5092949867248535, \"percentile_inc_nulls\": 0.5099450349807739, \"value_count\": 181, \"group_name\": \"first_name\", \"total_non_null_rows\": 50511, \"total_rows_inc_nulls\": 50578, \"sum_tokens_in_value_count_group\": 181.0, \"distinct_value_count\": 4413}, {\"percentile_ex_nulls\": 0.5058304071426392, \"percentile_inc_nulls\": 0.5064850449562073, \"value_count\": 175, \"group_name\": \"first_name\", \"total_non_null_rows\": 50511, \"total_rows_inc_nulls\": 50578, \"sum_tokens_in_value_count_group\": 175.0, \"distinct_value_count\": 4413}, {\"percentile_ex_nulls\": 0.49898040294647217, \"percentile_inc_nulls\": 0.49964410066604614, \"value_count\": 173, \"group_name\": \"first_name\", \"total_non_null_rows\": 50511, \"total_rows_inc_nulls\": 50578, \"sum_tokens_in_value_count_group\": 346.0, \"distinct_value_count\": 4413}, {\"percentile_ex_nulls\": 0.49563461542129517, \"percentile_inc_nulls\": 0.4963027238845825, \"value_count\": 169, \"group_name\": \"first_name\", \"total_non_null_rows\": 50511, \"total_rows_inc_nulls\": 50578, \"sum_tokens_in_value_count_group\": 169.0, \"distinct_value_count\": 4413}, {\"percentile_ex_nulls\": 0.4923086166381836, \"percentile_inc_nulls\": 0.4929811358451843, \"value_count\": 168, \"group_name\": \"first_name\", \"total_non_null_rows\": 50511, \"total_rows_inc_nulls\": 50578, \"sum_tokens_in_value_count_group\": 168.0, \"distinct_value_count\": 4413}, {\"percentile_ex_nulls\": 0.4890221953392029, \"percentile_inc_nulls\": 0.4896990656852722, \"value_count\": 166, \"group_name\": \"first_name\", \"total_non_null_rows\": 50511, \"total_rows_inc_nulls\": 50578, \"sum_tokens_in_value_count_group\": 166.0, \"distinct_value_count\": 4413}, {\"percentile_ex_nulls\": 0.48587435483932495, \"percentile_inc_nulls\": 0.48655539751052856, \"value_count\": 159, \"group_name\": \"first_name\", \"total_non_null_rows\": 50511, \"total_rows_inc_nulls\": 50578, \"sum_tokens_in_value_count_group\": 159.0, \"distinct_value_count\": 4413}, {\"percentile_ex_nulls\": 0.4827859401702881, \"percentile_inc_nulls\": 0.4834710955619812, \"value_count\": 156, \"group_name\": \"first_name\", \"total_non_null_rows\": 50511, \"total_rows_inc_nulls\": 50578, \"sum_tokens_in_value_count_group\": 156.0, \"distinct_value_count\": 4413}, {\"percentile_ex_nulls\": 0.47664862871170044, \"percentile_inc_nulls\": 0.4773419499397278, \"value_count\": 155, \"group_name\": \"first_name\", \"total_non_null_rows\": 50511, \"total_rows_inc_nulls\": 50578, \"sum_tokens_in_value_count_group\": 310.0, \"distinct_value_count\": 4413}, {\"percentile_ex_nulls\": 0.4705509543418884, \"percentile_inc_nulls\": 0.47125232219696045, \"value_count\": 154, \"group_name\": \"first_name\", \"total_non_null_rows\": 50511, \"total_rows_inc_nulls\": 50578, \"sum_tokens_in_value_count_group\": 308.0, \"distinct_value_count\": 4413}, {\"percentile_ex_nulls\": 0.4675813317298889, \"percentile_inc_nulls\": 0.4682866334915161, \"value_count\": 150, \"group_name\": \"first_name\", \"total_non_null_rows\": 50511, \"total_rows_inc_nulls\": 50578, \"sum_tokens_in_value_count_group\": 150.0, \"distinct_value_count\": 4413}, {\"percentile_ex_nulls\": 0.46471065282821655, \"percentile_inc_nulls\": 0.4654197692871094, \"value_count\": 145, \"group_name\": \"first_name\", \"total_non_null_rows\": 50511, \"total_rows_inc_nulls\": 50578, \"sum_tokens_in_value_count_group\": 145.0, \"distinct_value_count\": 4413}, {\"percentile_ex_nulls\": 0.46195876598358154, \"percentile_inc_nulls\": 0.46267151832580566, \"value_count\": 139, \"group_name\": \"first_name\", \"total_non_null_rows\": 50511, \"total_rows_inc_nulls\": 50578, \"sum_tokens_in_value_count_group\": 139.0, \"distinct_value_count\": 4413}, {\"percentile_ex_nulls\": 0.459286093711853, \"percentile_inc_nulls\": 0.4600023627281189, \"value_count\": 135, \"group_name\": \"first_name\", \"total_non_null_rows\": 50511, \"total_rows_inc_nulls\": 50578, \"sum_tokens_in_value_count_group\": 135.0, \"distinct_value_count\": 4413}, {\"percentile_ex_nulls\": 0.45405954122543335, \"percentile_inc_nulls\": 0.45478272438049316, \"value_count\": 132, \"group_name\": \"first_name\", \"total_non_null_rows\": 50511, \"total_rows_inc_nulls\": 50578, \"sum_tokens_in_value_count_group\": 264.0, \"distinct_value_count\": 4413}, {\"percentile_ex_nulls\": 0.451485812664032, \"percentile_inc_nulls\": 0.45221245288848877, \"value_count\": 130, \"group_name\": \"first_name\", \"total_non_null_rows\": 50511, \"total_rows_inc_nulls\": 50578, \"sum_tokens_in_value_count_group\": 130.0, \"distinct_value_count\": 4413}, {\"percentile_ex_nulls\": 0.4464572072029114, \"percentile_inc_nulls\": 0.44719046354293823, \"value_count\": 127, \"group_name\": \"first_name\", \"total_non_null_rows\": 50511, \"total_rows_inc_nulls\": 50578, \"sum_tokens_in_value_count_group\": 254.0, \"distinct_value_count\": 4413}, {\"percentile_ex_nulls\": 0.44402211904525757, \"percentile_inc_nulls\": 0.4447585940361023, \"value_count\": 123, \"group_name\": \"first_name\", \"total_non_null_rows\": 50511, \"total_rows_inc_nulls\": 50578, \"sum_tokens_in_value_count_group\": 123.0, \"distinct_value_count\": 4413}, {\"percentile_ex_nulls\": 0.44164639711380005, \"percentile_inc_nulls\": 0.44238603115081787, \"value_count\": 120, \"group_name\": \"first_name\", \"total_non_null_rows\": 50511, \"total_rows_inc_nulls\": 50578, \"sum_tokens_in_value_count_group\": 120.0, \"distinct_value_count\": 4413}, {\"percentile_ex_nulls\": 0.4393102526664734, \"percentile_inc_nulls\": 0.44005298614501953, \"value_count\": 118, \"group_name\": \"first_name\", \"total_non_null_rows\": 50511, \"total_rows_inc_nulls\": 50578, \"sum_tokens_in_value_count_group\": 118.0, \"distinct_value_count\": 4413}, {\"percentile_ex_nulls\": 0.4370335340499878, \"percentile_inc_nulls\": 0.4377792477607727, \"value_count\": 115, \"group_name\": \"first_name\", \"total_non_null_rows\": 50511, \"total_rows_inc_nulls\": 50578, \"sum_tokens_in_value_count_group\": 115.0, \"distinct_value_count\": 4413}, {\"percentile_ex_nulls\": 0.4347766041755676, \"percentile_inc_nulls\": 0.4355252981185913, \"value_count\": 114, \"group_name\": \"first_name\", \"total_non_null_rows\": 50511, \"total_rows_inc_nulls\": 50578, \"sum_tokens_in_value_count_group\": 114.0, \"distinct_value_count\": 4413}, {\"percentile_ex_nulls\": 0.4325592517852783, \"percentile_inc_nulls\": 0.43331092596054077, \"value_count\": 112, \"group_name\": \"first_name\", \"total_non_null_rows\": 50511, \"total_rows_inc_nulls\": 50578, \"sum_tokens_in_value_count_group\": 112.0, \"distinct_value_count\": 4413}, {\"percentile_ex_nulls\": 0.4304013252258301, \"percentile_inc_nulls\": 0.43115586042404175, \"value_count\": 109, \"group_name\": \"first_name\", \"total_non_null_rows\": 50511, \"total_rows_inc_nulls\": 50578, \"sum_tokens_in_value_count_group\": 109.0, \"distinct_value_count\": 4413}, {\"percentile_ex_nulls\": 0.4283621311187744, \"percentile_inc_nulls\": 0.42911940813064575, \"value_count\": 103, \"group_name\": \"first_name\", \"total_non_null_rows\": 50511, \"total_rows_inc_nulls\": 50578, \"sum_tokens_in_value_count_group\": 103.0, \"distinct_value_count\": 4413}, {\"percentile_ex_nulls\": 0.42634278535842896, \"percentile_inc_nulls\": 0.4271026849746704, \"value_count\": 102, \"group_name\": \"first_name\", \"total_non_null_rows\": 50511, \"total_rows_inc_nulls\": 50578, \"sum_tokens_in_value_count_group\": 102.0, \"distinct_value_count\": 4413}, {\"percentile_ex_nulls\": 0.4223436713218689, \"percentile_inc_nulls\": 0.42310887575149536, \"value_count\": 101, \"group_name\": \"first_name\", \"total_non_null_rows\": 50511, \"total_rows_inc_nulls\": 50578, \"sum_tokens_in_value_count_group\": 202.0, \"distinct_value_count\": 4413}, {\"percentile_ex_nulls\": 0.4203639030456543, \"percentile_inc_nulls\": 0.4211317300796509, \"value_count\": 100, \"group_name\": \"first_name\", \"total_non_null_rows\": 50511, \"total_rows_inc_nulls\": 50578, \"sum_tokens_in_value_count_group\": 100.0, \"distinct_value_count\": 4413}, {\"percentile_ex_nulls\": 0.418443500995636, \"percentile_inc_nulls\": 0.4192138910293579, \"value_count\": 97, \"group_name\": \"first_name\", \"total_non_null_rows\": 50511, \"total_rows_inc_nulls\": 50578, \"sum_tokens_in_value_count_group\": 97.0, \"distinct_value_count\": 4413}, {\"percentile_ex_nulls\": 0.4165429472923279, \"percentile_inc_nulls\": 0.41731584072113037, \"value_count\": 96, \"group_name\": \"first_name\", \"total_non_null_rows\": 50511, \"total_rows_inc_nulls\": 50578, \"sum_tokens_in_value_count_group\": 96.0, \"distinct_value_count\": 4413}, {\"percentile_ex_nulls\": 0.4146621823310852, \"percentile_inc_nulls\": 0.4154375195503235, \"value_count\": 95, \"group_name\": \"first_name\", \"total_non_null_rows\": 50511, \"total_rows_inc_nulls\": 50578, \"sum_tokens_in_value_count_group\": 95.0, \"distinct_value_count\": 4413}, {\"percentile_ex_nulls\": 0.4128011465072632, \"percentile_inc_nulls\": 0.4135790467262268, \"value_count\": 94, \"group_name\": \"first_name\", \"total_non_null_rows\": 50511, \"total_rows_inc_nulls\": 50578, \"sum_tokens_in_value_count_group\": 94.0, \"distinct_value_count\": 4413}, {\"percentile_ex_nulls\": 0.4055156111717224, \"percentile_inc_nulls\": 0.4063031077384949, \"value_count\": 92, \"group_name\": \"first_name\", \"total_non_null_rows\": 50511, \"total_rows_inc_nulls\": 50578, \"sum_tokens_in_value_count_group\": 368.0, \"distinct_value_count\": 4413}, {\"percentile_ex_nulls\": 0.4001108407974243, \"percentile_inc_nulls\": 0.4009055495262146, \"value_count\": 91, \"group_name\": \"first_name\", \"total_non_null_rows\": 50511, \"total_rows_inc_nulls\": 50578, \"sum_tokens_in_value_count_group\": 273.0, \"distinct_value_count\": 4413}, {\"percentile_ex_nulls\": 0.39832907915115356, \"percentile_inc_nulls\": 0.3991261124610901, \"value_count\": 90, \"group_name\": \"first_name\", \"total_non_null_rows\": 50511, \"total_rows_inc_nulls\": 50578, \"sum_tokens_in_value_count_group\": 90.0, \"distinct_value_count\": 4413}, {\"percentile_ex_nulls\": 0.3948447108268738, \"percentile_inc_nulls\": 0.395646333694458, \"value_count\": 88, \"group_name\": \"first_name\", \"total_non_null_rows\": 50511, \"total_rows_inc_nulls\": 50578, \"sum_tokens_in_value_count_group\": 176.0, \"distinct_value_count\": 4413}, {\"percentile_ex_nulls\": 0.39139991998672485, \"percentile_inc_nulls\": 0.392206072807312, \"value_count\": 87, \"group_name\": \"first_name\", \"total_non_null_rows\": 50511, \"total_rows_inc_nulls\": 50578, \"sum_tokens_in_value_count_group\": 174.0, \"distinct_value_count\": 4413}, {\"percentile_ex_nulls\": 0.38971710205078125, \"percentile_inc_nulls\": 0.3905255198478699, \"value_count\": 85, \"group_name\": \"first_name\", \"total_non_null_rows\": 50511, \"total_rows_inc_nulls\": 50578, \"sum_tokens_in_value_count_group\": 85.0, \"distinct_value_count\": 4413}, {\"percentile_ex_nulls\": 0.3864702582359314, \"percentile_inc_nulls\": 0.3872830271720886, \"value_count\": 82, \"group_name\": \"first_name\", \"total_non_null_rows\": 50511, \"total_rows_inc_nulls\": 50578, \"sum_tokens_in_value_count_group\": 164.0, \"distinct_value_count\": 4413}, {\"percentile_ex_nulls\": 0.3848666548728943, \"percentile_inc_nulls\": 0.38568150997161865, \"value_count\": 81, \"group_name\": \"first_name\", \"total_non_null_rows\": 50511, \"total_rows_inc_nulls\": 50578, \"sum_tokens_in_value_count_group\": 81.0, \"distinct_value_count\": 4413}, {\"percentile_ex_nulls\": 0.3816990256309509, \"percentile_inc_nulls\": 0.38251811265945435, \"value_count\": 80, \"group_name\": \"first_name\", \"total_non_null_rows\": 50511, \"total_rows_inc_nulls\": 50578, \"sum_tokens_in_value_count_group\": 160.0, \"distinct_value_count\": 4413}, {\"percentile_ex_nulls\": 0.3801349997520447, \"percentile_inc_nulls\": 0.38095617294311523, \"value_count\": 79, \"group_name\": \"first_name\", \"total_non_null_rows\": 50511, \"total_rows_inc_nulls\": 50578, \"sum_tokens_in_value_count_group\": 79.0, \"distinct_value_count\": 4413}, {\"percentile_ex_nulls\": 0.37859082221984863, \"percentile_inc_nulls\": 0.3794139623641968, \"value_count\": 78, \"group_name\": \"first_name\", \"total_non_null_rows\": 50511, \"total_rows_inc_nulls\": 50578, \"sum_tokens_in_value_count_group\": 78.0, \"distinct_value_count\": 4413}, {\"percentile_ex_nulls\": 0.37706637382507324, \"percentile_inc_nulls\": 0.3778916001319885, \"value_count\": 77, \"group_name\": \"first_name\", \"total_non_null_rows\": 50511, \"total_rows_inc_nulls\": 50578, \"sum_tokens_in_value_count_group\": 77.0, \"distinct_value_count\": 4413}, {\"percentile_ex_nulls\": 0.37556177377700806, \"percentile_inc_nulls\": 0.3763889670372009, \"value_count\": 76, \"group_name\": \"first_name\", \"total_non_null_rows\": 50511, \"total_rows_inc_nulls\": 50578, \"sum_tokens_in_value_count_group\": 76.0, \"distinct_value_count\": 4413}, {\"percentile_ex_nulls\": 0.3740769624710083, \"percentile_inc_nulls\": 0.374906063079834, \"value_count\": 75, \"group_name\": \"first_name\", \"total_non_null_rows\": 50511, \"total_rows_inc_nulls\": 50578, \"sum_tokens_in_value_count_group\": 75.0, \"distinct_value_count\": 4413}, {\"percentile_ex_nulls\": 0.3726118803024292, \"percentile_inc_nulls\": 0.37344300746917725, \"value_count\": 74, \"group_name\": \"first_name\", \"total_non_null_rows\": 50511, \"total_rows_inc_nulls\": 50578, \"sum_tokens_in_value_count_group\": 74.0, \"distinct_value_count\": 4413}, {\"percentile_ex_nulls\": 0.3697214722633362, \"percentile_inc_nulls\": 0.3705563545227051, \"value_count\": 73, \"group_name\": \"first_name\", \"total_non_null_rows\": 50511, \"total_rows_inc_nulls\": 50578, \"sum_tokens_in_value_count_group\": 146.0, \"distinct_value_count\": 4413}, {\"percentile_ex_nulls\": 0.36687058210372925, \"percentile_inc_nulls\": 0.36770927906036377, \"value_count\": 72, \"group_name\": \"first_name\", \"total_non_null_rows\": 50511, \"total_rows_inc_nulls\": 50578, \"sum_tokens_in_value_count_group\": 144.0, \"distinct_value_count\": 4413}, {\"percentile_ex_nulls\": 0.3654649257659912, \"percentile_inc_nulls\": 0.36630553007125854, \"value_count\": 71, \"group_name\": \"first_name\", \"total_non_null_rows\": 50511, \"total_rows_inc_nulls\": 50578, \"sum_tokens_in_value_count_group\": 71.0, \"distinct_value_count\": 4413}, {\"percentile_ex_nulls\": 0.3640791177749634, \"percentile_inc_nulls\": 0.364921510219574, \"value_count\": 70, \"group_name\": \"first_name\", \"total_non_null_rows\": 50511, \"total_rows_inc_nulls\": 50578, \"sum_tokens_in_value_count_group\": 70.0, \"distinct_value_count\": 4413}, {\"percentile_ex_nulls\": 0.362713098526001, \"percentile_inc_nulls\": 0.36355727910995483, \"value_count\": 69, \"group_name\": \"first_name\", \"total_non_null_rows\": 50511, \"total_rows_inc_nulls\": 50578, \"sum_tokens_in_value_count_group\": 69.0, \"distinct_value_count\": 4413}, {\"percentile_ex_nulls\": 0.3586743474006653, \"percentile_inc_nulls\": 0.3595238924026489, \"value_count\": 68, \"group_name\": \"first_name\", \"total_non_null_rows\": 50511, \"total_rows_inc_nulls\": 50578, \"sum_tokens_in_value_count_group\": 204.0, \"distinct_value_count\": 4413}, {\"percentile_ex_nulls\": 0.35734790563583374, \"percentile_inc_nulls\": 0.35819923877716064, \"value_count\": 67, \"group_name\": \"first_name\", \"total_non_null_rows\": 50511, \"total_rows_inc_nulls\": 50578, \"sum_tokens_in_value_count_group\": 67.0, \"distinct_value_count\": 4413}, {\"percentile_ex_nulls\": 0.35606104135513306, \"percentile_inc_nulls\": 0.35691410303115845, \"value_count\": 65, \"group_name\": \"first_name\", \"total_non_null_rows\": 50511, \"total_rows_inc_nulls\": 50578, \"sum_tokens_in_value_count_group\": 65.0, \"distinct_value_count\": 4413}, {\"percentile_ex_nulls\": 0.3547940254211426, \"percentile_inc_nulls\": 0.3556486964225769, \"value_count\": 64, \"group_name\": \"first_name\", \"total_non_null_rows\": 50511, \"total_rows_inc_nulls\": 50578, \"sum_tokens_in_value_count_group\": 64.0, \"distinct_value_count\": 4413}, {\"percentile_ex_nulls\": 0.3522995114326477, \"percentile_inc_nulls\": 0.35315752029418945, \"value_count\": 63, \"group_name\": \"first_name\", \"total_non_null_rows\": 50511, \"total_rows_inc_nulls\": 50578, \"sum_tokens_in_value_count_group\": 126.0, \"distinct_value_count\": 4413}, {\"percentile_ex_nulls\": 0.3510720729827881, \"percentile_inc_nulls\": 0.35193169116973877, \"value_count\": 62, \"group_name\": \"first_name\", \"total_non_null_rows\": 50511, \"total_rows_inc_nulls\": 50578, \"sum_tokens_in_value_count_group\": 62.0, \"distinct_value_count\": 4413}, {\"percentile_ex_nulls\": 0.34744906425476074, \"percentile_inc_nulls\": 0.34831351041793823, \"value_count\": 61, \"group_name\": \"first_name\", \"total_non_null_rows\": 50511, \"total_rows_inc_nulls\": 50578, \"sum_tokens_in_value_count_group\": 183.0, \"distinct_value_count\": 4413}, {\"percentile_ex_nulls\": 0.3427768349647522, \"percentile_inc_nulls\": 0.34364742040634155, \"value_count\": 59, \"group_name\": \"first_name\", \"total_non_null_rows\": 50511, \"total_rows_inc_nulls\": 50578, \"sum_tokens_in_value_count_group\": 236.0, \"distinct_value_count\": 4413}, {\"percentile_ex_nulls\": 0.33933204412460327, \"percentile_inc_nulls\": 0.34020721912384033, \"value_count\": 58, \"group_name\": \"first_name\", \"total_non_null_rows\": 50511, \"total_rows_inc_nulls\": 50578, \"sum_tokens_in_value_count_group\": 174.0, \"distinct_value_count\": 4413}, {\"percentile_ex_nulls\": 0.3382035493850708, \"percentile_inc_nulls\": 0.33908021450042725, \"value_count\": 57, \"group_name\": \"first_name\", \"total_non_null_rows\": 50511, \"total_rows_inc_nulls\": 50578, \"sum_tokens_in_value_count_group\": 57.0, \"distinct_value_count\": 4413}, {\"percentile_ex_nulls\": 0.33709490299224854, \"percentile_inc_nulls\": 0.33797305822372437, \"value_count\": 56, \"group_name\": \"first_name\", \"total_non_null_rows\": 50511, \"total_rows_inc_nulls\": 50578, \"sum_tokens_in_value_count_group\": 56.0, \"distinct_value_count\": 4413}, {\"percentile_ex_nulls\": 0.33602583408355713, \"percentile_inc_nulls\": 0.3369053602218628, \"value_count\": 54, \"group_name\": \"first_name\", \"total_non_null_rows\": 50511, \"total_rows_inc_nulls\": 50578, \"sum_tokens_in_value_count_group\": 54.0, \"distinct_value_count\": 4413}, {\"percentile_ex_nulls\": 0.3328779935836792, \"percentile_inc_nulls\": 0.33376169204711914, \"value_count\": 53, \"group_name\": \"first_name\", \"total_non_null_rows\": 50511, \"total_rows_inc_nulls\": 50578, \"sum_tokens_in_value_count_group\": 159.0, \"distinct_value_count\": 4413}, {\"percentile_ex_nulls\": 0.3287600874900818, \"percentile_inc_nulls\": 0.32964926958084106, \"value_count\": 52, \"group_name\": \"first_name\", \"total_non_null_rows\": 50511, \"total_rows_inc_nulls\": 50578, \"sum_tokens_in_value_count_group\": 208.0, \"distinct_value_count\": 4413}, {\"percentile_ex_nulls\": 0.32674068212509155, \"percentile_inc_nulls\": 0.3276325464248657, \"value_count\": 51, \"group_name\": \"first_name\", \"total_non_null_rows\": 50511, \"total_rows_inc_nulls\": 50578, \"sum_tokens_in_value_count_group\": 102.0, \"distinct_value_count\": 4413}, {\"percentile_ex_nulls\": 0.32575082778930664, \"percentile_inc_nulls\": 0.32664400339126587, \"value_count\": 50, \"group_name\": \"first_name\", \"total_non_null_rows\": 50511, \"total_rows_inc_nulls\": 50578, \"sum_tokens_in_value_count_group\": 50.0, \"distinct_value_count\": 4413}, {\"percentile_ex_nulls\": 0.3238106369972229, \"percentile_inc_nulls\": 0.32470637559890747, \"value_count\": 49, \"group_name\": \"first_name\", \"total_non_null_rows\": 50511, \"total_rows_inc_nulls\": 50578, \"sum_tokens_in_value_count_group\": 98.0, \"distinct_value_count\": 4413}, {\"percentile_ex_nulls\": 0.32095980644226074, \"percentile_inc_nulls\": 0.32185930013656616, \"value_count\": 48, \"group_name\": \"first_name\", \"total_non_null_rows\": 50511, \"total_rows_inc_nulls\": 50578, \"sum_tokens_in_value_count_group\": 144.0, \"distinct_value_count\": 4413}, {\"percentile_ex_nulls\": 0.3200293183326721, \"percentile_inc_nulls\": 0.3209300637245178, \"value_count\": 47, \"group_name\": \"first_name\", \"total_non_null_rows\": 50511, \"total_rows_inc_nulls\": 50578, \"sum_tokens_in_value_count_group\": 47.0, \"distinct_value_count\": 4413}, {\"percentile_ex_nulls\": 0.31729722023010254, \"percentile_inc_nulls\": 0.31820160150527954, \"value_count\": 46, \"group_name\": \"first_name\", \"total_non_null_rows\": 50511, \"total_rows_inc_nulls\": 50578, \"sum_tokens_in_value_count_group\": 138.0, \"distinct_value_count\": 4413}, {\"percentile_ex_nulls\": 0.31373363733291626, \"percentile_inc_nulls\": 0.3146427273750305, \"value_count\": 45, \"group_name\": \"first_name\", \"total_non_null_rows\": 50511, \"total_rows_inc_nulls\": 50578, \"sum_tokens_in_value_count_group\": 180.0, \"distinct_value_count\": 4413}, {\"percentile_ex_nulls\": 0.30937814712524414, \"percentile_inc_nulls\": 0.3102930188179016, \"value_count\": 44, \"group_name\": \"first_name\", \"total_non_null_rows\": 50511, \"total_rows_inc_nulls\": 50578, \"sum_tokens_in_value_count_group\": 220.0, \"distinct_value_count\": 4413}, {\"percentile_ex_nulls\": 0.3076755404472351, \"percentile_inc_nulls\": 0.30859267711639404, \"value_count\": 43, \"group_name\": \"first_name\", \"total_non_null_rows\": 50511, \"total_rows_inc_nulls\": 50578, \"sum_tokens_in_value_count_group\": 86.0, \"distinct_value_count\": 4413}, {\"percentile_ex_nulls\": 0.30434954166412354, \"percentile_inc_nulls\": 0.30527108907699585, \"value_count\": 42, \"group_name\": \"first_name\", \"total_non_null_rows\": 50511, \"total_rows_inc_nulls\": 50578, \"sum_tokens_in_value_count_group\": 168.0, \"distinct_value_count\": 4413}, {\"percentile_ex_nulls\": 0.30353784561157227, \"percentile_inc_nulls\": 0.30446046590805054, \"value_count\": 41, \"group_name\": \"first_name\", \"total_non_null_rows\": 50511, \"total_rows_inc_nulls\": 50578, \"sum_tokens_in_value_count_group\": 41.0, \"distinct_value_count\": 4413}, {\"percentile_ex_nulls\": 0.2987864017486572, \"percentile_inc_nulls\": 0.2997152805328369, \"value_count\": 40, \"group_name\": \"first_name\", \"total_non_null_rows\": 50511, \"total_rows_inc_nulls\": 50578, \"sum_tokens_in_value_count_group\": 240.0, \"distinct_value_count\": 4413}, {\"percentile_ex_nulls\": 0.29569798707962036, \"percentile_inc_nulls\": 0.2966309189796448, \"value_count\": 39, \"group_name\": \"first_name\", \"total_non_null_rows\": 50511, \"total_rows_inc_nulls\": 50578, \"sum_tokens_in_value_count_group\": 156.0, \"distinct_value_count\": 4413}, {\"percentile_ex_nulls\": 0.2934410572052002, \"percentile_inc_nulls\": 0.29437702894210815, \"value_count\": 38, \"group_name\": \"first_name\", \"total_non_null_rows\": 50511, \"total_rows_inc_nulls\": 50578, \"sum_tokens_in_value_count_group\": 114.0, \"distinct_value_count\": 4413}, {\"percentile_ex_nulls\": 0.2912434935569763, \"percentile_inc_nulls\": 0.29218238592147827, \"value_count\": 37, \"group_name\": \"first_name\", \"total_non_null_rows\": 50511, \"total_rows_inc_nulls\": 50578, \"sum_tokens_in_value_count_group\": 111.0, \"distinct_value_count\": 4413}, {\"percentile_ex_nulls\": 0.2891647219657898, \"percentile_inc_nulls\": 0.2901063561439514, \"value_count\": 35, \"group_name\": \"first_name\", \"total_non_null_rows\": 50511, \"total_rows_inc_nulls\": 50578, \"sum_tokens_in_value_count_group\": 105.0, \"distinct_value_count\": 4413}, {\"percentile_ex_nulls\": 0.28579914569854736, \"percentile_inc_nulls\": 0.28674525022506714, \"value_count\": 34, \"group_name\": \"first_name\", \"total_non_null_rows\": 50511, \"total_rows_inc_nulls\": 50578, \"sum_tokens_in_value_count_group\": 170.0, \"distinct_value_count\": 4413}, {\"percentile_ex_nulls\": 0.281879186630249, \"percentile_inc_nulls\": 0.28283047676086426, \"value_count\": 33, \"group_name\": \"first_name\", \"total_non_null_rows\": 50511, \"total_rows_inc_nulls\": 50578, \"sum_tokens_in_value_count_group\": 198.0, \"distinct_value_count\": 4413}, {\"percentile_ex_nulls\": 0.2799786329269409, \"percentile_inc_nulls\": 0.2809324264526367, \"value_count\": 32, \"group_name\": \"first_name\", \"total_non_null_rows\": 50511, \"total_rows_inc_nulls\": 50578, \"sum_tokens_in_value_count_group\": 96.0, \"distinct_value_count\": 4413}, {\"percentile_ex_nulls\": 0.2775236964225769, \"percentile_inc_nulls\": 0.27848076820373535, \"value_count\": 31, \"group_name\": \"first_name\", \"total_non_null_rows\": 50511, \"total_rows_inc_nulls\": 50578, \"sum_tokens_in_value_count_group\": 124.0, \"distinct_value_count\": 4413}, {\"percentile_ex_nulls\": 0.27336621284484863, \"percentile_inc_nulls\": 0.2743287682533264, \"value_count\": 30, \"group_name\": \"first_name\", \"total_non_null_rows\": 50511, \"total_rows_inc_nulls\": 50578, \"sum_tokens_in_value_count_group\": 210.0, \"distinct_value_count\": 4413}, {\"percentile_ex_nulls\": 0.27049553394317627, \"percentile_inc_nulls\": 0.2714619040489197, \"value_count\": 29, \"group_name\": \"first_name\", \"total_non_null_rows\": 50511, \"total_rows_inc_nulls\": 50578, \"sum_tokens_in_value_count_group\": 145.0, \"distinct_value_count\": 4413}, {\"percentile_ex_nulls\": 0.26772385835647583, \"percentile_inc_nulls\": 0.2686939239501953, \"value_count\": 28, \"group_name\": \"first_name\", \"total_non_null_rows\": 50511, \"total_rows_inc_nulls\": 50578, \"sum_tokens_in_value_count_group\": 140.0, \"distinct_value_count\": 4413}, {\"percentile_ex_nulls\": 0.2639821171760559, \"percentile_inc_nulls\": 0.264957070350647, \"value_count\": 27, \"group_name\": \"first_name\", \"total_non_null_rows\": 50511, \"total_rows_inc_nulls\": 50578, \"sum_tokens_in_value_count_group\": 189.0, \"distinct_value_count\": 4413}, {\"percentile_ex_nulls\": 0.26037895679473877, \"percentile_inc_nulls\": 0.26135867834091187, \"value_count\": 26, \"group_name\": \"first_name\", \"total_non_null_rows\": 50511, \"total_rows_inc_nulls\": 50578, \"sum_tokens_in_value_count_group\": 182.0, \"distinct_value_count\": 4413}, {\"percentile_ex_nulls\": 0.2579042315483093, \"percentile_inc_nulls\": 0.25888729095458984, \"value_count\": 25, \"group_name\": \"first_name\", \"total_non_null_rows\": 50511, \"total_rows_inc_nulls\": 50578, \"sum_tokens_in_value_count_group\": 125.0, \"distinct_value_count\": 4413}, {\"percentile_ex_nulls\": 0.25410306453704834, \"percentile_inc_nulls\": 0.25509113073349, \"value_count\": 24, \"group_name\": \"first_name\", \"total_non_null_rows\": 50511, \"total_rows_inc_nulls\": 50578, \"sum_tokens_in_value_count_group\": 192.0, \"distinct_value_count\": 4413}, {\"percentile_ex_nulls\": 0.25091564655303955, \"percentile_inc_nulls\": 0.25190794467926025, \"value_count\": 23, \"group_name\": \"first_name\", \"total_non_null_rows\": 50511, \"total_rows_inc_nulls\": 50578, \"sum_tokens_in_value_count_group\": 161.0, \"distinct_value_count\": 4413}, {\"percentile_ex_nulls\": 0.24612462520599365, \"percentile_inc_nulls\": 0.24712324142456055, \"value_count\": 22, \"group_name\": \"first_name\", \"total_non_null_rows\": 50511, \"total_rows_inc_nulls\": 50578, \"sum_tokens_in_value_count_group\": 242.0, \"distinct_value_count\": 4413}, {\"percentile_ex_nulls\": 0.2411355972290039, \"percentile_inc_nulls\": 0.24214082956314087, \"value_count\": 21, \"group_name\": \"first_name\", \"total_non_null_rows\": 50511, \"total_rows_inc_nulls\": 50578, \"sum_tokens_in_value_count_group\": 252.0, \"distinct_value_count\": 4413}, {\"percentile_ex_nulls\": 0.23638415336608887, \"percentile_inc_nulls\": 0.23739570379257202, \"value_count\": 20, \"group_name\": \"first_name\", \"total_non_null_rows\": 50511, \"total_rows_inc_nulls\": 50578, \"sum_tokens_in_value_count_group\": 240.0, \"distinct_value_count\": 4413}, {\"percentile_ex_nulls\": 0.22998952865600586, \"percentile_inc_nulls\": 0.23100954294204712, \"value_count\": 19, \"group_name\": \"first_name\", \"total_non_null_rows\": 50511, \"total_rows_inc_nulls\": 50578, \"sum_tokens_in_value_count_group\": 323.0, \"distinct_value_count\": 4413}, {\"percentile_ex_nulls\": 0.2228623628616333, \"percentile_inc_nulls\": 0.22389179468154907, \"value_count\": 18, \"group_name\": \"first_name\", \"total_non_null_rows\": 50511, \"total_rows_inc_nulls\": 50578, \"sum_tokens_in_value_count_group\": 360.0, \"distinct_value_count\": 4413}, {\"percentile_ex_nulls\": 0.2188236117362976, \"percentile_inc_nulls\": 0.21985840797424316, \"value_count\": 17, \"group_name\": \"first_name\", \"total_non_null_rows\": 50511, \"total_rows_inc_nulls\": 50578, \"sum_tokens_in_value_count_group\": 204.0, \"distinct_value_count\": 4413}, {\"percentile_ex_nulls\": 0.20995426177978516, \"percentile_inc_nulls\": 0.21100085973739624, \"value_count\": 16, \"group_name\": \"first_name\", \"total_non_null_rows\": 50511, \"total_rows_inc_nulls\": 50578, \"sum_tokens_in_value_count_group\": 448.0, \"distinct_value_count\": 4413}, {\"percentile_ex_nulls\": 0.20193618535995483, \"percentile_inc_nulls\": 0.20299339294433594, \"value_count\": 15, \"group_name\": \"first_name\", \"total_non_null_rows\": 50511, \"total_rows_inc_nulls\": 50578, \"sum_tokens_in_value_count_group\": 405.0, \"distinct_value_count\": 4413}, {\"percentile_ex_nulls\": 1.0, \"percentile_inc_nulls\": 1.0, \"value_count\": 14, \"group_name\": \"first_name\", \"total_non_null_rows\": 50511, \"total_rows_inc_nulls\": 50578, \"sum_tokens_in_value_count_group\": 378.0, \"distinct_value_count\": 4413}]}, \"encoding\": {\"tooltip\": [{\"field\": \"value_count\", \"type\": \"quantitative\"}, {\"field\": \"percentile_ex_nulls\", \"type\": \"quantitative\"}, {\"field\": \"percentile_inc_nulls\", \"type\": \"quantitative\"}, {\"field\": \"total_non_null_rows\", \"type\": \"quantitative\"}, {\"field\": \"total_rows_inc_nulls\", \"type\": \"quantitative\"}], \"x\": {\"field\": \"percentile_ex_nulls\", \"sort\": \"descending\", \"title\": \"Percentile\", \"type\": \"quantitative\"}, \"y\": {\"field\": \"value_count\", \"title\": \"Count of values\", \"type\": \"quantitative\"}}, \"title\": {\"text\": \"Distribution of counts of values in column first_name\", \"subtitle\": \"In this col, 67 values (0.1%) are null and there are 4413 distinct values\"}}, {\"mark\": \"bar\", \"data\": {\"values\": [{\"value_count\": 2780, \"group_name\": \"first_name\", \"value\": \"william\", \"total_non_null_rows\": 50511, \"total_rows_inc_nulls\": 50578, \"distinct_value_count\": 4413}, {\"value_count\": 2736, \"group_name\": \"first_name\", \"value\": \"john\", \"total_non_null_rows\": 50511, \"total_rows_inc_nulls\": 50578, \"distinct_value_count\": 4413}, {\"value_count\": 1448, \"group_name\": \"first_name\", \"value\": \"thomas\", \"total_non_null_rows\": 50511, \"total_rows_inc_nulls\": 50578, \"distinct_value_count\": 4413}, {\"value_count\": 1415, \"group_name\": \"first_name\", \"value\": \"george\", \"total_non_null_rows\": 50511, \"total_rows_inc_nulls\": 50578, \"distinct_value_count\": 4413}, {\"value_count\": 1306, \"group_name\": \"first_name\", \"value\": \"henry\", \"total_non_null_rows\": 50511, \"total_rows_inc_nulls\": 50578, \"distinct_value_count\": 4413}, {\"value_count\": 1265, \"group_name\": \"first_name\", \"value\": \"james\", \"total_non_null_rows\": 50511, \"total_rows_inc_nulls\": 50578, \"distinct_value_count\": 4413}, {\"value_count\": 1262, \"group_name\": \"first_name\", \"value\": \"sir\", \"total_non_null_rows\": 50511, \"total_rows_inc_nulls\": 50578, \"distinct_value_count\": 4413}, {\"value_count\": 1216, \"group_name\": \"first_name\", \"value\": \"charles\", \"total_non_null_rows\": 50511, \"total_rows_inc_nulls\": 50578, \"distinct_value_count\": 4413}, {\"value_count\": 911, \"group_name\": \"first_name\", \"value\": \"edward\", \"total_non_null_rows\": 50511, \"total_rows_inc_nulls\": 50578, \"distinct_value_count\": 4413}, {\"value_count\": 884, \"group_name\": \"first_name\", \"value\": \"robert\", \"total_non_null_rows\": 50511, \"total_rows_inc_nulls\": 50578, \"distinct_value_count\": 4413}]}, \"encoding\": {\"tooltip\": [{\"field\": \"value\", \"type\": \"nominal\"}, {\"field\": \"value_count\", \"type\": \"quantitative\"}, {\"field\": \"total_non_null_rows\", \"type\": \"quantitative\"}, {\"field\": \"total_rows_inc_nulls\", \"type\": \"quantitative\"}], \"x\": {\"field\": \"value\", \"sort\": \"-y\", \"title\": null, \"type\": \"nominal\"}, \"y\": {\"field\": \"value_count\", \"title\": \"Value count\", \"type\": \"quantitative\"}}, \"title\": \"Top 10 values by value count\"}, {\"mark\": \"bar\", \"data\": {\"values\": [{\"value_count\": 1, \"group_name\": \"first_name\", \"value\": \"aldgyth\", \"total_non_null_rows\": 50511, \"total_rows_inc_nulls\": 50578, \"distinct_value_count\": 4413}, {\"value_count\": 1, \"group_name\": \"first_name\", \"value\": \"gaughan\", \"total_non_null_rows\": 50511, \"total_rows_inc_nulls\": 50578, \"distinct_value_count\": 4413}, {\"value_count\": 1, \"group_name\": \"first_name\", \"value\": \"jerald\", \"total_non_null_rows\": 50511, \"total_rows_inc_nulls\": 50578, \"distinct_value_count\": 4413}, {\"value_count\": 1, \"group_name\": \"first_name\", \"value\": \"watts\", \"total_non_null_rows\": 50511, \"total_rows_inc_nulls\": 50578, \"distinct_value_count\": 4413}, {\"value_count\": 1, \"group_name\": \"first_name\", \"value\": \"ceely\", \"total_non_null_rows\": 50511, \"total_rows_inc_nulls\": 50578, \"distinct_value_count\": 4413}, {\"value_count\": 1, \"group_name\": \"first_name\", \"value\": \"va8ghan\", \"total_non_null_rows\": 50511, \"total_rows_inc_nulls\": 50578, \"distinct_value_count\": 4413}, {\"value_count\": 1, \"group_name\": \"first_name\", \"value\": \"vaighan\", \"total_non_null_rows\": 50511, \"total_rows_inc_nulls\": 50578, \"distinct_value_count\": 4413}, {\"value_count\": 1, \"group_name\": \"first_name\", \"value\": \"quillinan\", \"total_non_null_rows\": 50511, \"total_rows_inc_nulls\": 50578, \"distinct_value_count\": 4413}, {\"value_count\": 1, \"group_name\": \"first_name\", \"value\": \"abheyson\", \"total_non_null_rows\": 50511, \"total_rows_inc_nulls\": 50578, \"distinct_value_count\": 4413}, {\"value_count\": 1, \"group_name\": \"first_name\", \"value\": \"schechter\", \"total_non_null_rows\": 50511, \"total_rows_inc_nulls\": 50578, \"distinct_value_count\": 4413}]}, \"encoding\": {\"tooltip\": [{\"field\": \"value\", \"type\": \"nominal\"}, {\"field\": \"value_count\", \"type\": \"quantitative\"}, {\"field\": \"total_non_null_rows\", \"type\": \"quantitative\"}, {\"field\": \"total_rows_inc_nulls\", \"type\": \"quantitative\"}], \"x\": {\"field\": \"value\", \"sort\": \"-y\", \"title\": null, \"type\": \"nominal\"}, \"y\": {\"field\": \"value_count\", \"scale\": {\"domain\": [0, 2780]}, \"title\": \"Value count\", \"type\": \"quantitative\"}}, \"title\": \"Bottom 10 values by value count\"}]}, {\"hconcat\": [{\"mark\": {\"type\": \"line\", \"interpolate\": \"step-after\"}, \"data\": {\"values\": [{\"percentile_ex_nulls\": 0.5826675295829773, \"percentile_inc_nulls\": 0.6767566800117493, \"value_count\": 13, \"group_name\": \"dob\", \"total_non_null_rows\": 39175, \"total_rows_inc_nulls\": 50578, \"sum_tokens_in_value_count_group\": 728.0, \"distinct_value_count\": 8985}, {\"percentile_ex_nulls\": 0.549891471862793, \"percentile_inc_nulls\": 0.6513701677322388, \"value_count\": 12, \"group_name\": \"dob\", \"total_non_null_rows\": 39175, \"total_rows_inc_nulls\": 50578, \"sum_tokens_in_value_count_group\": 1284.0, \"distinct_value_count\": 8985}, {\"percentile_ex_nulls\": 0.5184428691864014, \"percentile_inc_nulls\": 0.627011775970459, \"value_count\": 11, \"group_name\": \"dob\", \"total_non_null_rows\": 39175, \"total_rows_inc_nulls\": 50578, \"sum_tokens_in_value_count_group\": 1232.0, \"distinct_value_count\": 8985}, {\"percentile_ex_nulls\": 0.4778558015823364, \"percentile_inc_nulls\": 0.5955751538276672, \"value_count\": 10, \"group_name\": \"dob\", \"total_non_null_rows\": 39175, \"total_rows_inc_nulls\": 50578, \"sum_tokens_in_value_count_group\": 1590.0, \"distinct_value_count\": 8985}, {\"percentile_ex_nulls\": 0.4351244568824768, \"percentile_inc_nulls\": 0.5624777674674988, \"value_count\": 9, \"group_name\": \"dob\", \"total_non_null_rows\": 39175, \"total_rows_inc_nulls\": 50578, \"sum_tokens_in_value_count_group\": 1674.0, \"distinct_value_count\": 8985}, {\"percentile_ex_nulls\": 0.3899936079978943, \"percentile_inc_nulls\": 0.5275218486785889, \"value_count\": 8, \"group_name\": \"dob\", \"total_non_null_rows\": 39175, \"total_rows_inc_nulls\": 50578, \"sum_tokens_in_value_count_group\": 1768.0, \"distinct_value_count\": 8985}, {\"percentile_ex_nulls\": 0.34603703022003174, \"percentile_inc_nulls\": 0.49347543716430664, \"value_count\": 7, \"group_name\": \"dob\", \"total_non_null_rows\": 39175, \"total_rows_inc_nulls\": 50578, \"sum_tokens_in_value_count_group\": 1722.0, \"distinct_value_count\": 8985}, {\"percentile_ex_nulls\": 0.30437779426574707, \"percentile_inc_nulls\": 0.46120840311050415, \"value_count\": 6, \"group_name\": \"dob\", \"total_non_null_rows\": 39175, \"total_rows_inc_nulls\": 50578, \"sum_tokens_in_value_count_group\": 1632.0, \"distinct_value_count\": 8985}, {\"percentile_ex_nulls\": 0.26340776681900024, \"percentile_inc_nulls\": 0.42947524785995483, \"value_count\": 5, \"group_name\": \"dob\", \"total_non_null_rows\": 39175, \"total_rows_inc_nulls\": 50578, \"sum_tokens_in_value_count_group\": 1605.0, \"distinct_value_count\": 8985}, {\"percentile_ex_nulls\": 0.22430121898651123, \"percentile_inc_nulls\": 0.3991854190826416, \"value_count\": 4, \"group_name\": \"dob\", \"total_non_null_rows\": 39175, \"total_rows_inc_nulls\": 50578, \"sum_tokens_in_value_count_group\": 1532.0, \"distinct_value_count\": 8985}, {\"percentile_ex_nulls\": 0.18179959058761597, \"percentile_inc_nulls\": 0.3662659525871277, \"value_count\": 3, \"group_name\": \"dob\", \"total_non_null_rows\": 39175, \"total_rows_inc_nulls\": 50578, \"sum_tokens_in_value_count_group\": 1665.0, \"distinct_value_count\": 8985}, {\"percentile_ex_nulls\": 0.12528395652770996, \"percentile_inc_nulls\": 0.32249200344085693, \"value_count\": 2, \"group_name\": \"dob\", \"total_non_null_rows\": 39175, \"total_rows_inc_nulls\": 50578, \"sum_tokens_in_value_count_group\": 2214.0, \"distinct_value_count\": 8985}, {\"percentile_ex_nulls\": 0.0, \"percentile_inc_nulls\": 0.22545373439788818, \"value_count\": 1, \"group_name\": \"dob\", \"total_non_null_rows\": 39175, \"total_rows_inc_nulls\": 50578, \"sum_tokens_in_value_count_group\": 4908.0, \"distinct_value_count\": 8985}, {\"percentile_ex_nulls\": 0.768474817276001, \"percentile_inc_nulls\": 0.8206729888916016, \"value_count\": 60, \"group_name\": \"dob\", \"total_non_null_rows\": 39175, \"total_rows_inc_nulls\": 50578, \"sum_tokens_in_value_count_group\": 180.0, \"distinct_value_count\": 8985}, {\"percentile_ex_nulls\": 0.7669942378997803, \"percentile_inc_nulls\": 0.8195262551307678, \"value_count\": 58, \"group_name\": \"dob\", \"total_non_null_rows\": 39175, \"total_rows_inc_nulls\": 50578, \"sum_tokens_in_value_count_group\": 58.0, \"distinct_value_count\": 8985}, {\"percentile_ex_nulls\": 0.7641863226890564, \"percentile_inc_nulls\": 0.8173514008522034, \"value_count\": 55, \"group_name\": \"dob\", \"total_non_null_rows\": 39175, \"total_rows_inc_nulls\": 50578, \"sum_tokens_in_value_count_group\": 110.0, \"distinct_value_count\": 8985}, {\"percentile_ex_nulls\": 0.7628079056739807, \"percentile_inc_nulls\": 0.8162837624549866, \"value_count\": 54, \"group_name\": \"dob\", \"total_non_null_rows\": 39175, \"total_rows_inc_nulls\": 50578, \"sum_tokens_in_value_count_group\": 54.0, \"distinct_value_count\": 8985}, {\"percentile_ex_nulls\": 0.7614805698394775, \"percentile_inc_nulls\": 0.8152556419372559, \"value_count\": 52, \"group_name\": \"dob\", \"total_non_null_rows\": 39175, \"total_rows_inc_nulls\": 50578, \"sum_tokens_in_value_count_group\": 52.0, \"distinct_value_count\": 8985}, {\"percentile_ex_nulls\": 0.7576515674591064, \"percentile_inc_nulls\": 0.8122899532318115, \"value_count\": 50, \"group_name\": \"dob\", \"total_non_null_rows\": 39175, \"total_rows_inc_nulls\": 50578, \"sum_tokens_in_value_count_group\": 150.0, \"distinct_value_count\": 8985}, {\"percentile_ex_nulls\": 0.7564007639884949, \"percentile_inc_nulls\": 0.8113211393356323, \"value_count\": 49, \"group_name\": \"dob\", \"total_non_null_rows\": 39175, \"total_rows_inc_nulls\": 50578, \"sum_tokens_in_value_count_group\": 49.0, \"distinct_value_count\": 8985}, {\"percentile_ex_nulls\": 0.7551754713058472, \"percentile_inc_nulls\": 0.8103721141815186, \"value_count\": 48, \"group_name\": \"dob\", \"total_non_null_rows\": 39175, \"total_rows_inc_nulls\": 50578, \"sum_tokens_in_value_count_group\": 48.0, \"distinct_value_count\": 8985}, {\"percentile_ex_nulls\": 0.7539757490158081, \"percentile_inc_nulls\": 0.8094428777694702, \"value_count\": 47, \"group_name\": \"dob\", \"total_non_null_rows\": 39175, \"total_rows_inc_nulls\": 50578, \"sum_tokens_in_value_count_group\": 47.0, \"distinct_value_count\": 8985}, {\"percentile_ex_nulls\": 0.7504531145095825, \"percentile_inc_nulls\": 0.8067144155502319, \"value_count\": 46, \"group_name\": \"dob\", \"total_non_null_rows\": 39175, \"total_rows_inc_nulls\": 50578, \"sum_tokens_in_value_count_group\": 138.0, \"distinct_value_count\": 8985}, {\"percentile_ex_nulls\": 0.7482067346572876, \"percentile_inc_nulls\": 0.8049744963645935, \"value_count\": 44, \"group_name\": \"dob\", \"total_non_null_rows\": 39175, \"total_rows_inc_nulls\": 50578, \"sum_tokens_in_value_count_group\": 88.0, \"distinct_value_count\": 8985}, {\"percentile_ex_nulls\": 0.7449138164520264, \"percentile_inc_nulls\": 0.8024239540100098, \"value_count\": 43, \"group_name\": \"dob\", \"total_non_null_rows\": 39175, \"total_rows_inc_nulls\": 50578, \"sum_tokens_in_value_count_group\": 129.0, \"distinct_value_count\": 8985}, {\"percentile_ex_nulls\": 0.7438417673110962, \"percentile_inc_nulls\": 0.801593542098999, \"value_count\": 42, \"group_name\": \"dob\", \"total_non_null_rows\": 39175, \"total_rows_inc_nulls\": 50578, \"sum_tokens_in_value_count_group\": 42.0, \"distinct_value_count\": 8985}, {\"percentile_ex_nulls\": 0.741748571395874, \"percentile_inc_nulls\": 0.7999722957611084, \"value_count\": 41, \"group_name\": \"dob\", \"total_non_null_rows\": 39175, \"total_rows_inc_nulls\": 50578, \"sum_tokens_in_value_count_group\": 82.0, \"distinct_value_count\": 8985}, {\"percentile_ex_nulls\": 0.7397064566612244, \"percentile_inc_nulls\": 0.7983906269073486, \"value_count\": 40, \"group_name\": \"dob\", \"total_non_null_rows\": 39175, \"total_rows_inc_nulls\": 50578, \"sum_tokens_in_value_count_group\": 80.0, \"distinct_value_count\": 8985}, {\"percentile_ex_nulls\": 0.7377153635025024, \"percentile_inc_nulls\": 0.7968484163284302, \"value_count\": 39, \"group_name\": \"dob\", \"total_non_null_rows\": 39175, \"total_rows_inc_nulls\": 50578, \"sum_tokens_in_value_count_group\": 78.0, \"distinct_value_count\": 8985}, {\"percentile_ex_nulls\": 0.7367453575134277, \"percentile_inc_nulls\": 0.7960970997810364, \"value_count\": 38, \"group_name\": \"dob\", \"total_non_null_rows\": 39175, \"total_rows_inc_nulls\": 50578, \"sum_tokens_in_value_count_group\": 38.0, \"distinct_value_count\": 8985}, {\"percentile_ex_nulls\": 0.7358008623123169, \"percentile_inc_nulls\": 0.795365571975708, \"value_count\": 37, \"group_name\": \"dob\", \"total_non_null_rows\": 39175, \"total_rows_inc_nulls\": 50578, \"sum_tokens_in_value_count_group\": 37.0, \"distinct_value_count\": 8985}, {\"percentile_ex_nulls\": 0.7321250438690186, \"percentile_inc_nulls\": 0.7925184965133667, \"value_count\": 36, \"group_name\": \"dob\", \"total_non_null_rows\": 39175, \"total_rows_inc_nulls\": 50578, \"sum_tokens_in_value_count_group\": 144.0, \"distinct_value_count\": 8985}, {\"percentile_ex_nulls\": 0.7294448018074036, \"percentile_inc_nulls\": 0.7904424667358398, \"value_count\": 35, \"group_name\": \"dob\", \"total_non_null_rows\": 39175, \"total_rows_inc_nulls\": 50578, \"sum_tokens_in_value_count_group\": 105.0, \"distinct_value_count\": 8985}, {\"percentile_ex_nulls\": 0.7242373824119568, \"percentile_inc_nulls\": 0.7864091396331787, \"value_count\": 34, \"group_name\": \"dob\", \"total_non_null_rows\": 39175, \"total_rows_inc_nulls\": 50578, \"sum_tokens_in_value_count_group\": 204.0, \"distinct_value_count\": 8985}, {\"percentile_ex_nulls\": 0.7225526571273804, \"percentile_inc_nulls\": 0.7851042151451111, \"value_count\": 33, \"group_name\": \"dob\", \"total_non_null_rows\": 39175, \"total_rows_inc_nulls\": 50578, \"sum_tokens_in_value_count_group\": 66.0, \"distinct_value_count\": 8985}, {\"percentile_ex_nulls\": 0.7217358350753784, \"percentile_inc_nulls\": 0.7844715118408203, \"value_count\": 32, \"group_name\": \"dob\", \"total_non_null_rows\": 39175, \"total_rows_inc_nulls\": 50578, \"sum_tokens_in_value_count_group\": 32.0, \"distinct_value_count\": 8985}, {\"percentile_ex_nulls\": 0.7185705304145813, \"percentile_inc_nulls\": 0.782019853591919, \"value_count\": 31, \"group_name\": \"dob\", \"total_non_null_rows\": 39175, \"total_rows_inc_nulls\": 50578, \"sum_tokens_in_value_count_group\": 124.0, \"distinct_value_count\": 8985}, {\"percentile_ex_nulls\": 0.7155073285102844, \"percentile_inc_nulls\": 0.7796472907066345, \"value_count\": 30, \"group_name\": \"dob\", \"total_non_null_rows\": 39175, \"total_rows_inc_nulls\": 50578, \"sum_tokens_in_value_count_group\": 120.0, \"distinct_value_count\": 8985}, {\"percentile_ex_nulls\": 0.7118059992790222, \"percentile_inc_nulls\": 0.7767804265022278, \"value_count\": 29, \"group_name\": \"dob\", \"total_non_null_rows\": 39175, \"total_rows_inc_nulls\": 50578, \"sum_tokens_in_value_count_group\": 145.0, \"distinct_value_count\": 8985}, {\"percentile_ex_nulls\": 0.7096617817878723, \"percentile_inc_nulls\": 0.7751196026802063, \"value_count\": 28, \"group_name\": \"dob\", \"total_non_null_rows\": 39175, \"total_rows_inc_nulls\": 50578, \"sum_tokens_in_value_count_group\": 84.0, \"distinct_value_count\": 8985}, {\"percentile_ex_nulls\": 0.7075941562652588, \"percentile_inc_nulls\": 0.7735181450843811, \"value_count\": 27, \"group_name\": \"dob\", \"total_non_null_rows\": 39175, \"total_rows_inc_nulls\": 50578, \"sum_tokens_in_value_count_group\": 81.0, \"distinct_value_count\": 8985}, {\"percentile_ex_nulls\": 0.7056030631065369, \"percentile_inc_nulls\": 0.7719759941101074, \"value_count\": 26, \"group_name\": \"dob\", \"total_non_null_rows\": 39175, \"total_rows_inc_nulls\": 50578, \"sum_tokens_in_value_count_group\": 78.0, \"distinct_value_count\": 8985}, {\"percentile_ex_nulls\": 0.7030503749847412, \"percentile_inc_nulls\": 0.7699987888336182, \"value_count\": 25, \"group_name\": \"dob\", \"total_non_null_rows\": 39175, \"total_rows_inc_nulls\": 50578, \"sum_tokens_in_value_count_group\": 100.0, \"distinct_value_count\": 8985}, {\"percentile_ex_nulls\": 0.6993745565414429, \"percentile_inc_nulls\": 0.7671517133712769, \"value_count\": 24, \"group_name\": \"dob\", \"total_non_null_rows\": 39175, \"total_rows_inc_nulls\": 50578, \"sum_tokens_in_value_count_group\": 144.0, \"distinct_value_count\": 8985}, {\"percentile_ex_nulls\": 0.6964390277862549, \"percentile_inc_nulls\": 0.7648780345916748, \"value_count\": 23, \"group_name\": \"dob\", \"total_non_null_rows\": 39175, \"total_rows_inc_nulls\": 50578, \"sum_tokens_in_value_count_group\": 115.0, \"distinct_value_count\": 8985}, {\"percentile_ex_nulls\": 0.6913847923278809, \"percentile_inc_nulls\": 0.7609632611274719, \"value_count\": 22, \"group_name\": \"dob\", \"total_non_null_rows\": 39175, \"total_rows_inc_nulls\": 50578, \"sum_tokens_in_value_count_group\": 198.0, \"distinct_value_count\": 8985}, {\"percentile_ex_nulls\": 0.6806637048721313, \"percentile_inc_nulls\": 0.752659261226654, \"value_count\": 21, \"group_name\": \"dob\", \"total_non_null_rows\": 39175, \"total_rows_inc_nulls\": 50578, \"sum_tokens_in_value_count_group\": 420.0, \"distinct_value_count\": 8985}, {\"percentile_ex_nulls\": 0.676068902015686, \"percentile_inc_nulls\": 0.749100387096405, \"value_count\": 20, \"group_name\": \"dob\", \"total_non_null_rows\": 39175, \"total_rows_inc_nulls\": 50578, \"sum_tokens_in_value_count_group\": 180.0, \"distinct_value_count\": 8985}, {\"percentile_ex_nulls\": 0.6649138927459717, \"percentile_inc_nulls\": 0.7404602766036987, \"value_count\": 19, \"group_name\": \"dob\", \"total_non_null_rows\": 39175, \"total_rows_inc_nulls\": 50578, \"sum_tokens_in_value_count_group\": 437.0, \"distinct_value_count\": 8985}, {\"percentile_ex_nulls\": 0.6571027040481567, \"percentile_inc_nulls\": 0.7344102263450623, \"value_count\": 18, \"group_name\": \"dob\", \"total_non_null_rows\": 39175, \"total_rows_inc_nulls\": 50578, \"sum_tokens_in_value_count_group\": 306.0, \"distinct_value_count\": 8985}, {\"percentile_ex_nulls\": 0.6462540030479431, \"percentile_inc_nulls\": 0.726007342338562, \"value_count\": 17, \"group_name\": \"dob\", \"total_non_null_rows\": 39175, \"total_rows_inc_nulls\": 50578, \"sum_tokens_in_value_count_group\": 425.0, \"distinct_value_count\": 8985}, {\"percentile_ex_nulls\": 0.6368602514266968, \"percentile_inc_nulls\": 0.7187314629554749, \"value_count\": 16, \"group_name\": \"dob\", \"total_non_null_rows\": 39175, \"total_rows_inc_nulls\": 50578, \"sum_tokens_in_value_count_group\": 368.0, \"distinct_value_count\": 8985}, {\"percentile_ex_nulls\": 0.6226930618286133, \"percentile_inc_nulls\": 0.7077583074569702, \"value_count\": 15, \"group_name\": \"dob\", \"total_non_null_rows\": 39175, \"total_rows_inc_nulls\": 50578, \"sum_tokens_in_value_count_group\": 555.0, \"distinct_value_count\": 8985}, {\"percentile_ex_nulls\": 0.6012507677078247, \"percentile_inc_nulls\": 0.6911503076553345, \"value_count\": 14, \"group_name\": \"dob\", \"total_non_null_rows\": 39175, \"total_rows_inc_nulls\": 50578, \"sum_tokens_in_value_count_group\": 840.0, \"distinct_value_count\": 8985}, {\"percentile_ex_nulls\": 0.9847862124443054, \"percentile_inc_nulls\": 0.98821622133255, \"value_count\": 596, \"group_name\": \"dob\", \"total_non_null_rows\": 39175, \"total_rows_inc_nulls\": 50578, \"sum_tokens_in_value_count_group\": 596.0, \"distinct_value_count\": 8985}, {\"percentile_ex_nulls\": 0.9702361226081848, \"percentile_inc_nulls\": 0.9769464731216431, \"value_count\": 570, \"group_name\": \"dob\", \"total_non_null_rows\": 39175, \"total_rows_inc_nulls\": 50578, \"sum_tokens_in_value_count_group\": 570.0, \"distinct_value_count\": 8985}, {\"percentile_ex_nulls\": 0.9574728608131409, \"percentile_inc_nulls\": 0.9670608043670654, \"value_count\": 500, \"group_name\": \"dob\", \"total_non_null_rows\": 39175, \"total_rows_inc_nulls\": 50578, \"sum_tokens_in_value_count_group\": 500.0, \"distinct_value_count\": 8985}, {\"percentile_ex_nulls\": 0.9451180696487427, \"percentile_inc_nulls\": 0.957491397857666, \"value_count\": 484, \"group_name\": \"dob\", \"total_non_null_rows\": 39175, \"total_rows_inc_nulls\": 50578, \"sum_tokens_in_value_count_group\": 484.0, \"distinct_value_count\": 8985}, {\"percentile_ex_nulls\": 0.9329419136047363, \"percentile_inc_nulls\": 0.9480603933334351, \"value_count\": 477, \"group_name\": \"dob\", \"total_non_null_rows\": 39175, \"total_rows_inc_nulls\": 50578, \"sum_tokens_in_value_count_group\": 477.0, \"distinct_value_count\": 8985}, {\"percentile_ex_nulls\": 0.9225781559944153, \"percentile_inc_nulls\": 0.9400331974029541, \"value_count\": 406, \"group_name\": \"dob\", \"total_non_null_rows\": 39175, \"total_rows_inc_nulls\": 50578, \"sum_tokens_in_value_count_group\": 406.0, \"distinct_value_count\": 8985}, {\"percentile_ex_nulls\": 0.9122399687767029, \"percentile_inc_nulls\": 0.9320257902145386, \"value_count\": 405, \"group_name\": \"dob\", \"total_non_null_rows\": 39175, \"total_rows_inc_nulls\": 50578, \"sum_tokens_in_value_count_group\": 405.0, \"distinct_value_count\": 8985}, {\"percentile_ex_nulls\": 0.9027185440063477, \"percentile_inc_nulls\": 0.924651026725769, \"value_count\": 373, \"group_name\": \"dob\", \"total_non_null_rows\": 39175, \"total_rows_inc_nulls\": 50578, \"sum_tokens_in_value_count_group\": 373.0, \"distinct_value_count\": 8985}, {\"percentile_ex_nulls\": 0.8937842845916748, \"percentile_inc_nulls\": 0.9177310466766357, \"value_count\": 350, \"group_name\": \"dob\", \"total_non_null_rows\": 39175, \"total_rows_inc_nulls\": 50578, \"sum_tokens_in_value_count_group\": 350.0, \"distinct_value_count\": 8985}, {\"percentile_ex_nulls\": 0.8850797414779663, \"percentile_inc_nulls\": 0.910988986492157, \"value_count\": 341, \"group_name\": \"dob\", \"total_non_null_rows\": 39175, \"total_rows_inc_nulls\": 50578, \"sum_tokens_in_value_count_group\": 341.0, \"distinct_value_count\": 8985}, {\"percentile_ex_nulls\": 0.876451849937439, \"percentile_inc_nulls\": 0.9043062329292297, \"value_count\": 338, \"group_name\": \"dob\", \"total_non_null_rows\": 39175, \"total_rows_inc_nulls\": 50578, \"sum_tokens_in_value_count_group\": 338.0, \"distinct_value_count\": 8985}, {\"percentile_ex_nulls\": 0.8680791258811951, \"percentile_inc_nulls\": 0.8978211879730225, \"value_count\": 328, \"group_name\": \"dob\", \"total_non_null_rows\": 39175, \"total_rows_inc_nulls\": 50578, \"sum_tokens_in_value_count_group\": 328.0, \"distinct_value_count\": 8985}, {\"percentile_ex_nulls\": 0.8617995977401733, \"percentile_inc_nulls\": 0.8929573893547058, \"value_count\": 246, \"group_name\": \"dob\", \"total_non_null_rows\": 39175, \"total_rows_inc_nulls\": 50578, \"sum_tokens_in_value_count_group\": 246.0, \"distinct_value_count\": 8985}, {\"percentile_ex_nulls\": 0.8560306429862976, \"percentile_inc_nulls\": 0.8884890675544739, \"value_count\": 226, \"group_name\": \"dob\", \"total_non_null_rows\": 39175, \"total_rows_inc_nulls\": 50578, \"sum_tokens_in_value_count_group\": 226.0, \"distinct_value_count\": 8985}, {\"percentile_ex_nulls\": 0.850542426109314, \"percentile_inc_nulls\": 0.8842381834983826, \"value_count\": 215, \"group_name\": \"dob\", \"total_non_null_rows\": 39175, \"total_rows_inc_nulls\": 50578, \"sum_tokens_in_value_count_group\": 215.0, \"distinct_value_count\": 8985}, {\"percentile_ex_nulls\": 0.8452329635620117, \"percentile_inc_nulls\": 0.8801257610321045, \"value_count\": 208, \"group_name\": \"dob\", \"total_non_null_rows\": 39175, \"total_rows_inc_nulls\": 50578, \"sum_tokens_in_value_count_group\": 208.0, \"distinct_value_count\": 8985}, {\"percentile_ex_nulls\": 0.8408934473991394, \"percentile_inc_nulls\": 0.8767645955085754, \"value_count\": 170, \"group_name\": \"dob\", \"total_non_null_rows\": 39175, \"total_rows_inc_nulls\": 50578, \"sum_tokens_in_value_count_group\": 170.0, \"distinct_value_count\": 8985}, {\"percentile_ex_nulls\": 0.8368091583251953, \"percentile_inc_nulls\": 0.8736011981964111, \"value_count\": 160, \"group_name\": \"dob\", \"total_non_null_rows\": 39175, \"total_rows_inc_nulls\": 50578, \"sum_tokens_in_value_count_group\": 160.0, \"distinct_value_count\": 8985}, {\"percentile_ex_nulls\": 0.8329547047615051, \"percentile_inc_nulls\": 0.8706156611442566, \"value_count\": 151, \"group_name\": \"dob\", \"total_non_null_rows\": 39175, \"total_rows_inc_nulls\": 50578, \"sum_tokens_in_value_count_group\": 151.0, \"distinct_value_count\": 8985}, {\"percentile_ex_nulls\": 0.8294064998626709, \"percentile_inc_nulls\": 0.8678674697875977, \"value_count\": 139, \"group_name\": \"dob\", \"total_non_null_rows\": 39175, \"total_rows_inc_nulls\": 50578, \"sum_tokens_in_value_count_group\": 139.0, \"distinct_value_count\": 8985}, {\"percentile_ex_nulls\": 0.8262922763824463, \"percentile_inc_nulls\": 0.8654553294181824, \"value_count\": 122, \"group_name\": \"dob\", \"total_non_null_rows\": 39175, \"total_rows_inc_nulls\": 50578, \"sum_tokens_in_value_count_group\": 122.0, \"distinct_value_count\": 8985}, {\"percentile_ex_nulls\": 0.8232546448707581, \"percentile_inc_nulls\": 0.8631025552749634, \"value_count\": 119, \"group_name\": \"dob\", \"total_non_null_rows\": 39175, \"total_rows_inc_nulls\": 50578, \"sum_tokens_in_value_count_group\": 119.0, \"distinct_value_count\": 8985}, {\"percentile_ex_nulls\": 0.8202425241470337, \"percentile_inc_nulls\": 0.860769510269165, \"value_count\": 118, \"group_name\": \"dob\", \"total_non_null_rows\": 39175, \"total_rows_inc_nulls\": 50578, \"sum_tokens_in_value_count_group\": 118.0, \"distinct_value_count\": 8985}, {\"percentile_ex_nulls\": 0.8173069357872009, \"percentile_inc_nulls\": 0.8584957718849182, \"value_count\": 115, \"group_name\": \"dob\", \"total_non_null_rows\": 39175, \"total_rows_inc_nulls\": 50578, \"sum_tokens_in_value_count_group\": 115.0, \"distinct_value_count\": 8985}, {\"percentile_ex_nulls\": 0.8143969178199768, \"percentile_inc_nulls\": 0.8562418222427368, \"value_count\": 114, \"group_name\": \"dob\", \"total_non_null_rows\": 39175, \"total_rows_inc_nulls\": 50578, \"sum_tokens_in_value_count_group\": 114.0, \"distinct_value_count\": 8985}, {\"percentile_ex_nulls\": 0.8088321685791016, \"percentile_inc_nulls\": 0.8519316911697388, \"value_count\": 109, \"group_name\": \"dob\", \"total_non_null_rows\": 39175, \"total_rows_inc_nulls\": 50578, \"sum_tokens_in_value_count_group\": 218.0, \"distinct_value_count\": 8985}, {\"percentile_ex_nulls\": 0.8060753345489502, \"percentile_inc_nulls\": 0.8497963547706604, \"value_count\": 108, \"group_name\": \"dob\", \"total_non_null_rows\": 39175, \"total_rows_inc_nulls\": 50578, \"sum_tokens_in_value_count_group\": 108.0, \"distinct_value_count\": 8985}, {\"percentile_ex_nulls\": 0.8034460544586182, \"percentile_inc_nulls\": 0.8477599024772644, \"value_count\": 103, \"group_name\": \"dob\", \"total_non_null_rows\": 39175, \"total_rows_inc_nulls\": 50578, \"sum_tokens_in_value_count_group\": 103.0, \"distinct_value_count\": 8985}, {\"percentile_ex_nulls\": 0.8009700179100037, \"percentile_inc_nulls\": 0.8458420634269714, \"value_count\": 97, \"group_name\": \"dob\", \"total_non_null_rows\": 39175, \"total_rows_inc_nulls\": 50578, \"sum_tokens_in_value_count_group\": 97.0, \"distinct_value_count\": 8985}, {\"percentile_ex_nulls\": 0.7986981272697449, \"percentile_inc_nulls\": 0.8440824151039124, \"value_count\": 89, \"group_name\": \"dob\", \"total_non_null_rows\": 39175, \"total_rows_inc_nulls\": 50578, \"sum_tokens_in_value_count_group\": 89.0, \"distinct_value_count\": 8985}, {\"percentile_ex_nulls\": 0.7964773178100586, \"percentile_inc_nulls\": 0.8423622846603394, \"value_count\": 87, \"group_name\": \"dob\", \"total_non_null_rows\": 39175, \"total_rows_inc_nulls\": 50578, \"sum_tokens_in_value_count_group\": 87.0, \"distinct_value_count\": 8985}, {\"percentile_ex_nulls\": 0.794282078742981, \"percentile_inc_nulls\": 0.8406619429588318, \"value_count\": 86, \"group_name\": \"dob\", \"total_non_null_rows\": 39175, \"total_rows_inc_nulls\": 50578, \"sum_tokens_in_value_count_group\": 86.0, \"distinct_value_count\": 8985}, {\"percentile_ex_nulls\": 0.7921888828277588, \"percentile_inc_nulls\": 0.8390406966209412, \"value_count\": 82, \"group_name\": \"dob\", \"total_non_null_rows\": 39175, \"total_rows_inc_nulls\": 50578, \"sum_tokens_in_value_count_group\": 82.0, \"distinct_value_count\": 8985}, {\"percentile_ex_nulls\": 0.7884109616279602, \"percentile_inc_nulls\": 0.8361145257949829, \"value_count\": 74, \"group_name\": \"dob\", \"total_non_null_rows\": 39175, \"total_rows_inc_nulls\": 50578, \"sum_tokens_in_value_count_group\": 148.0, \"distinct_value_count\": 8985}, {\"percentile_ex_nulls\": 0.7847351431846619, \"percentile_inc_nulls\": 0.8332674503326416, \"value_count\": 72, \"group_name\": \"dob\", \"total_non_null_rows\": 39175, \"total_rows_inc_nulls\": 50578, \"sum_tokens_in_value_count_group\": 144.0, \"distinct_value_count\": 8985}, {\"percentile_ex_nulls\": 0.7829228043556213, \"percentile_inc_nulls\": 0.8318636417388916, \"value_count\": 71, \"group_name\": \"dob\", \"total_non_null_rows\": 39175, \"total_rows_inc_nulls\": 50578, \"sum_tokens_in_value_count_group\": 71.0, \"distinct_value_count\": 8985}, {\"percentile_ex_nulls\": 0.7811869978904724, \"percentile_inc_nulls\": 0.8305191993713379, \"value_count\": 68, \"group_name\": \"dob\", \"total_non_null_rows\": 39175, \"total_rows_inc_nulls\": 50578, \"sum_tokens_in_value_count_group\": 68.0, \"distinct_value_count\": 8985}, {\"percentile_ex_nulls\": 0.7778174877166748, \"percentile_inc_nulls\": 0.8279093503952026, \"value_count\": 66, \"group_name\": \"dob\", \"total_non_null_rows\": 39175, \"total_rows_inc_nulls\": 50578, \"sum_tokens_in_value_count_group\": 132.0, \"distinct_value_count\": 8985}, {\"percentile_ex_nulls\": 0.7762093544006348, \"percentile_inc_nulls\": 0.8266637325286865, \"value_count\": 63, \"group_name\": \"dob\", \"total_non_null_rows\": 39175, \"total_rows_inc_nulls\": 50578, \"sum_tokens_in_value_count_group\": 63.0, \"distinct_value_count\": 8985}, {\"percentile_ex_nulls\": 0.7746266722679138, \"percentile_inc_nulls\": 0.8254379034042358, \"value_count\": 62, \"group_name\": \"dob\", \"total_non_null_rows\": 39175, \"total_rows_inc_nulls\": 50578, \"sum_tokens_in_value_count_group\": 62.0, \"distinct_value_count\": 8985}, {\"percentile_ex_nulls\": 0.7730695605278015, \"percentile_inc_nulls\": 0.8242318630218506, \"value_count\": 61, \"group_name\": \"dob\", \"total_non_null_rows\": 39175, \"total_rows_inc_nulls\": 50578, \"sum_tokens_in_value_count_group\": 61.0, \"distinct_value_count\": 8985}, {\"percentile_ex_nulls\": 1.0, \"percentile_inc_nulls\": 1.0, \"value_count\": 13, \"group_name\": \"dob\", \"total_non_null_rows\": 39175, \"total_rows_inc_nulls\": 50578, \"sum_tokens_in_value_count_group\": 728.0, \"distinct_value_count\": 8985}]}, \"encoding\": {\"tooltip\": [{\"field\": \"value_count\", \"type\": \"quantitative\"}, {\"field\": \"percentile_ex_nulls\", \"type\": \"quantitative\"}, {\"field\": \"percentile_inc_nulls\", \"type\": \"quantitative\"}, {\"field\": \"total_non_null_rows\", \"type\": \"quantitative\"}, {\"field\": \"total_rows_inc_nulls\", \"type\": \"quantitative\"}], \"x\": {\"field\": \"percentile_ex_nulls\", \"sort\": \"descending\", \"title\": \"Percentile\", \"type\": \"quantitative\"}, \"y\": {\"field\": \"value_count\", \"title\": \"Count of values\", \"type\": \"quantitative\"}}, \"title\": {\"text\": \"Distribution of counts of values in column dob\", \"subtitle\": \"In this col, 11,403 values (22.5%) are null and there are 8985 distinct values\"}}, {\"mark\": \"bar\", \"data\": {\"values\": [{\"value_count\": 596, \"group_name\": \"dob\", \"value\": \"1862-01-01\", \"total_non_null_rows\": 39175, \"total_rows_inc_nulls\": 50578, \"distinct_value_count\": 8985}, {\"value_count\": 570, \"group_name\": \"dob\", \"value\": \"1860-01-01\", \"total_non_null_rows\": 39175, \"total_rows_inc_nulls\": 50578, \"distinct_value_count\": 8985}, {\"value_count\": 500, \"group_name\": \"dob\", \"value\": \"1861-01-01\", \"total_non_null_rows\": 39175, \"total_rows_inc_nulls\": 50578, \"distinct_value_count\": 8985}, {\"value_count\": 484, \"group_name\": \"dob\", \"value\": \"1850-01-01\", \"total_non_null_rows\": 39175, \"total_rows_inc_nulls\": 50578, \"distinct_value_count\": 8985}, {\"value_count\": 477, \"group_name\": \"dob\", \"value\": \"1858-01-01\", \"total_non_null_rows\": 39175, \"total_rows_inc_nulls\": 50578, \"distinct_value_count\": 8985}, {\"value_count\": 406, \"group_name\": \"dob\", \"value\": \"1859-01-01\", \"total_non_null_rows\": 39175, \"total_rows_inc_nulls\": 50578, \"distinct_value_count\": 8985}, {\"value_count\": 405, \"group_name\": \"dob\", \"value\": \"1857-01-01\", \"total_non_null_rows\": 39175, \"total_rows_inc_nulls\": 50578, \"distinct_value_count\": 8985}, {\"value_count\": 373, \"group_name\": \"dob\", \"value\": \"1851-01-01\", \"total_non_null_rows\": 39175, \"total_rows_inc_nulls\": 50578, \"distinct_value_count\": 8985}, {\"value_count\": 350, \"group_name\": \"dob\", \"value\": \"1855-01-01\", \"total_non_null_rows\": 39175, \"total_rows_inc_nulls\": 50578, \"distinct_value_count\": 8985}, {\"value_count\": 341, \"group_name\": \"dob\", \"value\": \"1854-01-01\", \"total_non_null_rows\": 39175, \"total_rows_inc_nulls\": 50578, \"distinct_value_count\": 8985}]}, \"encoding\": {\"tooltip\": [{\"field\": \"value\", \"type\": \"nominal\"}, {\"field\": \"value_count\", \"type\": \"quantitative\"}, {\"field\": \"total_non_null_rows\", \"type\": \"quantitative\"}, {\"field\": \"total_rows_inc_nulls\", \"type\": \"quantitative\"}], \"x\": {\"field\": \"value\", \"sort\": \"-y\", \"title\": null, \"type\": \"nominal\"}, \"y\": {\"field\": \"value_count\", \"title\": \"Value count\", \"type\": \"quantitative\"}}, \"title\": \"Top 10 values by value count\"}, {\"mark\": \"bar\", \"data\": {\"values\": [{\"value_count\": 1, \"group_name\": \"dob\", \"value\": \"1856-86-18\", \"total_non_null_rows\": 39175, \"total_rows_inc_nulls\": 50578, \"distinct_value_count\": 8985}, {\"value_count\": 1, \"group_name\": \"dob\", \"value\": \"1652-02-01\", \"total_non_null_rows\": 39175, \"total_rows_inc_nulls\": 50578, \"distinct_value_count\": 8985}, {\"value_count\": 1, \"group_name\": \"dob\", \"value\": \"1560-11-01\", \"total_non_null_rows\": 39175, \"total_rows_inc_nulls\": 50578, \"distinct_value_count\": 8985}, {\"value_count\": 1, \"group_name\": \"dob\", \"value\": \"1721-21-01\", \"total_non_null_rows\": 39175, \"total_rows_inc_nulls\": 50578, \"distinct_value_count\": 8985}, {\"value_count\": 1, \"group_name\": \"dob\", \"value\": \"1875-11-19\", \"total_non_null_rows\": 39175, \"total_rows_inc_nulls\": 50578, \"distinct_value_count\": 8985}, {\"value_count\": 1, \"group_name\": \"dob\", \"value\": \"1842-10-30\", \"total_non_null_rows\": 39175, \"total_rows_inc_nulls\": 50578, \"distinct_value_count\": 8985}, {\"value_count\": 1, \"group_name\": \"dob\", \"value\": \"1872-01-11\", \"total_non_null_rows\": 39175, \"total_rows_inc_nulls\": 50578, \"distinct_value_count\": 8985}, {\"value_count\": 1, \"group_name\": \"dob\", \"value\": \"1721-12-86\", \"total_non_null_rows\": 39175, \"total_rows_inc_nulls\": 50578, \"distinct_value_count\": 8985}, {\"value_count\": 1, \"group_name\": \"dob\", \"value\": \"1721-12-16\", \"total_non_null_rows\": 39175, \"total_rows_inc_nulls\": 50578, \"distinct_value_count\": 8985}, {\"value_count\": 1, \"group_name\": \"dob\", \"value\": \"1798-02-26\", \"total_non_null_rows\": 39175, \"total_rows_inc_nulls\": 50578, \"distinct_value_count\": 8985}]}, \"encoding\": {\"tooltip\": [{\"field\": \"value\", \"type\": \"nominal\"}, {\"field\": \"value_count\", \"type\": \"quantitative\"}, {\"field\": \"total_non_null_rows\", \"type\": \"quantitative\"}, {\"field\": \"total_rows_inc_nulls\", \"type\": \"quantitative\"}], \"x\": {\"field\": \"value\", \"sort\": \"-y\", \"title\": null, \"type\": \"nominal\"}, \"y\": {\"field\": \"value_count\", \"scale\": {\"domain\": [0, 596]}, \"title\": \"Value count\", \"type\": \"quantitative\"}}, \"title\": \"Bottom 10 values by value count\"}]}], \"$schema\": \"https://vega.github.io/schema/vega-lite/v5.9.3.json\"}, {\"mode\": \"vega-lite\"});\n",
              "</script>"
            ],
            "text/plain": [
              "alt.VConcatChart(...)"
            ]
          },
          "execution_count": 4,
          "metadata": {},
          "output_type": "execute_result"
        }
      ],
      "source": [
        "db_api = DuckDBAPI()\n",
        "exploratory.profile_columns(df, column_expressions=[\"first_name\", \"dob\"], db_api=db_api)"
      ]
    },
    {
      "cell_type": "markdown",
      "id": "996dcd14",
      "metadata": {},
      "source": [
        "## Blocking analysis"
      ]
    },
    {
      "cell_type": "code",
      "execution_count": 5,
      "id": "5b3404c8",
      "metadata": {},
      "outputs": [
        {
          "data": {
            "text/plain": [
              "{'number_of_comparisons_generated_pre_filter_conditions': 32796475,\n",
              " 'number_of_comparisons_to_be_scored_post_filter_conditions': 16372982,\n",
              " 'filter_conditions_identified': '',\n",
              " 'equi_join_conditions_identified': 'l.\"first_name\" = r.\"first_name\"',\n",
              " 'link_type_join_condition': 'where l.\"unique_id\" < r.\"unique_id\"'}"
            ]
          },
          "execution_count": 5,
          "metadata": {},
          "output_type": "execute_result"
        }
      ],
      "source": [
        "from splink import blocking_analysis as ba\n",
        "from splink import block_on\n",
        "\n",
        "blocking_rule_for_analysis = block_on(\"first_name\")\n",
        "\n",
        "res = ba.count_comparisons_from_blocking_rule(\n",
        "    table_or_tables=df,\n",
        "    blocking_rule=blocking_rule_for_analysis,\n",
        "    link_type=\"dedupe_only\",\n",
        "    db_api=db_api,\n",
        ")\n",
        "res"
      ]
    },
    {
      "cell_type": "code",
      "execution_count": 6,
      "id": "998de226",
      "metadata": {},
      "outputs": [
        {
          "name": "stdout",
          "output_type": "stream",
          "text": [
            "Number of comparisons generated: 16,372,982\n"
          ]
        }
      ],
      "source": [
        "num_comparisons = res[\"number_of_comparisons_to_be_scored_post_filter_conditions\"]\n",
        "print(\n",
        "    f\"Number of comparisons generated: {num_comparisons:,}\"\n",
        ")"
      ]
    },
    {
      "cell_type": "code",
      "execution_count": 7,
      "id": "bf0af8f2",
      "metadata": {},
      "outputs": [
        {
          "name": "stdout",
          "output_type": "stream",
          "text": [
            "Number of comparisons generated: 90,801,655\n"
          ]
        }
      ],
      "source": [
        "blocking_rule_for_analysis = block_on(\"substr(first_name, 1, 1)\")\n",
        "\n",
        "res = ba.count_comparisons_from_blocking_rule(\n",
        "    table_or_tables=df,\n",
        "    blocking_rule=blocking_rule_for_analysis,\n",
        "    link_type=\"dedupe_only\",\n",
        "    db_api=db_api,\n",
        ")\n",
        "\n",
        "num_comparisons = res[\"number_of_comparisons_to_be_scored_post_filter_conditions\"]\n",
        "print(\n",
        "    f\"Number of comparisons generated: {num_comparisons:,}\"\n",
        ")"
      ]
    },
    {
      "cell_type": "code",
      "execution_count": 8,
      "id": "1fc21a71",
      "metadata": {},
      "outputs": [
        {
          "data": {
            "text/html": [
              "\n",
              "<style>\n",
              "  #altair-viz-16c44fb5b92643c48e0f60743202b161.vega-embed {\n",
              "    width: 100%;\n",
              "    display: flex;\n",
              "  }\n",
              "\n",
              "  #altair-viz-16c44fb5b92643c48e0f60743202b161.vega-embed details,\n",
              "  #altair-viz-16c44fb5b92643c48e0f60743202b161.vega-embed details summary {\n",
              "    position: relative;\n",
              "  }\n",
              "</style>\n",
              "<div id=\"altair-viz-16c44fb5b92643c48e0f60743202b161\"></div>\n",
              "<script type=\"text/javascript\">\n",
              "  var VEGA_DEBUG = (typeof VEGA_DEBUG == \"undefined\") ? {} : VEGA_DEBUG;\n",
              "  (function(spec, embedOpt){\n",
              "    let outputDiv = document.currentScript.previousElementSibling;\n",
              "    if (outputDiv.id !== \"altair-viz-16c44fb5b92643c48e0f60743202b161\") {\n",
              "      outputDiv = document.getElementById(\"altair-viz-16c44fb5b92643c48e0f60743202b161\");\n",
              "    }\n",
              "    const paths = {\n",
              "      \"vega\": \"https://cdn.jsdelivr.net/npm/vega@5?noext\",\n",
              "      \"vega-lib\": \"https://cdn.jsdelivr.net/npm/vega-lib?noext\",\n",
              "      \"vega-lite\": \"https://cdn.jsdelivr.net/npm/vega-lite@5.20.1?noext\",\n",
              "      \"vega-embed\": \"https://cdn.jsdelivr.net/npm/vega-embed@6?noext\",\n",
              "    };\n",
              "\n",
              "    function maybeLoadScript(lib, version) {\n",
              "      var key = `${lib.replace(\"-\", \"\")}_version`;\n",
              "      return (VEGA_DEBUG[key] == version) ?\n",
              "        Promise.resolve(paths[lib]) :\n",
              "        new Promise(function(resolve, reject) {\n",
              "          var s = document.createElement('script');\n",
              "          document.getElementsByTagName(\"head\")[0].appendChild(s);\n",
              "          s.async = true;\n",
              "          s.onload = () => {\n",
              "            VEGA_DEBUG[key] = version;\n",
              "            return resolve(paths[lib]);\n",
              "          };\n",
              "          s.onerror = () => reject(`Error loading script: ${paths[lib]}`);\n",
              "          s.src = paths[lib];\n",
              "        });\n",
              "    }\n",
              "\n",
              "    function showError(err) {\n",
              "      outputDiv.innerHTML = `<div class=\"error\" style=\"color:red;\">${err}</div>`;\n",
              "      throw err;\n",
              "    }\n",
              "\n",
              "    function displayChart(vegaEmbed) {\n",
              "      vegaEmbed(outputDiv, spec, embedOpt)\n",
              "        .catch(err => showError(`Javascript Error: ${err.message}<br>This usually means there's a typo in your chart specification. See the javascript console for the full traceback.`));\n",
              "    }\n",
              "\n",
              "    if(typeof define === \"function\" && define.amd) {\n",
              "      requirejs.config({paths});\n",
              "      require([\"vega-embed\"], displayChart, err => showError(`Error loading script: ${err.message}`));\n",
              "    } else {\n",
              "      maybeLoadScript(\"vega\", \"5\")\n",
              "        .then(() => maybeLoadScript(\"vega-lite\", \"5.20.1\"))\n",
              "        .then(() => maybeLoadScript(\"vega-embed\", \"6\"))\n",
              "        .catch(showError)\n",
              "        .then(() => displayChart(vegaEmbed));\n",
              "    }\n",
              "  })({\"config\": {\"view\": {\"continuousWidth\": 300, \"continuousHeight\": 300}}, \"data\": {\"name\": \"data-cecee9f008b23662be27975693cf387a\"}, \"mark\": \"bar\", \"encoding\": {\"order\": {\"field\": \"cumulative_rows\"}, \"tooltip\": [{\"field\": \"blocking_rule\", \"title\": \"SQL Condition\", \"type\": \"nominal\"}, {\"field\": \"row_count\", \"format\": \",\", \"title\": \"Comparisons Generated\", \"type\": \"quantitative\"}, {\"field\": \"cumulative_rows\", \"format\": \",\", \"title\": \"Cumulative Comparisons\", \"type\": \"quantitative\"}, {\"field\": \"cartesian\", \"format\": \",\", \"title\": \"Total comparisons in Cartesian product\", \"type\": \"quantitative\"}], \"x\": {\"field\": \"start\", \"title\": \"Comparisons Generated by Rule(s)\", \"type\": \"quantitative\"}, \"x2\": {\"field\": \"cumulative_rows\"}, \"y\": {\"field\": \"blocking_rule\", \"sort\": [\"-x2\"], \"title\": \"SQL Blocking Rule\"}}, \"height\": {\"step\": 20}, \"title\": {\"text\": \"Count of Additional Comparisons Generated by Each Blocking Rule\", \"subtitle\": \"(Counts exclude comparisons already generated by previous rules)\"}, \"width\": 450, \"$schema\": \"https://vega.github.io/schema/vega-lite/v5.9.3.json\", \"datasets\": {\"data-cecee9f008b23662be27975693cf387a\": [{\"blocking_rule\": \"(l.\\\"first_name\\\" = r.\\\"first_name\\\") AND (l.\\\"surname\\\" = r.\\\"surname\\\")\", \"row_count\": 243656, \"cumulative_rows\": 243656, \"cartesian\": 1279041753, \"match_key\": \"0\", \"start\": 0}, {\"blocking_rule\": \"(l.\\\"first_name\\\" = r.\\\"first_name\\\") AND (l.\\\"dob\\\" = r.\\\"dob\\\")\", \"row_count\": 29905, \"cumulative_rows\": 273561, \"cartesian\": 1279041753, \"match_key\": \"1\", \"start\": 243656}, {\"blocking_rule\": \"(l.\\\"dob\\\" = r.\\\"dob\\\") AND (l.\\\"postcode_fake\\\" = r.\\\"postcode_fake\\\")\", \"row_count\": 16192, \"cumulative_rows\": 289753, \"cartesian\": 1279041753, \"match_key\": \"2\", \"start\": 273561}, {\"blocking_rule\": \"(l.\\\"occupation\\\" = r.\\\"occupation\\\") AND (l.\\\"dob\\\" = r.\\\"dob\\\")\", \"row_count\": 45437, \"cumulative_rows\": 335190, \"cartesian\": 1279041753, \"match_key\": \"3\", \"start\": 289753}]}}, {\"mode\": \"vega-lite\"});\n",
              "</script>"
            ],
            "text/plain": [
              "alt.Chart(...)"
            ]
          },
          "execution_count": 8,
          "metadata": {},
          "output_type": "execute_result"
        }
      ],
      "source": [
        "blocking_rules = [\n",
        "    block_on(\"first_name\", \"surname\"),\n",
        "    block_on(\"first_name\", \"dob\"),\n",
        "    block_on(\"dob\", \"postcode_fake\"),\n",
        "    block_on(\"occupation\", \"dob\"),\n",
        "\n",
        "]\n",
        "ba.cumulative_comparisons_to_be_scored_from_blocking_rules_chart(\n",
        "    link_type=\"dedupe_only\",\n",
        "    blocking_rules=blocking_rules,\n",
        "    table_or_tables=df,\n",
        "    db_api=db_api,\n",
        ")\n",
        "\n"
      ]
    },
    {
      "cell_type": "code",
      "execution_count": 9,
      "id": "8d2e2565",
      "metadata": {},
      "outputs": [
        {
          "data": {
            "text/plain": [
              "┌─────────┬─────────┬─────────┬─────────┬─────────────┐\n",
              "│  key_0  │  key_1  │ count_l │ count_r │ block_count │\n",
              "│ varchar │ varchar │  int64  │  int64  │    int64    │\n",
              "├─────────┼─────────┼─────────┼─────────┼─────────────┤\n",
              "│ sir     │ baronet │     542 │     542 │      293764 │\n",
              "│ 1st     │ bt.     │      57 │      57 │        3249 │\n",
              "│ 1st     │ baronet │      40 │      40 │        1600 │\n",
              "│ william │ jones   │      29 │      29 │         841 │\n",
              "│ john    │ lewis   │      26 │      26 │         676 │\n",
              "└─────────┴─────────┴─────────┴─────────┴─────────────┘"
            ]
          },
          "execution_count": 9,
          "metadata": {},
          "output_type": "execute_result"
        }
      ],
      "source": [
        "blocking_rule_for_analysis = block_on(\"first_name\", \"surname\")\n",
        "\n",
        "ba.n_largest_blocks(\n",
        "    link_type=\"dedupe_only\",\n",
        "    blocking_rule=blocking_rule_for_analysis,\n",
        "    table_or_tables=df,\n",
        "    db_api=db_api,\n",
        ").as_duckdbpyrelation()"
      ]
    },
    {
      "cell_type": "markdown",
      "id": "381c6d2a",
      "metadata": {},
      "source": [
        "## Define and estimate a model"
      ]
    },
    {
      "cell_type": "code",
      "execution_count": 10,
      "id": "f50e4703",
      "metadata": {},
      "outputs": [],
      "source": [
        "import splink.comparison_library as cl\n",
        "\n",
        "from splink import SettingsCreator\n",
        "\n",
        "settings = SettingsCreator(\n",
        "    link_type=\"dedupe_only\",\n",
        "    blocking_rules_to_generate_predictions=blocking_rules,\n",
        "    comparisons=[\n",
        "        cl.ForenameSurnameComparison(\n",
        "            \"first_name\",\n",
        "            \"surname\",\n",
        "            forename_surname_concat_col_name=\"first_and_surname\",\n",
        "        ),\n",
        "        cl.DateOfBirthComparison(\n",
        "            \"dob\", input_is_string=True\n",
        "        ),\n",
        "        cl.PostcodeComparison(\"postcode_fake\"),\n",
        "        cl.ExactMatch(\"birth_place\").configure(term_frequency_adjustments=True),\n",
        "        cl.ExactMatch(\"occupation\").configure(term_frequency_adjustments=True),\n",
        "    ],\n",
        "    retain_intermediate_calculation_columns=True,\n",
        ")"
      ]
    },
    {
      "cell_type": "code",
      "execution_count": 11,
      "id": "b64c84a7",
      "metadata": {},
      "outputs": [],
      "source": [
        "from splink import Linker\n",
        "linker = Linker(df, settings, db_api=db_api)"
      ]
    },
    {
      "cell_type": "markdown",
      "id": "5bbcc26f",
      "metadata": {},
      "source": [
        "### Estimate the probability that two random records match"
      ]
    },
    {
      "cell_type": "code",
      "execution_count": 12,
      "id": "53405f5f",
      "metadata": {},
      "outputs": [
        {
          "name": "stderr",
          "output_type": "stream",
          "text": [
            "Probability two random records match is estimated to be  0.000136.\n",
            "This means that amongst all possible pairwise record comparisons, one in 7,362.31 are expected to match.  With 1,279,041,753 total possible comparisons, we expect a total of around 173,728.33 matching pairs\n"
          ]
        }
      ],
      "source": [
        "linker.training.estimate_probability_two_random_records_match(\n",
        "    [\n",
        "        \"l.first_name = r.first_name and l.surname = r.surname and l.dob = r.dob\",\n",
        "        \"substr(l.first_name,1,2) = substr(r.first_name,1,2) and l.surname = r.surname and substr(l.postcode_fake,1,2) = substr(r.postcode_fake,1,2)\",\n",
        "        \"l.dob = r.dob and l.postcode_fake = r.postcode_fake\",\n",
        "    ],\n",
        "    recall=0.6,\n",
        ")"
      ]
    },
    {
      "cell_type": "markdown",
      "id": "6f2b651e",
      "metadata": {},
      "source": [
        "### Estimate the `u` probabilities (direct estimation)"
      ]
    },
    {
      "cell_type": "code",
      "execution_count": 13,
      "id": "b67e316e",
      "metadata": {},
      "outputs": [
        {
          "name": "stderr",
          "output_type": "stream",
          "text": [
            "You are using the default value for `max_pairs`, which may be too small and thus lead to inaccurate estimates for your model's u-parameters. Consider increasing to 1e8 or 1e9, which will result in more accurate estimates, but with a longer run time.\n",
            "----- Estimating u probabilities using random sampling -----\n",
            "u probability not trained for first_name_surname - Match on reversed cols: first_name and surname (both directions) (comparison vector value: 5). This usually means the comparison level was never observed in the training data.\n",
            "\n",
            "Estimated u probabilities using random sampling\n",
            "\n",
            "Your model is not yet fully trained. Missing estimates for:\n",
            "    - first_name_surname (some u values are not trained, no m values are trained).\n",
            "    - dob (no m values are trained).\n",
            "    - postcode_fake (no m values are trained).\n",
            "    - birth_place (no m values are trained).\n",
            "    - occupation (no m values are trained).\n"
          ]
        }
      ],
      "source": [
        "linker.training.estimate_u_using_random_sampling(max_pairs=1e6)"
      ]
    },
    {
      "cell_type": "markdown",
      "id": "10ec5635",
      "metadata": {},
      "source": [
        "### Estimate the `m` probabilities (unsupervised)"
      ]
    },
    {
      "cell_type": "code",
      "execution_count": 14,
      "id": "1926c270",
      "metadata": {},
      "outputs": [
        {
          "name": "stderr",
          "output_type": "stream",
          "text": [
            "\n",
            "----- Starting EM training session -----\n",
            "\n",
            "Estimating the m probabilities of the model by blocking on:\n",
            "(l.\"first_name\" = r.\"first_name\") AND (l.\"surname\" = r.\"surname\")\n",
            "\n",
            "Parameter estimates will be made for the following comparison(s):\n",
            "    - dob\n",
            "    - postcode_fake\n",
            "    - birth_place\n",
            "    - occupation\n",
            "\n",
            "Parameter estimates cannot be made for the following comparison(s) since they are used in the blocking rules: \n",
            "    - first_name_surname\n",
            "\n",
            "Iteration 1: Largest change in params was 0.246 in probability_two_random_records_match\n",
            "Iteration 2: Largest change in params was -0.0954 in the m_probability of postcode_fake, level `Exact match on full postcode`\n",
            "Iteration 3: Largest change in params was 0.024 in the m_probability of birth_place, level `All other comparisons`\n",
            "Iteration 4: Largest change in params was -0.00996 in the m_probability of birth_place, level `Exact match on birth_place`\n",
            "Iteration 5: Largest change in params was -0.00487 in the m_probability of birth_place, level `Exact match on birth_place`\n",
            "Iteration 6: Largest change in params was -0.00282 in the m_probability of birth_place, level `Exact match on birth_place`\n",
            "Iteration 7: Largest change in params was 0.00197 in the m_probability of dob, level `Abs date difference <= 10 year`\n",
            "Iteration 8: Largest change in params was 0.00135 in the m_probability of dob, level `Abs date difference <= 10 year`\n",
            "Iteration 9: Largest change in params was 0.000912 in the m_probability of dob, level `Abs date difference <= 10 year`\n",
            "Iteration 10: Largest change in params was 0.000612 in the m_probability of dob, level `Abs date difference <= 10 year`\n",
            "Iteration 11: Largest change in params was 0.00041 in the m_probability of dob, level `Abs date difference <= 10 year`\n",
            "Iteration 12: Largest change in params was 0.000274 in the m_probability of dob, level `Abs date difference <= 10 year`\n",
            "Iteration 13: Largest change in params was 0.000183 in the m_probability of dob, level `Abs date difference <= 10 year`\n",
            "Iteration 14: Largest change in params was 0.000122 in the m_probability of dob, level `Abs date difference <= 10 year`\n",
            "Iteration 15: Largest change in params was 8.15e-05 in the m_probability of dob, level `Abs date difference <= 10 year`\n",
            "\n",
            "EM converged after 15 iterations\n",
            "\n",
            "Your model is not yet fully trained. Missing estimates for:\n",
            "    - first_name_surname (some u values are not trained, no m values are trained).\n"
          ]
        }
      ],
      "source": [
        "training_blocking_rule = block_on(\"first_name\", \"surname\")\n",
        "training_session_names = (\n",
        "    linker.training.estimate_parameters_using_expectation_maximisation(\n",
        "        training_blocking_rule, estimate_without_term_frequencies=True\n",
        "    )\n",
        ")"
      ]
    },
    {
      "cell_type": "code",
      "execution_count": 15,
      "id": "5d878167",
      "metadata": {},
      "outputs": [
        {
          "name": "stderr",
          "output_type": "stream",
          "text": [
            "\n",
            "----- Starting EM training session -----\n",
            "\n",
            "Estimating the m probabilities of the model by blocking on:\n",
            "l.\"dob\" = r.\"dob\"\n",
            "\n",
            "Parameter estimates will be made for the following comparison(s):\n",
            "    - first_name_surname\n",
            "    - postcode_fake\n",
            "    - birth_place\n",
            "    - occupation\n",
            "\n",
            "Parameter estimates cannot be made for the following comparison(s) since they are used in the blocking rules: \n",
            "    - dob\n",
            "\n",
            "Iteration 1: Largest change in params was -0.463 in the m_probability of first_name_surname, level `Exact match on first_and_surname`\n",
            "Iteration 2: Largest change in params was 0.0526 in the m_probability of first_name_surname, level `All other comparisons`\n",
            "Iteration 3: Largest change in params was 0.0179 in the m_probability of first_name_surname, level `All other comparisons`\n",
            "Iteration 4: Largest change in params was 0.00553 in the m_probability of first_name_surname, level `All other comparisons`\n",
            "Iteration 5: Largest change in params was 0.00173 in the m_probability of first_name_surname, level `All other comparisons`\n",
            "Iteration 6: Largest change in params was 0.000548 in the m_probability of first_name_surname, level `All other comparisons`\n",
            "Iteration 7: Largest change in params was 0.000176 in the m_probability of first_name_surname, level `All other comparisons`\n",
            "Iteration 8: Largest change in params was 5.66e-05 in the m_probability of first_name_surname, level `All other comparisons`\n",
            "\n",
            "EM converged after 8 iterations\n",
            "\n",
            "Your model is not yet fully trained. Missing estimates for:\n",
            "    - first_name_surname (some u values are not trained).\n"
          ]
        }
      ],
      "source": [
        "training_blocking_rule = block_on(\"dob\")\n",
        "training_session_dob = (\n",
        "    linker.training.estimate_parameters_using_expectation_maximisation(\n",
        "        training_blocking_rule, estimate_without_term_frequencies=True\n",
        "    )\n",
        ")"
      ]
    },
    {
      "cell_type": "markdown",
      "id": "770f1ec1",
      "metadata": {},
      "source": [
        "### Visualise the match weights"
      ]
    },
    {
      "cell_type": "code",
      "execution_count": 16,
      "id": "9e836ec7",
      "metadata": {},
      "outputs": [
        {
          "data": {
            "text/html": [
              "\n",
              "<style>\n",
              "  #altair-viz-8c0191163748440e9406ca88dd2926ee.vega-embed {\n",
              "    width: 100%;\n",
              "    display: flex;\n",
              "  }\n",
              "\n",
              "  #altair-viz-8c0191163748440e9406ca88dd2926ee.vega-embed details,\n",
              "  #altair-viz-8c0191163748440e9406ca88dd2926ee.vega-embed details summary {\n",
              "    position: relative;\n",
              "  }\n",
              "</style>\n",
              "<div id=\"altair-viz-8c0191163748440e9406ca88dd2926ee\"></div>\n",
              "<script type=\"text/javascript\">\n",
              "  var VEGA_DEBUG = (typeof VEGA_DEBUG == \"undefined\") ? {} : VEGA_DEBUG;\n",
              "  (function(spec, embedOpt){\n",
              "    let outputDiv = document.currentScript.previousElementSibling;\n",
              "    if (outputDiv.id !== \"altair-viz-8c0191163748440e9406ca88dd2926ee\") {\n",
              "      outputDiv = document.getElementById(\"altair-viz-8c0191163748440e9406ca88dd2926ee\");\n",
              "    }\n",
              "    const paths = {\n",
              "      \"vega\": \"https://cdn.jsdelivr.net/npm/vega@5?noext\",\n",
              "      \"vega-lib\": \"https://cdn.jsdelivr.net/npm/vega-lib?noext\",\n",
              "      \"vega-lite\": \"https://cdn.jsdelivr.net/npm/vega-lite@5.20.1?noext\",\n",
              "      \"vega-embed\": \"https://cdn.jsdelivr.net/npm/vega-embed@6?noext\",\n",
              "    };\n",
              "\n",
              "    function maybeLoadScript(lib, version) {\n",
              "      var key = `${lib.replace(\"-\", \"\")}_version`;\n",
              "      return (VEGA_DEBUG[key] == version) ?\n",
              "        Promise.resolve(paths[lib]) :\n",
              "        new Promise(function(resolve, reject) {\n",
              "          var s = document.createElement('script');\n",
              "          document.getElementsByTagName(\"head\")[0].appendChild(s);\n",
              "          s.async = true;\n",
              "          s.onload = () => {\n",
              "            VEGA_DEBUG[key] = version;\n",
              "            return resolve(paths[lib]);\n",
              "          };\n",
              "          s.onerror = () => reject(`Error loading script: ${paths[lib]}`);\n",
              "          s.src = paths[lib];\n",
              "        });\n",
              "    }\n",
              "\n",
              "    function showError(err) {\n",
              "      outputDiv.innerHTML = `<div class=\"error\" style=\"color:red;\">${err}</div>`;\n",
              "      throw err;\n",
              "    }\n",
              "\n",
              "    function displayChart(vegaEmbed) {\n",
              "      vegaEmbed(outputDiv, spec, embedOpt)\n",
              "        .catch(err => showError(`Javascript Error: ${err.message}<br>This usually means there's a typo in your chart specification. See the javascript console for the full traceback.`));\n",
              "    }\n",
              "\n",
              "    if(typeof define === \"function\" && define.amd) {\n",
              "      requirejs.config({paths});\n",
              "      require([\"vega-embed\"], displayChart, err => showError(`Error loading script: ${err.message}`));\n",
              "    } else {\n",
              "      maybeLoadScript(\"vega\", \"5\")\n",
              "        .then(() => maybeLoadScript(\"vega-lite\", \"5.20.1\"))\n",
              "        .then(() => maybeLoadScript(\"vega-embed\", \"6\"))\n",
              "        .catch(showError)\n",
              "        .then(() => displayChart(vegaEmbed));\n",
              "    }\n",
              "  })({\"config\": {\"view\": {\"continuousWidth\": 300, \"continuousHeight\": 300, \"discreteHeight\": 60, \"discreteWidth\": 400}, \"header\": {\"title\": null}, \"mark\": {\"tooltip\": null}, \"title\": {\"anchor\": \"middle\"}}, \"vconcat\": [{\"mark\": {\"type\": \"bar\", \"clip\": true, \"height\": 15}, \"encoding\": {\"color\": {\"field\": \"log2_bayes_factor\", \"scale\": {\"domain\": [-10, 0, 10], \"interpolate\": \"lab\", \"range\": [\"red\", \"#bbbbbb\", \"green\"]}, \"title\": \"Match weight\", \"type\": \"quantitative\"}, \"tooltip\": [{\"field\": \"comparison_name\", \"title\": \"Comparison name\", \"type\": \"nominal\"}, {\"field\": \"probability_two_random_records_match\", \"format\": \".4f\", \"title\": \"Probability two random records match\", \"type\": \"nominal\"}, {\"field\": \"log2_bayes_factor\", \"format\": \",.4f\", \"title\": \"Equivalent match weight\", \"type\": \"quantitative\"}, {\"field\": \"bayes_factor_description\", \"title\": \"Match weight description\", \"type\": \"nominal\"}], \"x\": {\"axis\": {\"domain\": false, \"gridColor\": {\"condition\": {\"test\": \"abs(datum.value / 10)  <= 1 & datum.value % 10 === 0\", \"value\": \"#aaa\"}, \"value\": \"#ddd\"}, \"gridDash\": {\"condition\": {\"test\": \"abs(datum.value / 10) == 1\", \"value\": [3]}, \"value\": null}, \"gridWidth\": {\"condition\": {\"test\": \"abs(datum.value / 10)  <= 1 & datum.value % 10 === 0\", \"value\": 2}, \"value\": 1}, \"labels\": false, \"ticks\": false, \"title\": \"\"}, \"field\": \"log2_bayes_factor\", \"scale\": {\"domain\": [-13, 13]}, \"type\": \"quantitative\"}, \"y\": {\"axis\": {\"title\": \"Prior (starting) match weight\", \"titleAlign\": \"right\", \"titleAngle\": 0, \"titleFontWeight\": \"normal\"}, \"field\": \"label_for_charts\", \"sort\": {\"field\": \"comparison_vector_value\", \"order\": \"descending\"}, \"type\": \"nominal\"}}, \"height\": 20, \"transform\": [{\"filter\": \"(datum.comparison_name == 'probability_two_random_records_match')\"}]}, {\"mark\": {\"type\": \"bar\", \"clip\": true}, \"encoding\": {\"color\": {\"field\": \"log2_bayes_factor\", \"scale\": {\"domain\": [-10, 0, 10], \"interpolate\": \"lab\", \"range\": [\"red\", \"#bbbbbb\", \"green\"]}, \"title\": \"Match weight\", \"type\": \"quantitative\"}, \"row\": {\"field\": \"comparison_name\", \"header\": {\"labelAlign\": \"left\", \"labelAnchor\": \"middle\", \"labelAngle\": 0}, \"sort\": {\"field\": \"comparison_sort_order\"}, \"type\": \"nominal\"}, \"tooltip\": [{\"field\": \"comparison_name\", \"title\": \"Comparison name\", \"type\": \"nominal\"}, {\"field\": \"label_for_charts\", \"title\": \"Label\", \"type\": \"ordinal\"}, {\"field\": \"sql_condition\", \"title\": \"SQL condition\", \"type\": \"nominal\"}, {\"field\": \"m_probability\", \"format\": \".10~g\", \"title\": \"M probability\", \"type\": \"quantitative\"}, {\"field\": \"u_probability\", \"format\": \".10~g\", \"title\": \"U probability\", \"type\": \"quantitative\"}, {\"field\": \"bayes_factor\", \"format\": \",.6f\", \"title\": \"Bayes factor = m/u\", \"type\": \"quantitative\"}, {\"field\": \"log2_bayes_factor\", \"format\": \".4~g\", \"title\": \"Match weight = log2(m/u)\", \"type\": \"quantitative\"}, {\"field\": \"bayes_factor_description\", \"title\": \"Match weight description\", \"type\": \"nominal\"}, {\"field\": \"m_probability_description\", \"title\": \"m probability description\", \"type\": \"nominal\"}, {\"field\": \"u_probability_description\", \"title\": \"u probability description\", \"type\": \"nominal\"}], \"x\": {\"axis\": {\"gridColor\": {\"condition\": {\"test\": \"abs(datum.value / 10)  <= 1 & datum.value % 10 === 0\", \"value\": \"#aaa\"}, \"value\": \"#ddd\"}, \"gridDash\": {\"condition\": {\"test\": \"abs(datum.value / 10) == 1\", \"value\": [3]}, \"value\": null}, \"gridWidth\": {\"condition\": {\"test\": \"abs(datum.value / 10)  <= 1 & datum.value % 10 === 0\", \"value\": 2}, \"value\": 1}, \"title\": \"Comparison level match weight = log2(m/u)\"}, \"field\": \"log2_bayes_factor\", \"scale\": {\"domain\": [-13, 13]}, \"type\": \"quantitative\"}, \"y\": {\"axis\": {\"title\": null}, \"field\": \"label_for_charts\", \"sort\": {\"field\": \"comparison_vector_value\", \"order\": \"descending\"}, \"type\": \"nominal\"}}, \"height\": {\"step\": 12}, \"resolve\": {\"axis\": {\"y\": \"independent\"}, \"scale\": {\"y\": \"independent\"}}, \"transform\": [{\"filter\": \"(datum.comparison_name != 'probability_two_random_records_match')\"}]}], \"data\": {\"name\": \"data-efc621d68c0df6958d2bab942d7b8efe\"}, \"params\": [{\"name\": \"mouse_zoom\", \"select\": {\"type\": \"interval\", \"encodings\": [\"x\"]}, \"bind\": \"scales\", \"views\": []}], \"resolve\": {\"axis\": {\"y\": \"independent\"}, \"scale\": {\"y\": \"independent\"}}, \"title\": {\"text\": \"Model parameters (components of final match weight)\", \"subtitle\": \"Use mousewheel to zoom\"}, \"$schema\": \"https://vega.github.io/schema/vega-lite/v5.9.3.json\", \"datasets\": {\"data-efc621d68c0df6958d2bab942d7b8efe\": [{\"comparison_name\": \"probability_two_random_records_match\", \"sql_condition\": null, \"label_for_charts\": \"\", \"m_probability\": null, \"u_probability\": null, \"m_probability_description\": null, \"u_probability_description\": null, \"has_tf_adjustments\": false, \"tf_adjustment_column\": null, \"tf_adjustment_weight\": null, \"is_null_level\": false, \"bayes_factor\": 0.00013584539607096294, \"log2_bayes_factor\": -12.845746707461347, \"comparison_vector_value\": 0, \"max_comparison_vector_value\": 0, \"bayes_factor_description\": \"The probability that two random records drawn at random match is 0.000 or one in  7,362.3 records.This is equivalent to a starting match weight of -12.846.\", \"probability_two_random_records_match\": 0.00013582694460587586, \"comparison_sort_order\": -1}, {\"comparison_name\": \"first_name_surname\", \"sql_condition\": \"\\\"first_and_surname_l\\\" = \\\"first_and_surname_r\\\"\", \"label_for_charts\": \"Exact match on first_and_surname\", \"m_probability\": 0.4249509858731187, \"u_probability\": 0.00017535655833528173, \"m_probability_description\": \"Amongst matching record comparisons, 42.5% of records (i.e. one in 2.353) are in the exact match on first_and_surname comparison level\", \"u_probability_description\": \"Amongst non-matching record comparisons, 0.01754% of records (i.e. one in 5,703) are in the exact match on first_and_surname comparison level\", \"has_tf_adjustments\": true, \"tf_adjustment_column\": \"first_and_surname\", \"tf_adjustment_weight\": 1.0, \"is_null_level\": false, \"bayes_factor\": 2423.3538221057715, \"log2_bayes_factor\": 11.242789345716654, \"comparison_vector_value\": 6, \"max_comparison_vector_value\": 6, \"bayes_factor_description\": \"If comparison level is `exact match on first_and_surname` then comparison is 2,423 times more likely to be a match\", \"probability_two_random_records_match\": 0.00013582694460587586, \"comparison_sort_order\": 0}, {\"comparison_name\": \"first_name_surname\", \"sql_condition\": \"\\\"first_name_l\\\" = \\\"surname_r\\\" AND \\\"first_name_r\\\" = \\\"surname_l\\\"\", \"label_for_charts\": \"Match on reversed cols: first_name and surname (both directions)\", \"m_probability\": 6.288488720728042e-05, \"u_probability\": 0.0010416666666666675, \"m_probability_description\": \"Amongst matching record comparisons, 0.006288% of records (i.e. one in 15,902) are in the match on reversed cols: first_name and surname (both directions) comparison level\", \"u_probability_description\": \"Amongst non-matching record comparisons, 0.1042% of records (i.e. one in 960) are in the match on reversed cols: first_name and surname (both directions) comparison level\", \"has_tf_adjustments\": false, \"tf_adjustment_column\": null, \"tf_adjustment_weight\": 1.0, \"is_null_level\": false, \"bayes_factor\": 0.06036949171898916, \"log2_bayes_factor\": -4.050036535345649, \"comparison_vector_value\": 5, \"max_comparison_vector_value\": 6, \"bayes_factor_description\": \"If comparison level is `match on reversed cols: first_name and surname (both directions)` then comparison is 16.56 times less likely to be a match\", \"probability_two_random_records_match\": 0.00013582694460587586, \"comparison_sort_order\": 0}, {\"comparison_name\": \"first_name_surname\", \"sql_condition\": \"(jaro_winkler_similarity(\\\"first_name_l\\\", \\\"first_name_r\\\") >= 0.92) AND (jaro_winkler_similarity(\\\"surname_l\\\", \\\"surname_r\\\") >= 0.92)\", \"label_for_charts\": \"(Jaro-Winkler distance of first_name >= 0.92) AND (Jaro-Winkler distance of surname >= 0.92)\", \"m_probability\": 0.08878109731854718, \"u_probability\": 2.922609305588029e-05, \"m_probability_description\": \"Amongst matching record comparisons, 8.878% of records (i.e. one in 11.26) are in the (jaro-winkler distance of first_name >= 0.92) and (jaro-winkler distance of surname >= 0.92) comparison level\", \"u_probability_description\": \"Amongst non-matching record comparisons, 0.002923% of records (i.e. one in 34,216) are in the (jaro-winkler distance of first_name >= 0.92) and (jaro-winkler distance of surname >= 0.92) comparison level\", \"has_tf_adjustments\": false, \"tf_adjustment_column\": null, \"tf_adjustment_weight\": 1.0, \"is_null_level\": false, \"bayes_factor\": 3037.73402585141, \"log2_bayes_factor\": 11.568779842328514, \"comparison_vector_value\": 4, \"max_comparison_vector_value\": 6, \"bayes_factor_description\": \"If comparison level is `(jaro-winkler distance of first_name >= 0.92) and (jaro-winkler distance of surname >= 0.92)` then comparison is 3,038 times more likely to be a match\", \"probability_two_random_records_match\": 0.00013582694460587586, \"comparison_sort_order\": 0}, {\"comparison_name\": \"first_name_surname\", \"sql_condition\": \"(jaro_winkler_similarity(\\\"first_name_l\\\", \\\"first_name_r\\\") >= 0.88) AND (jaro_winkler_similarity(\\\"surname_l\\\", \\\"surname_r\\\") >= 0.88)\", \"label_for_charts\": \"(Jaro-Winkler distance of first_name >= 0.88) AND (Jaro-Winkler distance of surname >= 0.88)\", \"m_probability\": 0.08406540513064685, \"u_probability\": 3.111164744658224e-05, \"m_probability_description\": \"Amongst matching record comparisons, 8.407% of records (i.e. one in 11.9) are in the (jaro-winkler distance of first_name >= 0.88) and (jaro-winkler distance of surname >= 0.88) comparison level\", \"u_probability_description\": \"Amongst non-matching record comparisons, 0.003111% of records (i.e. one in 32,142) are in the (jaro-winkler distance of first_name >= 0.88) and (jaro-winkler distance of surname >= 0.88) comparison level\", \"has_tf_adjustments\": false, \"tf_adjustment_column\": null, \"tf_adjustment_weight\": 1.0, \"is_null_level\": false, \"bayes_factor\": 2702.055726074442, \"log2_bayes_factor\": 11.399841713175505, \"comparison_vector_value\": 3, \"max_comparison_vector_value\": 6, \"bayes_factor_description\": \"If comparison level is `(jaro-winkler distance of first_name >= 0.88) and (jaro-winkler distance of surname >= 0.88)` then comparison is 2,702 times more likely to be a match\", \"probability_two_random_records_match\": 0.00013582694460587586, \"comparison_sort_order\": 0}, {\"comparison_name\": \"first_name_surname\", \"sql_condition\": \"\\\"surname_l\\\" = \\\"surname_r\\\"\", \"label_for_charts\": \"Exact match on surname\", \"m_probability\": 0.17279100811419054, \"u_probability\": 0.0004280208466893436, \"m_probability_description\": \"Amongst matching record comparisons, 17.28% of records (i.e. one in 5.787) are in the exact match on surname comparison level\", \"u_probability_description\": \"Amongst non-matching record comparisons, 0.0428% of records (i.e. one in 2,336) are in the exact match on surname comparison level\", \"has_tf_adjustments\": true, \"tf_adjustment_column\": \"surname\", \"tf_adjustment_weight\": 1.0, \"is_null_level\": false, \"bayes_factor\": 403.69764568874325, \"log2_bayes_factor\": 8.657131363011084, \"comparison_vector_value\": 2, \"max_comparison_vector_value\": 6, \"bayes_factor_description\": \"If comparison level is `exact match on surname` then comparison is 404 times more likely to be a match\", \"probability_two_random_records_match\": 0.00013582694460587586, \"comparison_sort_order\": 0}, {\"comparison_name\": \"first_name_surname\", \"sql_condition\": \"\\\"first_name_l\\\" = \\\"first_name_r\\\"\", \"label_for_charts\": \"Exact match on first_name\", \"m_probability\": 0.05171078000995597, \"u_probability\": 0.012471999517298075, \"m_probability_description\": \"Amongst matching record comparisons, 5.171% of records (i.e. one in 19.34) are in the exact match on first_name comparison level\", \"u_probability_description\": \"Amongst non-matching record comparisons, 1.247% of records (i.e. one in 80.18) are in the exact match on first_name comparison level\", \"has_tf_adjustments\": true, \"tf_adjustment_column\": \"first_name\", \"tf_adjustment_weight\": 1.0, \"is_null_level\": false, \"bayes_factor\": 4.146149936763192, \"log2_bayes_factor\": 2.051772289412452, \"comparison_vector_value\": 1, \"max_comparison_vector_value\": 6, \"bayes_factor_description\": \"If comparison level is `exact match on first_name` then comparison is 4.146 times more likely to be a match\", \"probability_two_random_records_match\": 0.00013582694460587586, \"comparison_sort_order\": 0}, {\"comparison_name\": \"first_name_surname\", \"sql_condition\": \"ELSE\", \"label_for_charts\": \"All other comparisons\", \"m_probability\": 0.1776378386663334, \"u_probability\": 0.9868642853371749, \"m_probability_description\": \"Amongst matching record comparisons, 17.76% of records (i.e. one in 5.629) are in the all other comparisons comparison level\", \"u_probability_description\": \"Amongst non-matching record comparisons, 98.69% of records (i.e. one in 1.013) are in the all other comparisons comparison level\", \"has_tf_adjustments\": false, \"tf_adjustment_column\": null, \"tf_adjustment_weight\": 1.0, \"is_null_level\": false, \"bayes_factor\": 0.180002297484746, \"log2_bayes_factor\": -2.4739127741729874, \"comparison_vector_value\": 0, \"max_comparison_vector_value\": 6, \"bayes_factor_description\": \"If comparison level is `all other comparisons` then comparison is 5.555 times less likely to be a match\", \"probability_two_random_records_match\": 0.00013582694460587586, \"comparison_sort_order\": 0}, {\"comparison_name\": \"dob\", \"sql_condition\": \"\\\"dob_l\\\" = \\\"dob_r\\\"\", \"label_for_charts\": \"Exact match on date of birth\", \"m_probability\": 0.6789743473398412, \"u_probability\": 0.002385555911031979, \"m_probability_description\": \"Amongst matching record comparisons, 67.9% of records (i.e. one in 1.473) are in the exact match on date of birth comparison level\", \"u_probability_description\": \"Amongst non-matching record comparisons, 0.2386% of records (i.e. one in 419) are in the exact match on date of birth comparison level\", \"has_tf_adjustments\": false, \"tf_adjustment_column\": null, \"tf_adjustment_weight\": 1.0, \"is_null_level\": false, \"bayes_factor\": 284.6189201434899, \"log2_bayes_factor\": 8.152887758490525, \"comparison_vector_value\": 5, \"max_comparison_vector_value\": 5, \"bayes_factor_description\": \"If comparison level is `exact match on date of birth` then comparison is 285 times more likely to be a match\", \"probability_two_random_records_match\": 0.00013582694460587586, \"comparison_sort_order\": 1}, {\"comparison_name\": \"dob\", \"sql_condition\": \"damerau_levenshtein(\\\"dob_l\\\", \\\"dob_r\\\") <= 1\", \"label_for_charts\": \"DamerauLevenshtein distance <= 1\", \"m_probability\": 0.27366728116467065, \"u_probability\": 0.023292206256694162, \"m_probability_description\": \"Amongst matching record comparisons, 27.37% of records (i.e. one in 3.654) are in the dameraulevenshtein distance <= 1 comparison level\", \"u_probability_description\": \"Amongst non-matching record comparisons, 2.329% of records (i.e. one in 42.93) are in the dameraulevenshtein distance <= 1 comparison level\", \"has_tf_adjustments\": false, \"tf_adjustment_column\": null, \"tf_adjustment_weight\": 1.0, \"is_null_level\": false, \"bayes_factor\": 11.749306963397634, \"log2_bayes_factor\": 3.5545037563621684, \"comparison_vector_value\": 4, \"max_comparison_vector_value\": 5, \"bayes_factor_description\": \"If comparison level is `dameraulevenshtein distance <= 1` then comparison is 11.75 times more likely to be a match\", \"probability_two_random_records_match\": 0.00013582694460587586, \"comparison_sort_order\": 1}, {\"comparison_name\": \"dob\", \"sql_condition\": \"ABS(EPOCH(try_strptime(\\\"dob_l\\\", '%Y-%m-%d')) - EPOCH(try_strptime(\\\"dob_r\\\", '%Y-%m-%d'))) <= 2629800.0\", \"label_for_charts\": \"Abs date difference <= 1 month\", \"m_probability\": 0.0026800887696804563, \"u_probability\": 0.0023212224061426325, \"m_probability_description\": \"Amongst matching record comparisons, 0.268% of records (i.e. one in 373) are in the abs date difference <= 1 month comparison level\", \"u_probability_description\": \"Amongst non-matching record comparisons, 0.2321% of records (i.e. one in 431) are in the abs date difference <= 1 month comparison level\", \"has_tf_adjustments\": false, \"tf_adjustment_column\": null, \"tf_adjustment_weight\": 1.0, \"is_null_level\": false, \"bayes_factor\": 1.1546023175496491, \"log2_bayes_factor\": 0.20739602627855913, \"comparison_vector_value\": 3, \"max_comparison_vector_value\": 5, \"bayes_factor_description\": \"If comparison level is `abs date difference <= 1 month` then comparison is 1.155 times more likely to be a match\", \"probability_two_random_records_match\": 0.00013582694460587586, \"comparison_sort_order\": 1}, {\"comparison_name\": \"dob\", \"sql_condition\": \"ABS(EPOCH(try_strptime(\\\"dob_l\\\", '%Y-%m-%d')) - EPOCH(try_strptime(\\\"dob_r\\\", '%Y-%m-%d'))) <= 31557600.0\", \"label_for_charts\": \"Abs date difference <= 1 year\", \"m_probability\": 0.0062370337580357005, \"u_probability\": 0.03330041312542599, \"m_probability_description\": \"Amongst matching record comparisons, 0.6237% of records (i.e. one in 160) are in the abs date difference <= 1 year comparison level\", \"u_probability_description\": \"Amongst non-matching record comparisons, 3.33% of records (i.e. one in 30.03) are in the abs date difference <= 1 year comparison level\", \"has_tf_adjustments\": false, \"tf_adjustment_column\": null, \"tf_adjustment_weight\": 1.0, \"is_null_level\": false, \"bayes_factor\": 0.18729598742645973, \"log2_bayes_factor\": -2.4166081028448843, \"comparison_vector_value\": 2, \"max_comparison_vector_value\": 5, \"bayes_factor_description\": \"If comparison level is `abs date difference <= 1 year` then comparison is 5.339 times less likely to be a match\", \"probability_two_random_records_match\": 0.00013582694460587586, \"comparison_sort_order\": 1}, {\"comparison_name\": \"dob\", \"sql_condition\": \"ABS(EPOCH(try_strptime(\\\"dob_l\\\", '%Y-%m-%d')) - EPOCH(try_strptime(\\\"dob_r\\\", '%Y-%m-%d'))) <= 315576000.0\", \"label_for_charts\": \"Abs date difference <= 10 year\", \"m_probability\": 0.028262700593198704, \"u_probability\": 0.24294417938267654, \"m_probability_description\": \"Amongst matching record comparisons, 2.826% of records (i.e. one in 35.38) are in the abs date difference <= 10 year comparison level\", \"u_probability_description\": \"Amongst non-matching record comparisons, 24.29% of records (i.e. one in 4.116) are in the abs date difference <= 10 year comparison level\", \"has_tf_adjustments\": false, \"tf_adjustment_column\": null, \"tf_adjustment_weight\": 1.0, \"is_null_level\": false, \"bayes_factor\": 0.11633413348290333, \"log2_bayes_factor\": -3.103653636240811, \"comparison_vector_value\": 1, \"max_comparison_vector_value\": 5, \"bayes_factor_description\": \"If comparison level is `abs date difference <= 10 year` then comparison is 8.596 times less likely to be a match\", \"probability_two_random_records_match\": 0.00013582694460587586, \"comparison_sort_order\": 1}, {\"comparison_name\": \"dob\", \"sql_condition\": \"ELSE\", \"label_for_charts\": \"All other comparisons\", \"m_probability\": 0.01017854837457323, \"u_probability\": 0.6957564229180286, \"m_probability_description\": \"Amongst matching record comparisons, 1.018% of records (i.e. one in 98.25) are in the all other comparisons comparison level\", \"u_probability_description\": \"Amongst non-matching record comparisons, 69.58% of records (i.e. one in 1.437) are in the all other comparisons comparison level\", \"has_tf_adjustments\": false, \"tf_adjustment_column\": null, \"tf_adjustment_weight\": 1.0, \"is_null_level\": false, \"bayes_factor\": 0.014629470946001496, \"log2_bayes_factor\": -6.094978592368114, \"comparison_vector_value\": 0, \"max_comparison_vector_value\": 5, \"bayes_factor_description\": \"If comparison level is `all other comparisons` then comparison is 68.36 times less likely to be a match\", \"probability_two_random_records_match\": 0.00013582694460587586, \"comparison_sort_order\": 1}, {\"comparison_name\": \"postcode_fake\", \"sql_condition\": \"\\\"postcode_fake_l\\\" = \\\"postcode_fake_r\\\"\", \"label_for_charts\": \"Exact match on full postcode\", \"m_probability\": 0.6732961140197732, \"u_probability\": 0.0001457392100934813, \"m_probability_description\": \"Amongst matching record comparisons, 67.33% of records (i.e. one in 1.485) are in the exact match on full postcode comparison level\", \"u_probability_description\": \"Amongst non-matching record comparisons, 0.01457% of records (i.e. one in 6,862) are in the exact match on full postcode comparison level\", \"has_tf_adjustments\": false, \"tf_adjustment_column\": null, \"tf_adjustment_weight\": 1.0, \"is_null_level\": false, \"bayes_factor\": 4619.869378926246, \"log2_bayes_factor\": 12.173636346468061, \"comparison_vector_value\": 4, \"max_comparison_vector_value\": 4, \"bayes_factor_description\": \"If comparison level is `exact match on full postcode` then comparison is 4,620 times more likely to be a match\", \"probability_two_random_records_match\": 0.00013582694460587586, \"comparison_sort_order\": 2}, {\"comparison_name\": \"postcode_fake\", \"sql_condition\": \"NULLIF(regexp_extract(\\\"postcode_fake_l\\\", '^[A-Za-z]{1,2}[0-9][A-Za-z0-9]? [0-9]', 0), '') = NULLIF(regexp_extract(\\\"postcode_fake_r\\\", '^[A-Za-z]{1,2}[0-9][A-Za-z0-9]? [0-9]', 0), '')\", \"label_for_charts\": \"Exact match on sector\", \"m_probability\": 0.09318309833081748, \"u_probability\": 0.00038116408793679725, \"m_probability_description\": \"Amongst matching record comparisons, 9.318% of records (i.e. one in 10.73) are in the exact match on sector comparison level\", \"u_probability_description\": \"Amongst non-matching record comparisons, 0.03812% of records (i.e. one in 2,624) are in the exact match on sector comparison level\", \"has_tf_adjustments\": false, \"tf_adjustment_column\": null, \"tf_adjustment_weight\": 1.0, \"is_null_level\": false, \"bayes_factor\": 244.46977372713204, \"log2_bayes_factor\": 7.933512290986321, \"comparison_vector_value\": 3, \"max_comparison_vector_value\": 4, \"bayes_factor_description\": \"If comparison level is `exact match on sector` then comparison is 244 times more likely to be a match\", \"probability_two_random_records_match\": 0.00013582694460587586, \"comparison_sort_order\": 2}, {\"comparison_name\": \"postcode_fake\", \"sql_condition\": \"NULLIF(regexp_extract(\\\"postcode_fake_l\\\", '^[A-Za-z]{1,2}[0-9][A-Za-z0-9]?', 0), '') = NULLIF(regexp_extract(\\\"postcode_fake_r\\\", '^[A-Za-z]{1,2}[0-9][A-Za-z0-9]?', 0), '')\", \"label_for_charts\": \"Exact match on district\", \"m_probability\": 0.04261656586328978, \"u_probability\": 0.0006149874359988661, \"m_probability_description\": \"Amongst matching record comparisons, 4.262% of records (i.e. one in 23.47) are in the exact match on district comparison level\", \"u_probability_description\": \"Amongst non-matching record comparisons, 0.0615% of records (i.e. one in 1,626) are in the exact match on district comparison level\", \"has_tf_adjustments\": false, \"tf_adjustment_column\": null, \"tf_adjustment_weight\": 1.0, \"is_null_level\": false, \"bayes_factor\": 69.29664472587429, \"log2_bayes_factor\": 6.114713595092138, \"comparison_vector_value\": 2, \"max_comparison_vector_value\": 4, \"bayes_factor_description\": \"If comparison level is `exact match on district` then comparison is 69.3 times more likely to be a match\", \"probability_two_random_records_match\": 0.00013582694460587586, \"comparison_sort_order\": 2}, {\"comparison_name\": \"postcode_fake\", \"sql_condition\": \"NULLIF(regexp_extract(\\\"postcode_fake_l\\\", '^[A-Za-z]{1,2}', 0), '') = NULLIF(regexp_extract(\\\"postcode_fake_r\\\", '^[A-Za-z]{1,2}', 0), '')\", \"label_for_charts\": \"Exact match on area\", \"m_probability\": 0.10215106706979593, \"u_probability\": 0.011798469898446996, \"m_probability_description\": \"Amongst matching record comparisons, 10.22% of records (i.e. one in 9.789) are in the exact match on area comparison level\", \"u_probability_description\": \"Amongst non-matching record comparisons, 1.18% of records (i.e. one in 84.76) are in the exact match on area comparison level\", \"has_tf_adjustments\": false, \"tf_adjustment_column\": null, \"tf_adjustment_weight\": 1.0, \"is_null_level\": false, \"bayes_factor\": 8.657992769320183, \"log2_bayes_factor\": 3.114032595691146, \"comparison_vector_value\": 1, \"max_comparison_vector_value\": 4, \"bayes_factor_description\": \"If comparison level is `exact match on area` then comparison is 8.658 times more likely to be a match\", \"probability_two_random_records_match\": 0.00013582694460587586, \"comparison_sort_order\": 2}, {\"comparison_name\": \"postcode_fake\", \"sql_condition\": \"ELSE\", \"label_for_charts\": \"All other comparisons\", \"m_probability\": 0.08875315471632364, \"u_probability\": 0.9870596393675238, \"m_probability_description\": \"Amongst matching record comparisons, 8.875% of records (i.e. one in 11.27) are in the all other comparisons comparison level\", \"u_probability_description\": \"Amongst non-matching record comparisons, 98.71% of records (i.e. one in 1.013) are in the all other comparisons comparison level\", \"has_tf_adjustments\": false, \"tf_adjustment_column\": null, \"tf_adjustment_weight\": 1.0, \"is_null_level\": false, \"bayes_factor\": 0.0899167093623581, \"log2_bayes_factor\": -3.475266950851508, \"comparison_vector_value\": 0, \"max_comparison_vector_value\": 4, \"bayes_factor_description\": \"If comparison level is `all other comparisons` then comparison is 11.12 times less likely to be a match\", \"probability_two_random_records_match\": 0.00013582694460587586, \"comparison_sort_order\": 2}, {\"comparison_name\": \"birth_place\", \"sql_condition\": \"\\\"birth_place_l\\\" = \\\"birth_place_r\\\"\", \"label_for_charts\": \"Exact match on birth_place\", \"m_probability\": 0.8352418157558308, \"u_probability\": 0.005867945643485212, \"m_probability_description\": \"Amongst matching record comparisons, 83.52% of records (i.e. one in 1.197) are in the exact match on birth_place comparison level\", \"u_probability_description\": \"Amongst non-matching record comparisons, 0.5868% of records (i.e. one in 170) are in the exact match on birth_place comparison level\", \"has_tf_adjustments\": true, \"tf_adjustment_column\": \"birth_place\", \"tf_adjustment_weight\": 1.0, \"is_null_level\": false, \"bayes_factor\": 142.3397329324521, \"log2_bayes_factor\": 7.1531946239744535, \"comparison_vector_value\": 1, \"max_comparison_vector_value\": 1, \"bayes_factor_description\": \"If comparison level is `exact match on birth_place` then comparison is 142 times more likely to be a match\", \"probability_two_random_records_match\": 0.00013582694460587586, \"comparison_sort_order\": 3}, {\"comparison_name\": \"birth_place\", \"sql_condition\": \"ELSE\", \"label_for_charts\": \"All other comparisons\", \"m_probability\": 0.16475818424416927, \"u_probability\": 0.9941320543565147, \"m_probability_description\": \"Amongst matching record comparisons, 16.48% of records (i.e. one in 6.07) are in the all other comparisons comparison level\", \"u_probability_description\": \"Amongst non-matching record comparisons, 99.41% of records (i.e. one in 1.006) are in the all other comparisons comparison level\", \"has_tf_adjustments\": false, \"tf_adjustment_column\": null, \"tf_adjustment_weight\": 1.0, \"is_null_level\": false, \"bayes_factor\": 0.16573068288278314, \"log2_bayes_factor\": -2.5930873713567415, \"comparison_vector_value\": 0, \"max_comparison_vector_value\": 1, \"bayes_factor_description\": \"If comparison level is `all other comparisons` then comparison is 6.034 times less likely to be a match\", \"probability_two_random_records_match\": 0.00013582694460587586, \"comparison_sort_order\": 3}, {\"comparison_name\": \"occupation\", \"sql_condition\": \"\\\"occupation_l\\\" = \\\"occupation_r\\\"\", \"label_for_charts\": \"Exact match on occupation\", \"m_probability\": 0.897527930148726, \"u_probability\": 0.036954677792806215, \"m_probability_description\": \"Amongst matching record comparisons, 89.75% of records (i.e. one in 1.114) are in the exact match on occupation comparison level\", \"u_probability_description\": \"Amongst non-matching record comparisons, 3.695% of records (i.e. one in 27.06) are in the exact match on occupation comparison level\", \"has_tf_adjustments\": true, \"tf_adjustment_column\": \"occupation\", \"tf_adjustment_weight\": 1.0, \"is_null_level\": false, \"bayes_factor\": 24.287261687976166, \"log2_bayes_factor\": 4.602127934722203, \"comparison_vector_value\": 1, \"max_comparison_vector_value\": 1, \"bayes_factor_description\": \"If comparison level is `exact match on occupation` then comparison is 24.29 times more likely to be a match\", \"probability_two_random_records_match\": 0.00013582694460587586, \"comparison_sort_order\": 4}, {\"comparison_name\": \"occupation\", \"sql_condition\": \"ELSE\", \"label_for_charts\": \"All other comparisons\", \"m_probability\": 0.10247206985127394, \"u_probability\": 0.9630453222071937, \"m_probability_description\": \"Amongst matching record comparisons, 10.25% of records (i.e. one in 9.759) are in the all other comparisons comparison level\", \"u_probability_description\": \"Amongst non-matching record comparisons, 96.3% of records (i.e. one in 1.038) are in the all other comparisons comparison level\", \"has_tf_adjustments\": false, \"tf_adjustment_column\": null, \"tf_adjustment_weight\": 1.0, \"is_null_level\": false, \"bayes_factor\": 0.10640420288467758, \"log2_bayes_factor\": -3.2323729575714855, \"comparison_vector_value\": 0, \"max_comparison_vector_value\": 1, \"bayes_factor_description\": \"If comparison level is `all other comparisons` then comparison is 9.398 times less likely to be a match\", \"probability_two_random_records_match\": 0.00013582694460587586, \"comparison_sort_order\": 4}]}}, {\"mode\": \"vega-lite\"});\n",
              "</script>"
            ],
            "text/plain": [
              "alt.VConcatChart(...)"
            ]
          },
          "execution_count": 16,
          "metadata": {},
          "output_type": "execute_result"
        }
      ],
      "source": [
        "linker.visualisations.match_weights_chart()"
      ]
    },
    {
      "cell_type": "markdown",
      "id": "c2ee87e8",
      "metadata": {},
      "source": [
        "### Predict"
      ]
    },
    {
      "cell_type": "code",
      "execution_count": 17,
      "id": "449f4840",
      "metadata": {},
      "outputs": [
        {
          "name": "stderr",
          "output_type": "stream",
          "text": [
            "Blocking time: 0.34 seconds\n",
            "Predict time: 3.31 seconds\n",
            "\n",
            " -- WARNING --\n",
            "You have called predict(), but there are some parameter estimates which have neither been estimated or specified in your settings dictionary.  To produce predictions the following untrained trained parameters will use default values.\n",
            "Comparison: 'first_name_surname':\n",
            "    u values not fully trained\n"
          ]
        },
        {
          "name": "stdout",
          "output_type": "stream",
          "text": [
            "┌────────────────────┬────────────────────┬─────────────┬─────────────┬──────────────┬──────────────┬───────────┬───────────┬─────────────────────┬─────────────────────┬──────────────────────────┬────────────────────────┬────────────────────────┬───────────────────────┬────────────────────────┬────────────────────────┬────────────────────────┬───────────────────────┬──────────────────────────────┬────────────┬────────────┬───────────┬───────────────────┬─────────────────┬─────────────────┬─────────────────────┬────────────────────┬───────────────┬───────────────┬───────────────────┬───────────────────────┬──────────────────────┬───────────────────┬───────────────────────┬──────────────┬──────────────┬──────────────────┬─────────────────┬─────────────────┬───────────────┬──────────────────────┬───────────┐\n",
            "│    match_weight    │ match_probability  │ unique_id_l │ unique_id_r │ first_name_l │ first_name_r │ surname_l │ surname_r │ first_and_surname_l │ first_and_surname_r │ gamma_first_name_surname │ tf_first_and_surname_l │ tf_first_and_surname_r │     tf_surname_l      │      tf_surname_r      │    tf_first_name_l     │    tf_first_name_r     │ bf_first_name_surname │ bf_tf_adj_first_name_surname │   dob_l    │   dob_r    │ gamma_dob │      bf_dob       │ postcode_fake_l │ postcode_fake_r │ gamma_postcode_fake │  bf_postcode_fake  │ birth_place_l │ birth_place_r │ gamma_birth_place │   tf_birth_place_l    │   tf_birth_place_r   │  bf_birth_place   │ bf_tf_adj_birth_place │ occupation_l │ occupation_r │ gamma_occupation │ tf_occupation_l │ tf_occupation_r │ bf_occupation │ bf_tf_adj_occupation │ match_key │\n",
            "│       double       │       double       │   varchar   │   varchar   │   varchar    │   varchar    │  varchar  │  varchar  │       varchar       │       varchar       │          int32           │         double         │         double         │        double         │         double         │         double         │         double         │        double         │            double            │  varchar   │  varchar   │   int32   │      double       │     varchar     │     varchar     │        int32        │       double       │    varchar    │    varchar    │       int32       │        double         │        double        │      double       │        double         │   varchar    │   varchar    │      int32       │     double      │     double      │    double     │        double        │  varchar  │\n",
            "├────────────────────┼────────────────────┼─────────────┼─────────────┼──────────────┼──────────────┼───────────┼───────────┼─────────────────────┼─────────────────────┼──────────────────────────┼────────────────────────┼────────────────────────┼───────────────────────┼────────────────────────┼────────────────────────┼────────────────────────┼───────────────────────┼──────────────────────────────┼────────────┼────────────┼───────────┼───────────────────┼─────────────────┼─────────────────┼─────────────────────┼────────────────────┼───────────────┼───────────────┼───────────────────┼───────────────────────┼──────────────────────┼───────────────────┼───────────────────────┼──────────────┼──────────────┼──────────────────┼─────────────────┼─────────────────┼───────────────┼──────────────────────┼───────────┤\n",
            "│  12.64775627763103 │ 0.9998441961042901 │ Q18576059-2 │ Q18576059-3 │ dorothy      │ dorothy      │ lawrence  │ laurence  │ dorothy lawrence    │ dorothy laurence    │                        4 │  5.939300350418721e-05 │  3.959533566945814e-05 │ 0.0010637605019212816 │  0.0003907691639710831 │ 0.00035635802102512324 │ 0.00035635802102512324 │      3037.73402585141 │                          1.0 │ 1860-01-01 │ 1860-01-01 │         5 │ 284.6189201434899 │ pr2 5ss         │ s75 3sb         │                   0 │ 0.0899167093623581 │ preston       │ preston       │                 1 │  0.001374538956724932 │ 0.001374538956724932 │ 142.3397329324521 │     4.269028254729549 │ NULL         │ NULL         │               -1 │            NULL │            NULL │           1.0 │                  1.0 │ 1         │\n",
            "│  15.06412953942897 │ 0.9999708101090263 │ Q457137-7   │ Q457137-9   │ sam          │ sam          │ brown     │ browne    │ sam brown           │ sam browne          │                        4 │  3.959533566945814e-05 │  5.939300350418721e-05 │  0.002453161973818466 │   0.002366324381824892 │  0.0018015877729603454 │  0.0018015877729603454 │      3037.73402585141 │                          1.0 │ 1799-01-01 │ 1799-01-01 │         5 │ 284.6189201434899 │ NULL            │ yo12 6nj        │                  -1 │                1.0 │ scarborough   │ scarborough   │                 1 │  0.002863622826510275 │ 0.002863622826510275 │ 142.3397329324521 │    2.0491335622701836 │ NULL         │ NULL         │               -1 │            NULL │            NULL │           1.0 │                  1.0 │ 1         │\n",
            "│ 6.8759208933576925 │ 0.9915577236346806 │ Q56007153-1 │ Q56007153-5 │ joshua       │ joshua       │ marsden   │ marsdrn   │ joshua marsden      │ joshua marsdrn      │                        4 │  5.939300350418721e-05 │  1.979766783472907e-05 │ 0.0008249571239389531 │ 2.1709397998393504e-05 │ 0.00035635802102512324 │ 0.00035635802102512324 │      3037.73402585141 │                          1.0 │ 1777-01-01 │ 1777-01-01 │         5 │ 284.6189201434899 │ e3 4ql          │ NULL            │                  -1 │                1.0 │ tower hamlets │ NULL          │                -1 │ 0.0016952647132940826 │                 NULL │               1.0 │                   1.0 │ NULL         │ NULL         │               -1 │            NULL │            NULL │           1.0 │                  1.0 │ 1         │\n",
            "└────────────────────┴────────────────────┴─────────────┴─────────────┴──────────────┴──────────────┴───────────┴───────────┴─────────────────────┴─────────────────────┴──────────────────────────┴────────────────────────┴────────────────────────┴───────────────────────┴────────────────────────┴────────────────────────┴────────────────────────┴───────────────────────┴──────────────────────────────┴────────────┴────────────┴───────────┴───────────────────┴─────────────────┴─────────────────┴─────────────────────┴────────────────────┴───────────────┴───────────────┴───────────────────┴───────────────────────┴──────────────────────┴───────────────────┴───────────────────────┴──────────────┴──────────────┴──────────────────┴─────────────────┴─────────────────┴───────────────┴──────────────────────┴───────────┘\n",
            "\n"
          ]
        }
      ],
      "source": [
        "df_predict = linker.inference.predict(threshold_match_weight=2)\n",
        "\n",
        "df_predict.as_duckdbpyrelation(limit=3).show(max_width=2000)"
      ]
    },
    {
      "cell_type": "code",
      "execution_count": 18,
      "id": "1d83c4c9",
      "metadata": {},
      "outputs": [
        {
          "data": {
            "text/html": [
              "\n",
              "<style>\n",
              "  #altair-viz-31825b76dfe348ea8afc1580574ba642.vega-embed {\n",
              "    width: 100%;\n",
              "    display: flex;\n",
              "  }\n",
              "\n",
              "  #altair-viz-31825b76dfe348ea8afc1580574ba642.vega-embed details,\n",
              "  #altair-viz-31825b76dfe348ea8afc1580574ba642.vega-embed details summary {\n",
              "    position: relative;\n",
              "  }\n",
              "</style>\n",
              "<div id=\"altair-viz-31825b76dfe348ea8afc1580574ba642\"></div>\n",
              "<script type=\"text/javascript\">\n",
              "  var VEGA_DEBUG = (typeof VEGA_DEBUG == \"undefined\") ? {} : VEGA_DEBUG;\n",
              "  (function(spec, embedOpt){\n",
              "    let outputDiv = document.currentScript.previousElementSibling;\n",
              "    if (outputDiv.id !== \"altair-viz-31825b76dfe348ea8afc1580574ba642\") {\n",
              "      outputDiv = document.getElementById(\"altair-viz-31825b76dfe348ea8afc1580574ba642\");\n",
              "    }\n",
              "    const paths = {\n",
              "      \"vega\": \"https://cdn.jsdelivr.net/npm/vega@5?noext\",\n",
              "      \"vega-lib\": \"https://cdn.jsdelivr.net/npm/vega-lib?noext\",\n",
              "      \"vega-lite\": \"https://cdn.jsdelivr.net/npm/vega-lite@5.20.1?noext\",\n",
              "      \"vega-embed\": \"https://cdn.jsdelivr.net/npm/vega-embed@6?noext\",\n",
              "    };\n",
              "\n",
              "    function maybeLoadScript(lib, version) {\n",
              "      var key = `${lib.replace(\"-\", \"\")}_version`;\n",
              "      return (VEGA_DEBUG[key] == version) ?\n",
              "        Promise.resolve(paths[lib]) :\n",
              "        new Promise(function(resolve, reject) {\n",
              "          var s = document.createElement('script');\n",
              "          document.getElementsByTagName(\"head\")[0].appendChild(s);\n",
              "          s.async = true;\n",
              "          s.onload = () => {\n",
              "            VEGA_DEBUG[key] = version;\n",
              "            return resolve(paths[lib]);\n",
              "          };\n",
              "          s.onerror = () => reject(`Error loading script: ${paths[lib]}`);\n",
              "          s.src = paths[lib];\n",
              "        });\n",
              "    }\n",
              "\n",
              "    function showError(err) {\n",
              "      outputDiv.innerHTML = `<div class=\"error\" style=\"color:red;\">${err}</div>`;\n",
              "      throw err;\n",
              "    }\n",
              "\n",
              "    function displayChart(vegaEmbed) {\n",
              "      vegaEmbed(outputDiv, spec, embedOpt)\n",
              "        .catch(err => showError(`Javascript Error: ${err.message}<br>This usually means there's a typo in your chart specification. See the javascript console for the full traceback.`));\n",
              "    }\n",
              "\n",
              "    if(typeof define === \"function\" && define.amd) {\n",
              "      requirejs.config({paths});\n",
              "      require([\"vega-embed\"], displayChart, err => showError(`Error loading script: ${err.message}`));\n",
              "    } else {\n",
              "      maybeLoadScript(\"vega\", \"5\")\n",
              "        .then(() => maybeLoadScript(\"vega-lite\", \"5.20.1\"))\n",
              "        .then(() => maybeLoadScript(\"vega-embed\", \"6\"))\n",
              "        .catch(showError)\n",
              "        .then(() => displayChart(vegaEmbed));\n",
              "    }\n",
              "  })({\"config\": {\"view\": {\"continuousWidth\": 400, \"continuousHeight\": 300}}, \"layer\": [{\"layer\": [{\"mark\": \"rule\", \"encoding\": {\"color\": {\"value\": \"black\"}, \"size\": {\"value\": 0.5}, \"y\": {\"field\": \"zero\", \"type\": \"quantitative\"}}}, {\"mark\": {\"type\": \"bar\", \"width\": 60}, \"encoding\": {\"color\": {\"condition\": {\"test\": \"(datum.log2_bayes_factor < 0)\", \"value\": \"red\"}, \"value\": \"green\"}, \"opacity\": {\"condition\": {\"test\": \"datum.column_name == 'Prior match weight' || datum.column_name == 'Final score'\", \"value\": 1}, \"value\": 0.5}, \"tooltip\": [{\"field\": \"column_name\", \"title\": \"Comparison column\", \"type\": \"nominal\"}, {\"field\": \"value_l\", \"title\": \"Value (L)\", \"type\": \"nominal\"}, {\"field\": \"value_r\", \"title\": \"Value (R)\", \"type\": \"nominal\"}, {\"field\": \"label_for_charts\", \"title\": \"Label\", \"type\": \"ordinal\"}, {\"field\": \"sql_condition\", \"title\": \"SQL condition\", \"type\": \"nominal\"}, {\"field\": \"comparison_vector_value\", \"title\": \"Comparison vector value\", \"type\": \"nominal\"}, {\"field\": \"bayes_factor\", \"format\": \",.4f\", \"title\": \"Bayes factor = m/u\", \"type\": \"quantitative\"}, {\"field\": \"log2_bayes_factor\", \"format\": \",.4f\", \"title\": \"Match weight = log2(m/u)\", \"type\": \"quantitative\"}, {\"field\": \"prob\", \"format\": \".4f\", \"title\": \"Cumulative match probability\", \"type\": \"quantitative\"}, {\"field\": \"bayes_factor_description\", \"title\": \"Match weight description\", \"type\": \"nominal\"}], \"x\": {\"axis\": {\"grid\": true, \"labelAlign\": \"center\", \"labelAngle\": -20, \"labelExpr\": \"datum.value == 'Prior' || datum.value == 'Final score' ? '' : datum.value\", \"labelPadding\": 10, \"tickBand\": \"extent\", \"title\": \"Column\"}, \"field\": \"column_name\", \"sort\": {\"field\": \"bar_sort_order\", \"order\": \"ascending\"}, \"type\": \"nominal\"}, \"y\": {\"axis\": {\"grid\": false, \"orient\": \"left\", \"title\": \"Match Weight\"}, \"field\": \"previous_sum\", \"type\": \"quantitative\"}, \"y2\": {\"field\": \"sum\"}}}, {\"mark\": {\"type\": \"text\", \"fontWeight\": \"bold\"}, \"encoding\": {\"color\": {\"value\": \"white\"}, \"text\": {\"condition\": {\"test\": \"abs(datum.log2_bayes_factor) > 1\", \"field\": \"log2_bayes_factor\", \"format\": \".2f\", \"type\": \"nominal\"}, \"value\": \"\"}, \"x\": {\"axis\": {\"labelAngle\": -20, \"title\": \"Column\"}, \"field\": \"column_name\", \"sort\": {\"field\": \"bar_sort_order\", \"order\": \"ascending\"}, \"type\": \"nominal\"}, \"y\": {\"axis\": {\"orient\": \"left\"}, \"field\": \"center\", \"type\": \"quantitative\"}}}, {\"mark\": {\"type\": \"text\", \"baseline\": \"bottom\", \"dy\": -25, \"fontWeight\": \"bold\"}, \"encoding\": {\"color\": {\"value\": \"black\"}, \"text\": {\"field\": \"column_name\", \"type\": \"nominal\"}, \"x\": {\"axis\": {\"labelAngle\": -20, \"title\": \"Column\"}, \"field\": \"column_name\", \"sort\": {\"field\": \"bar_sort_order\", \"order\": \"ascending\"}, \"type\": \"nominal\"}, \"y\": {\"field\": \"sum_top\", \"type\": \"quantitative\"}}}, {\"mark\": {\"type\": \"text\", \"baseline\": \"bottom\", \"dy\": -13, \"fontSize\": 8}, \"encoding\": {\"color\": {\"value\": \"grey\"}, \"text\": {\"field\": \"value_l\", \"type\": \"nominal\"}, \"x\": {\"axis\": {\"labelAngle\": -20, \"title\": \"Column\"}, \"field\": \"column_name\", \"sort\": {\"field\": \"bar_sort_order\", \"order\": \"ascending\"}, \"type\": \"nominal\"}, \"y\": {\"field\": \"sum_top\", \"type\": \"quantitative\"}}}, {\"mark\": {\"type\": \"text\", \"baseline\": \"bottom\", \"dy\": -5, \"fontSize\": 8}, \"encoding\": {\"color\": {\"value\": \"grey\"}, \"text\": {\"field\": \"value_r\", \"type\": \"nominal\"}, \"x\": {\"axis\": {\"labelAngle\": -20, \"title\": \"Column\"}, \"field\": \"column_name\", \"sort\": {\"field\": \"bar_sort_order\", \"order\": \"ascending\"}, \"type\": \"nominal\"}, \"y\": {\"field\": \"sum_top\", \"type\": \"quantitative\"}}}]}, {\"mark\": {\"type\": \"rule\", \"color\": \"black\", \"strokeWidth\": 2, \"x2Offset\": 30, \"xOffset\": -30}, \"encoding\": {\"x\": {\"axis\": {\"labelAngle\": -20, \"title\": \"Column\"}, \"field\": \"column_name\", \"sort\": {\"field\": \"bar_sort_order\", \"order\": \"ascending\"}, \"type\": \"nominal\"}, \"x2\": {\"field\": \"lead\"}, \"y\": {\"axis\": {\"labelExpr\": \"format(1 / (1 + pow(2, -1*datum.value)), '.2r')\", \"orient\": \"right\", \"title\": \"Probability\"}, \"field\": \"sum\", \"scale\": {\"zero\": false}, \"type\": \"quantitative\"}}}], \"data\": {\"name\": \"data-38677387d64db56356554475e4f6329f\"}, \"height\": 450, \"params\": [{\"name\": \"record_number\", \"bind\": {\"input\": \"range\", \"max\": 4, \"min\": 0, \"step\": 1}, \"value\": 0}], \"resolve\": {\"axis\": {\"y\": \"independent\"}}, \"title\": {\"text\": \"Match weights waterfall chart\", \"subtitle\": \"How each comparison contributes to the final match score\"}, \"transform\": [{\"filter\": \"(datum.record_number == record_number)\"}, {\"window\": [{\"op\": \"sum\", \"field\": \"log2_bayes_factor\", \"as\": \"sum\"}, {\"op\": \"lead\", \"field\": \"column_name\", \"as\": \"lead\"}], \"frame\": [null, 0]}, {\"calculate\": \"datum.column_name === \\\"Final score\\\" ? datum.sum - datum.log2_bayes_factor : datum.sum\", \"as\": \"sum\"}, {\"calculate\": \"datum.lead === null ? datum.column_name : datum.lead\", \"as\": \"lead\"}, {\"calculate\": \"datum.column_name === \\\"Final score\\\" || datum.column_name === \\\"Prior match weight\\\" ? 0 : datum.sum - datum.log2_bayes_factor\", \"as\": \"previous_sum\"}, {\"calculate\": \"datum.sum > datum.previous_sum ? datum.column_name : \\\"\\\"\", \"as\": \"top_label\"}, {\"calculate\": \"datum.sum < datum.previous_sum ? datum.column_name : \\\"\\\"\", \"as\": \"bottom_label\"}, {\"calculate\": \"datum.sum > datum.previous_sum ? datum.sum : datum.previous_sum\", \"as\": \"sum_top\"}, {\"calculate\": \"datum.sum < datum.previous_sum ? datum.sum : datum.previous_sum\", \"as\": \"sum_bottom\"}, {\"calculate\": \"(datum.sum + datum.previous_sum) / 2\", \"as\": \"center\"}, {\"calculate\": \"(datum.log2_bayes_factor > 0 ? \\\"+\\\" : \\\"\\\") + datum.log2_bayes_factor\", \"as\": \"text_log2_bayes_factor\"}, {\"calculate\": \"datum.sum < datum.previous_sum ? 4 : -4\", \"as\": \"dy\"}, {\"calculate\": \"datum.sum < datum.previous_sum ? \\\"top\\\" : \\\"bottom\\\"\", \"as\": \"baseline\"}, {\"calculate\": \"1. / (1 + pow(2, -1.*datum.sum))\", \"as\": \"prob\"}, {\"calculate\": \"0*datum.sum\", \"as\": \"zero\"}], \"width\": {\"step\": 75}, \"$schema\": \"https://vega.github.io/schema/vega-lite/v5.9.3.json\", \"datasets\": {\"data-38677387d64db56356554475e4f6329f\": [{\"column_name\": \"Prior\", \"label_for_charts\": \"Starting match weight (prior)\", \"sql_condition\": null, \"log2_bayes_factor\": -12.845746707461347, \"bayes_factor\": 0.00013584539607096294, \"comparison_vector_value\": null, \"m_probability\": null, \"u_probability\": null, \"bayes_factor_description\": null, \"value_l\": \"\", \"value_r\": \"\", \"term_frequency_adjustment\": null, \"bar_sort_order\": 0, \"record_number\": 0}, {\"sql_condition\": \"(jaro_winkler_similarity(\\\"first_name_l\\\", \\\"first_name_r\\\") >= 0.92) AND (jaro_winkler_similarity(\\\"surname_l\\\", \\\"surname_r\\\") >= 0.92)\", \"label_for_charts\": \"(Jaro-Winkler distance of first_name >= 0.92) AND (Jaro-Winkler distance of surname >= 0.92)\", \"m_probability\": 0.08878109731854718, \"u_probability\": 2.922609305588029e-05, \"bayes_factor\": 3037.73402585141, \"log2_bayes_factor\": 11.568779842328514, \"comparison_vector_value\": 4, \"bayes_factor_description\": \"If comparison level is `(jaro-winkler distance of first_name >= 0.92) and (jaro-winkler distance of surname >= 0.92)` then comparison is 3,038 times more likely to be a match\", \"column_name\": \"first_name_surname\", \"value_l\": \"dorothy, lawrence, dorothy lawrence\", \"value_r\": \"dorothy, laurence, dorothy laurence\", \"term_frequency_adjustment\": false, \"bar_sort_order\": 1, \"record_number\": 0}, {\"sql_condition\": \"(jaro_winkler_similarity(\\\"first_name_l\\\", \\\"first_name_r\\\") >= 0.92) AND (jaro_winkler_similarity(\\\"surname_l\\\", \\\"surname_r\\\") >= 0.92)\", \"label_for_charts\": \"(Jaro-Winkler distance of first_name >= 0.92) AND (Jaro-Winkler distance of surname >= 0.92)\", \"m_probability\": 0.08878109731854718, \"u_probability\": 2.922609305588029e-05, \"bayes_factor\": 1.0, \"log2_bayes_factor\": 0.0, \"comparison_vector_value\": 4, \"bayes_factor_description\": \"If comparison level is `(jaro-winkler distance of first_name >= 0.92) and (jaro-winkler distance of surname >= 0.92)` then comparison is 3,038 times more likely to be a match\", \"column_name\": \"tf_first_name_surname\", \"value_l\": \"\", \"value_r\": \"\", \"term_frequency_adjustment\": true, \"bar_sort_order\": 2, \"record_number\": 0}, {\"sql_condition\": \"\\\"dob_l\\\" = \\\"dob_r\\\"\", \"label_for_charts\": \"Exact match on date of birth\", \"m_probability\": 0.6789743473398412, \"u_probability\": 0.002385555911031979, \"bayes_factor\": 284.6189201434899, \"log2_bayes_factor\": 8.152887758490525, \"comparison_vector_value\": 5, \"bayes_factor_description\": \"If comparison level is `exact match on date of birth` then comparison is 285 times more likely to be a match\", \"column_name\": \"dob\", \"value_l\": \"1860-01-01\", \"value_r\": \"1860-01-01\", \"term_frequency_adjustment\": false, \"bar_sort_order\": 3, \"record_number\": 0}, {\"sql_condition\": \"ELSE\", \"label_for_charts\": \"All other comparisons\", \"m_probability\": 0.08875315471632364, \"u_probability\": 0.9870596393675238, \"bayes_factor\": 0.0899167093623581, \"log2_bayes_factor\": -3.475266950851508, \"comparison_vector_value\": 0, \"bayes_factor_description\": \"If comparison level is `all other comparisons` then comparison is 11.12 times less likely to be a match\", \"column_name\": \"postcode_fake\", \"value_l\": \"pr2 5ss\", \"value_r\": \"s75 3sb\", \"term_frequency_adjustment\": false, \"bar_sort_order\": 4, \"record_number\": 0}, {\"sql_condition\": \"\\\"birth_place_l\\\" = \\\"birth_place_r\\\"\", \"label_for_charts\": \"Exact match on birth_place\", \"m_probability\": 0.8352418157558308, \"u_probability\": 0.005867945643485212, \"bayes_factor\": 142.3397329324521, \"log2_bayes_factor\": 7.1531946239744535, \"comparison_vector_value\": 1, \"bayes_factor_description\": \"If comparison level is `exact match on birth_place` then comparison is 142 times more likely to be a match\", \"column_name\": \"birth_place\", \"value_l\": \"preston\", \"value_r\": \"preston\", \"term_frequency_adjustment\": false, \"bar_sort_order\": 5, \"record_number\": 0}, {\"sql_condition\": \"\\\"birth_place_l\\\" = \\\"birth_place_r\\\"\", \"label_for_charts\": \"Term freq adjustment on birth_place with weight {cl.tf_adjustment_weight}\", \"m_probability\": null, \"u_probability\": null, \"bayes_factor\": 4.269028254729549, \"log2_bayes_factor\": 2.0939077111503925, \"comparison_vector_value\": 1, \"bayes_factor_description\": \"Term frequency adjustment on birth_place makes comparison 4.27 times more likely to be a match\", \"column_name\": \"tf_birth_place\", \"value_l\": \"preston\", \"value_r\": \"preston\", \"term_frequency_adjustment\": true, \"bar_sort_order\": 6, \"record_number\": 0}, {\"sql_condition\": \"\\\"occupation_l\\\" IS NULL OR \\\"occupation_r\\\" IS NULL\", \"label_for_charts\": \"occupation is NULL\", \"bayes_factor\": 1.0, \"log2_bayes_factor\": 0.0, \"comparison_vector_value\": -1, \"bayes_factor_description\": \"If comparison level is `occupation is null` then comparison is 1 times more likely to be a match\", \"column_name\": \"occupation\", \"value_l\": \"None\", \"value_r\": \"None\", \"term_frequency_adjustment\": false, \"bar_sort_order\": 7, \"record_number\": 0}, {\"sql_condition\": \"\\\"occupation_l\\\" IS NULL OR \\\"occupation_r\\\" IS NULL\", \"label_for_charts\": \"occupation is NULL\", \"bayes_factor\": 1.0, \"log2_bayes_factor\": 0.0, \"comparison_vector_value\": -1, \"bayes_factor_description\": \"If comparison level is `occupation is null` then comparison is 1 times more likely to be a match\", \"column_name\": \"tf_occupation\", \"value_l\": \"\", \"value_r\": \"\", \"term_frequency_adjustment\": true, \"bar_sort_order\": 8, \"record_number\": 0}, {\"column_name\": \"Final score\", \"label_for_charts\": \"Final score\", \"sql_condition\": null, \"log2_bayes_factor\": 12.64775627763103, \"bayes_factor\": 6417.32475011985, \"comparison_vector_value\": null, \"m_probability\": null, \"u_probability\": null, \"bayes_factor_description\": null, \"value_l\": \"\", \"value_r\": \"\", \"term_frequency_adjustment\": null, \"bar_sort_order\": 9, \"record_number\": 0}, {\"column_name\": \"Prior\", \"label_for_charts\": \"Starting match weight (prior)\", \"sql_condition\": null, \"log2_bayes_factor\": -12.845746707461347, \"bayes_factor\": 0.00013584539607096294, \"comparison_vector_value\": null, \"m_probability\": null, \"u_probability\": null, \"bayes_factor_description\": null, \"value_l\": \"\", \"value_r\": \"\", \"term_frequency_adjustment\": null, \"bar_sort_order\": 0, \"record_number\": 1}, {\"sql_condition\": \"(jaro_winkler_similarity(\\\"first_name_l\\\", \\\"first_name_r\\\") >= 0.92) AND (jaro_winkler_similarity(\\\"surname_l\\\", \\\"surname_r\\\") >= 0.92)\", \"label_for_charts\": \"(Jaro-Winkler distance of first_name >= 0.92) AND (Jaro-Winkler distance of surname >= 0.92)\", \"m_probability\": 0.08878109731854718, \"u_probability\": 2.922609305588029e-05, \"bayes_factor\": 3037.73402585141, \"log2_bayes_factor\": 11.568779842328514, \"comparison_vector_value\": 4, \"bayes_factor_description\": \"If comparison level is `(jaro-winkler distance of first_name >= 0.92) and (jaro-winkler distance of surname >= 0.92)` then comparison is 3,038 times more likely to be a match\", \"column_name\": \"first_name_surname\", \"value_l\": \"sam, brown, sam brown\", \"value_r\": \"sam, browne, sam browne\", \"term_frequency_adjustment\": false, \"bar_sort_order\": 1, \"record_number\": 1}, {\"sql_condition\": \"(jaro_winkler_similarity(\\\"first_name_l\\\", \\\"first_name_r\\\") >= 0.92) AND (jaro_winkler_similarity(\\\"surname_l\\\", \\\"surname_r\\\") >= 0.92)\", \"label_for_charts\": \"(Jaro-Winkler distance of first_name >= 0.92) AND (Jaro-Winkler distance of surname >= 0.92)\", \"m_probability\": 0.08878109731854718, \"u_probability\": 2.922609305588029e-05, \"bayes_factor\": 1.0, \"log2_bayes_factor\": 0.0, \"comparison_vector_value\": 4, \"bayes_factor_description\": \"If comparison level is `(jaro-winkler distance of first_name >= 0.92) and (jaro-winkler distance of surname >= 0.92)` then comparison is 3,038 times more likely to be a match\", \"column_name\": \"tf_first_name_surname\", \"value_l\": \"\", \"value_r\": \"\", \"term_frequency_adjustment\": true, \"bar_sort_order\": 2, \"record_number\": 1}, {\"sql_condition\": \"\\\"dob_l\\\" = \\\"dob_r\\\"\", \"label_for_charts\": \"Exact match on date of birth\", \"m_probability\": 0.6789743473398412, \"u_probability\": 0.002385555911031979, \"bayes_factor\": 284.6189201434899, \"log2_bayes_factor\": 8.152887758490525, \"comparison_vector_value\": 5, \"bayes_factor_description\": \"If comparison level is `exact match on date of birth` then comparison is 285 times more likely to be a match\", \"column_name\": \"dob\", \"value_l\": \"1799-01-01\", \"value_r\": \"1799-01-01\", \"term_frequency_adjustment\": false, \"bar_sort_order\": 3, \"record_number\": 1}, {\"sql_condition\": \"\\\"postcode_fake_l\\\" IS NULL OR \\\"postcode_fake_r\\\" IS NULL\", \"label_for_charts\": \"postcode_fake is NULL\", \"bayes_factor\": 1.0, \"log2_bayes_factor\": 0.0, \"comparison_vector_value\": -1, \"bayes_factor_description\": \"If comparison level is `postcode_fake is null` then comparison is 1 times more likely to be a match\", \"column_name\": \"postcode_fake\", \"value_l\": \"None\", \"value_r\": \"yo12 6nj\", \"term_frequency_adjustment\": false, \"bar_sort_order\": 4, \"record_number\": 1}, {\"sql_condition\": \"\\\"birth_place_l\\\" = \\\"birth_place_r\\\"\", \"label_for_charts\": \"Exact match on birth_place\", \"m_probability\": 0.8352418157558308, \"u_probability\": 0.005867945643485212, \"bayes_factor\": 142.3397329324521, \"log2_bayes_factor\": 7.1531946239744535, \"comparison_vector_value\": 1, \"bayes_factor_description\": \"If comparison level is `exact match on birth_place` then comparison is 142 times more likely to be a match\", \"column_name\": \"birth_place\", \"value_l\": \"scarborough\", \"value_r\": \"scarborough\", \"term_frequency_adjustment\": false, \"bar_sort_order\": 5, \"record_number\": 1}, {\"sql_condition\": \"\\\"birth_place_l\\\" = \\\"birth_place_r\\\"\", \"label_for_charts\": \"Term freq adjustment on birth_place with weight {cl.tf_adjustment_weight}\", \"m_probability\": null, \"u_probability\": null, \"bayes_factor\": 2.0491335622701836, \"log2_bayes_factor\": 1.035014022096824, \"comparison_vector_value\": 1, \"bayes_factor_description\": \"Term frequency adjustment on birth_place makes comparison 2.05 times more likely to be a match\", \"column_name\": \"tf_birth_place\", \"value_l\": \"scarborough\", \"value_r\": \"scarborough\", \"term_frequency_adjustment\": true, \"bar_sort_order\": 6, \"record_number\": 1}, {\"sql_condition\": \"\\\"occupation_l\\\" IS NULL OR \\\"occupation_r\\\" IS NULL\", \"label_for_charts\": \"occupation is NULL\", \"bayes_factor\": 1.0, \"log2_bayes_factor\": 0.0, \"comparison_vector_value\": -1, \"bayes_factor_description\": \"If comparison level is `occupation is null` then comparison is 1 times more likely to be a match\", \"column_name\": \"occupation\", \"value_l\": \"None\", \"value_r\": \"None\", \"term_frequency_adjustment\": false, \"bar_sort_order\": 7, \"record_number\": 1}, {\"sql_condition\": \"\\\"occupation_l\\\" IS NULL OR \\\"occupation_r\\\" IS NULL\", \"label_for_charts\": \"occupation is NULL\", \"bayes_factor\": 1.0, \"log2_bayes_factor\": 0.0, \"comparison_vector_value\": -1, \"bayes_factor_description\": \"If comparison level is `occupation is null` then comparison is 1 times more likely to be a match\", \"column_name\": \"tf_occupation\", \"value_l\": \"\", \"value_r\": \"\", \"term_frequency_adjustment\": true, \"bar_sort_order\": 8, \"record_number\": 1}, {\"column_name\": \"Final score\", \"label_for_charts\": \"Final score\", \"sql_condition\": null, \"log2_bayes_factor\": 15.06412953942897, \"bayes_factor\": 34257.43559680403, \"comparison_vector_value\": null, \"m_probability\": null, \"u_probability\": null, \"bayes_factor_description\": null, \"value_l\": \"\", \"value_r\": \"\", \"term_frequency_adjustment\": null, \"bar_sort_order\": 9, \"record_number\": 1}, {\"column_name\": \"Prior\", \"label_for_charts\": \"Starting match weight (prior)\", \"sql_condition\": null, \"log2_bayes_factor\": -12.845746707461347, \"bayes_factor\": 0.00013584539607096294, \"comparison_vector_value\": null, \"m_probability\": null, \"u_probability\": null, \"bayes_factor_description\": null, \"value_l\": \"\", \"value_r\": \"\", \"term_frequency_adjustment\": null, \"bar_sort_order\": 0, \"record_number\": 2}, {\"sql_condition\": \"(jaro_winkler_similarity(\\\"first_name_l\\\", \\\"first_name_r\\\") >= 0.92) AND (jaro_winkler_similarity(\\\"surname_l\\\", \\\"surname_r\\\") >= 0.92)\", \"label_for_charts\": \"(Jaro-Winkler distance of first_name >= 0.92) AND (Jaro-Winkler distance of surname >= 0.92)\", \"m_probability\": 0.08878109731854718, \"u_probability\": 2.922609305588029e-05, \"bayes_factor\": 3037.73402585141, \"log2_bayes_factor\": 11.568779842328514, \"comparison_vector_value\": 4, \"bayes_factor_description\": \"If comparison level is `(jaro-winkler distance of first_name >= 0.92) and (jaro-winkler distance of surname >= 0.92)` then comparison is 3,038 times more likely to be a match\", \"column_name\": \"first_name_surname\", \"value_l\": \"joshua, marsden, joshua marsden\", \"value_r\": \"joshua, marsdrn, joshua marsdrn\", \"term_frequency_adjustment\": false, \"bar_sort_order\": 1, \"record_number\": 2}, {\"sql_condition\": \"(jaro_winkler_similarity(\\\"first_name_l\\\", \\\"first_name_r\\\") >= 0.92) AND (jaro_winkler_similarity(\\\"surname_l\\\", \\\"surname_r\\\") >= 0.92)\", \"label_for_charts\": \"(Jaro-Winkler distance of first_name >= 0.92) AND (Jaro-Winkler distance of surname >= 0.92)\", \"m_probability\": 0.08878109731854718, \"u_probability\": 2.922609305588029e-05, \"bayes_factor\": 1.0, \"log2_bayes_factor\": 0.0, \"comparison_vector_value\": 4, \"bayes_factor_description\": \"If comparison level is `(jaro-winkler distance of first_name >= 0.92) and (jaro-winkler distance of surname >= 0.92)` then comparison is 3,038 times more likely to be a match\", \"column_name\": \"tf_first_name_surname\", \"value_l\": \"\", \"value_r\": \"\", \"term_frequency_adjustment\": true, \"bar_sort_order\": 2, \"record_number\": 2}, {\"sql_condition\": \"\\\"dob_l\\\" = \\\"dob_r\\\"\", \"label_for_charts\": \"Exact match on date of birth\", \"m_probability\": 0.6789743473398412, \"u_probability\": 0.002385555911031979, \"bayes_factor\": 284.6189201434899, \"log2_bayes_factor\": 8.152887758490525, \"comparison_vector_value\": 5, \"bayes_factor_description\": \"If comparison level is `exact match on date of birth` then comparison is 285 times more likely to be a match\", \"column_name\": \"dob\", \"value_l\": \"1777-01-01\", \"value_r\": \"1777-01-01\", \"term_frequency_adjustment\": false, \"bar_sort_order\": 3, \"record_number\": 2}, {\"sql_condition\": \"\\\"postcode_fake_l\\\" IS NULL OR \\\"postcode_fake_r\\\" IS NULL\", \"label_for_charts\": \"postcode_fake is NULL\", \"bayes_factor\": 1.0, \"log2_bayes_factor\": 0.0, \"comparison_vector_value\": -1, \"bayes_factor_description\": \"If comparison level is `postcode_fake is null` then comparison is 1 times more likely to be a match\", \"column_name\": \"postcode_fake\", \"value_l\": \"e3 4ql\", \"value_r\": \"None\", \"term_frequency_adjustment\": false, \"bar_sort_order\": 4, \"record_number\": 2}, {\"sql_condition\": \"\\\"birth_place_l\\\" IS NULL OR \\\"birth_place_r\\\" IS NULL\", \"label_for_charts\": \"birth_place is NULL\", \"bayes_factor\": 1.0, \"log2_bayes_factor\": 0.0, \"comparison_vector_value\": -1, \"bayes_factor_description\": \"If comparison level is `birth_place is null` then comparison is 1 times more likely to be a match\", \"column_name\": \"birth_place\", \"value_l\": \"tower hamlets\", \"value_r\": \"None\", \"term_frequency_adjustment\": false, \"bar_sort_order\": 5, \"record_number\": 2}, {\"sql_condition\": \"\\\"birth_place_l\\\" IS NULL OR \\\"birth_place_r\\\" IS NULL\", \"label_for_charts\": \"birth_place is NULL\", \"bayes_factor\": 1.0, \"log2_bayes_factor\": 0.0, \"comparison_vector_value\": -1, \"bayes_factor_description\": \"If comparison level is `birth_place is null` then comparison is 1 times more likely to be a match\", \"column_name\": \"tf_birth_place\", \"value_l\": \"\", \"value_r\": \"\", \"term_frequency_adjustment\": true, \"bar_sort_order\": 6, \"record_number\": 2}, {\"sql_condition\": \"\\\"occupation_l\\\" IS NULL OR \\\"occupation_r\\\" IS NULL\", \"label_for_charts\": \"occupation is NULL\", \"bayes_factor\": 1.0, \"log2_bayes_factor\": 0.0, \"comparison_vector_value\": -1, \"bayes_factor_description\": \"If comparison level is `occupation is null` then comparison is 1 times more likely to be a match\", \"column_name\": \"occupation\", \"value_l\": \"None\", \"value_r\": \"None\", \"term_frequency_adjustment\": false, \"bar_sort_order\": 7, \"record_number\": 2}, {\"sql_condition\": \"\\\"occupation_l\\\" IS NULL OR \\\"occupation_r\\\" IS NULL\", \"label_for_charts\": \"occupation is NULL\", \"bayes_factor\": 1.0, \"log2_bayes_factor\": 0.0, \"comparison_vector_value\": -1, \"bayes_factor_description\": \"If comparison level is `occupation is null` then comparison is 1 times more likely to be a match\", \"column_name\": \"tf_occupation\", \"value_l\": \"\", \"value_r\": \"\", \"term_frequency_adjustment\": true, \"bar_sort_order\": 8, \"record_number\": 2}, {\"column_name\": \"Final score\", \"label_for_charts\": \"Final score\", \"sql_condition\": null, \"log2_bayes_factor\": 6.8759208933576925, \"bayes_factor\": 117.45146459644171, \"comparison_vector_value\": null, \"m_probability\": null, \"u_probability\": null, \"bayes_factor_description\": null, \"value_l\": \"\", \"value_r\": \"\", \"term_frequency_adjustment\": null, \"bar_sort_order\": 9, \"record_number\": 2}, {\"column_name\": \"Prior\", \"label_for_charts\": \"Starting match weight (prior)\", \"sql_condition\": null, \"log2_bayes_factor\": -12.845746707461347, \"bayes_factor\": 0.00013584539607096294, \"comparison_vector_value\": null, \"m_probability\": null, \"u_probability\": null, \"bayes_factor_description\": null, \"value_l\": \"\", \"value_r\": \"\", \"term_frequency_adjustment\": null, \"bar_sort_order\": 0, \"record_number\": 3}, {\"sql_condition\": \"(jaro_winkler_similarity(\\\"first_name_l\\\", \\\"first_name_r\\\") >= 0.88) AND (jaro_winkler_similarity(\\\"surname_l\\\", \\\"surname_r\\\") >= 0.88)\", \"label_for_charts\": \"(Jaro-Winkler distance of first_name >= 0.88) AND (Jaro-Winkler distance of surname >= 0.88)\", \"m_probability\": 0.08406540513064685, \"u_probability\": 3.111164744658224e-05, \"bayes_factor\": 2702.055726074442, \"log2_bayes_factor\": 11.399841713175505, \"comparison_vector_value\": 3, \"bayes_factor_description\": \"If comparison level is `(jaro-winkler distance of first_name >= 0.88) and (jaro-winkler distance of surname >= 0.88)` then comparison is 2,702 times more likely to be a match\", \"column_name\": \"first_name_surname\", \"value_l\": \"jean, roche, jean roche\", \"value_r\": \"jean, roach, jean roach\", \"term_frequency_adjustment\": false, \"bar_sort_order\": 1, \"record_number\": 3}, {\"sql_condition\": \"(jaro_winkler_similarity(\\\"first_name_l\\\", \\\"first_name_r\\\") >= 0.88) AND (jaro_winkler_similarity(\\\"surname_l\\\", \\\"surname_r\\\") >= 0.88)\", \"label_for_charts\": \"(Jaro-Winkler distance of first_name >= 0.88) AND (Jaro-Winkler distance of surname >= 0.88)\", \"m_probability\": 0.08406540513064685, \"u_probability\": 3.111164744658224e-05, \"bayes_factor\": 1.0, \"log2_bayes_factor\": 0.0, \"comparison_vector_value\": 3, \"bayes_factor_description\": \"If comparison level is `(jaro-winkler distance of first_name >= 0.88) and (jaro-winkler distance of surname >= 0.88)` then comparison is 2,702 times more likely to be a match\", \"column_name\": \"tf_first_name_surname\", \"value_l\": \"\", \"value_r\": \"\", \"term_frequency_adjustment\": true, \"bar_sort_order\": 2, \"record_number\": 3}, {\"sql_condition\": \"\\\"dob_l\\\" = \\\"dob_r\\\"\", \"label_for_charts\": \"Exact match on date of birth\", \"m_probability\": 0.6789743473398412, \"u_probability\": 0.002385555911031979, \"bayes_factor\": 284.6189201434899, \"log2_bayes_factor\": 8.152887758490525, \"comparison_vector_value\": 5, \"bayes_factor_description\": \"If comparison level is `exact match on date of birth` then comparison is 285 times more likely to be a match\", \"column_name\": \"dob\", \"value_l\": \"1862-01-01\", \"value_r\": \"1862-01-01\", \"term_frequency_adjustment\": false, \"bar_sort_order\": 3, \"record_number\": 3}, {\"sql_condition\": \"\\\"postcode_fake_l\\\" = \\\"postcode_fake_r\\\"\", \"label_for_charts\": \"Exact match on full postcode\", \"m_probability\": 0.6732961140197732, \"u_probability\": 0.0001457392100934813, \"bayes_factor\": 4619.869378926246, \"log2_bayes_factor\": 12.173636346468061, \"comparison_vector_value\": 4, \"bayes_factor_description\": \"If comparison level is `exact match on full postcode` then comparison is 4,620 times more likely to be a match\", \"column_name\": \"postcode_fake\", \"value_l\": \"le8 0rd\", \"value_r\": \"le8 0rd\", \"term_frequency_adjustment\": false, \"bar_sort_order\": 4, \"record_number\": 3}, {\"sql_condition\": \"ELSE\", \"label_for_charts\": \"All other comparisons\", \"m_probability\": 0.16475818424416927, \"u_probability\": 0.9941320543565147, \"bayes_factor\": 0.16573068288278314, \"log2_bayes_factor\": -2.5930873713567415, \"comparison_vector_value\": 0, \"bayes_factor_description\": \"If comparison level is `all other comparisons` then comparison is 6.034 times less likely to be a match\", \"column_name\": \"birth_place\", \"value_l\": \"kibworth beauchamp\", \"value_r\": \"harborough\", \"term_frequency_adjustment\": false, \"bar_sort_order\": 5, \"record_number\": 3}, {\"sql_condition\": \"ELSE\", \"label_for_charts\": \"All other comparisons\", \"m_probability\": 0.16475818424416927, \"u_probability\": 0.9941320543565147, \"bayes_factor\": 1.0, \"log2_bayes_factor\": 0.0, \"comparison_vector_value\": 0, \"bayes_factor_description\": \"If comparison level is `all other comparisons` then comparison is 6.034 times less likely to be a match\", \"column_name\": \"tf_birth_place\", \"value_l\": \"\", \"value_r\": \"\", \"term_frequency_adjustment\": true, \"bar_sort_order\": 6, \"record_number\": 3}, {\"sql_condition\": \"\\\"occupation_l\\\" IS NULL OR \\\"occupation_r\\\" IS NULL\", \"label_for_charts\": \"occupation is NULL\", \"bayes_factor\": 1.0, \"log2_bayes_factor\": 0.0, \"comparison_vector_value\": -1, \"bayes_factor_description\": \"If comparison level is `occupation is null` then comparison is 1 times more likely to be a match\", \"column_name\": \"occupation\", \"value_l\": \"None\", \"value_r\": \"association football manager\", \"term_frequency_adjustment\": false, \"bar_sort_order\": 7, \"record_number\": 3}, {\"sql_condition\": \"\\\"occupation_l\\\" IS NULL OR \\\"occupation_r\\\" IS NULL\", \"label_for_charts\": \"occupation is NULL\", \"bayes_factor\": 1.0, \"log2_bayes_factor\": 0.0, \"comparison_vector_value\": -1, \"bayes_factor_description\": \"If comparison level is `occupation is null` then comparison is 1 times more likely to be a match\", \"column_name\": \"tf_occupation\", \"value_l\": \"\", \"value_r\": \"\", \"term_frequency_adjustment\": true, \"bar_sort_order\": 8, \"record_number\": 3}, {\"column_name\": \"Final score\", \"label_for_charts\": \"Final score\", \"sql_condition\": null, \"log2_bayes_factor\": 16.287531739316005, \"bayes_factor\": 79989.98380559769, \"comparison_vector_value\": null, \"m_probability\": null, \"u_probability\": null, \"bayes_factor_description\": null, \"value_l\": \"\", \"value_r\": \"\", \"term_frequency_adjustment\": null, \"bar_sort_order\": 9, \"record_number\": 3}, {\"column_name\": \"Prior\", \"label_for_charts\": \"Starting match weight (prior)\", \"sql_condition\": null, \"log2_bayes_factor\": -12.845746707461347, \"bayes_factor\": 0.00013584539607096294, \"comparison_vector_value\": null, \"m_probability\": null, \"u_probability\": null, \"bayes_factor_description\": null, \"value_l\": \"\", \"value_r\": \"\", \"term_frequency_adjustment\": null, \"bar_sort_order\": 0, \"record_number\": 4}, {\"sql_condition\": \"(jaro_winkler_similarity(\\\"first_name_l\\\", \\\"first_name_r\\\") >= 0.92) AND (jaro_winkler_similarity(\\\"surname_l\\\", \\\"surname_r\\\") >= 0.92)\", \"label_for_charts\": \"(Jaro-Winkler distance of first_name >= 0.92) AND (Jaro-Winkler distance of surname >= 0.92)\", \"m_probability\": 0.08878109731854718, \"u_probability\": 2.922609305588029e-05, \"bayes_factor\": 3037.73402585141, \"log2_bayes_factor\": 11.568779842328514, \"comparison_vector_value\": 4, \"bayes_factor_description\": \"If comparison level is `(jaro-winkler distance of first_name >= 0.92) and (jaro-winkler distance of surname >= 0.92)` then comparison is 3,038 times more likely to be a match\", \"column_name\": \"first_name_surname\", \"value_l\": \"samuel, slack, samuel slack\", \"value_r\": \"samuel, slaci, samuel slaci\", \"term_frequency_adjustment\": false, \"bar_sort_order\": 1, \"record_number\": 4}, {\"sql_condition\": \"(jaro_winkler_similarity(\\\"first_name_l\\\", \\\"first_name_r\\\") >= 0.92) AND (jaro_winkler_similarity(\\\"surname_l\\\", \\\"surname_r\\\") >= 0.92)\", \"label_for_charts\": \"(Jaro-Winkler distance of first_name >= 0.92) AND (Jaro-Winkler distance of surname >= 0.92)\", \"m_probability\": 0.08878109731854718, \"u_probability\": 2.922609305588029e-05, \"bayes_factor\": 1.0, \"log2_bayes_factor\": 0.0, \"comparison_vector_value\": 4, \"bayes_factor_description\": \"If comparison level is `(jaro-winkler distance of first_name >= 0.92) and (jaro-winkler distance of surname >= 0.92)` then comparison is 3,038 times more likely to be a match\", \"column_name\": \"tf_first_name_surname\", \"value_l\": \"\", \"value_r\": \"\", \"term_frequency_adjustment\": true, \"bar_sort_order\": 2, \"record_number\": 4}, {\"sql_condition\": \"\\\"dob_l\\\" = \\\"dob_r\\\"\", \"label_for_charts\": \"Exact match on date of birth\", \"m_probability\": 0.6789743473398412, \"u_probability\": 0.002385555911031979, \"bayes_factor\": 284.6189201434899, \"log2_bayes_factor\": 8.152887758490525, \"comparison_vector_value\": 5, \"bayes_factor_description\": \"If comparison level is `exact match on date of birth` then comparison is 285 times more likely to be a match\", \"column_name\": \"dob\", \"value_l\": \"1757-01-01\", \"value_r\": \"1757-01-01\", \"term_frequency_adjustment\": false, \"bar_sort_order\": 3, \"record_number\": 4}, {\"sql_condition\": \"\\\"postcode_fake_l\\\" = \\\"postcode_fake_r\\\"\", \"label_for_charts\": \"Exact match on full postcode\", \"m_probability\": 0.6732961140197732, \"u_probability\": 0.0001457392100934813, \"bayes_factor\": 4619.869378926246, \"log2_bayes_factor\": 12.173636346468061, \"comparison_vector_value\": 4, \"bayes_factor_description\": \"If comparison level is `exact match on full postcode` then comparison is 4,620 times more likely to be a match\", \"column_name\": \"postcode_fake\", \"value_l\": \"ll59 5ql\", \"value_r\": \"ll59 5ql\", \"term_frequency_adjustment\": false, \"bar_sort_order\": 4, \"record_number\": 4}, {\"sql_condition\": \"\\\"birth_place_l\\\" = \\\"birth_place_r\\\"\", \"label_for_charts\": \"Exact match on birth_place\", \"m_probability\": 0.8352418157558308, \"u_probability\": 0.005867945643485212, \"bayes_factor\": 142.3397329324521, \"log2_bayes_factor\": 7.1531946239744535, \"comparison_vector_value\": 1, \"bayes_factor_description\": \"If comparison level is `exact match on birth_place` then comparison is 142 times more likely to be a match\", \"column_name\": \"birth_place\", \"value_l\": \"isle of anglesey\", \"value_r\": \"isle of anglesey\", \"term_frequency_adjustment\": false, \"bar_sort_order\": 5, \"record_number\": 4}, {\"sql_condition\": \"\\\"birth_place_l\\\" = \\\"birth_place_r\\\"\", \"label_for_charts\": \"Term freq adjustment on birth_place with weight {cl.tf_adjustment_weight}\", \"m_probability\": null, \"u_probability\": null, \"bayes_factor\": 5.6920376729727336, \"log2_bayes_factor\": 2.508945210429237, \"comparison_vector_value\": 1, \"bayes_factor_description\": \"Term frequency adjustment on birth_place makes comparison 5.69 times more likely to be a match\", \"column_name\": \"tf_birth_place\", \"value_l\": \"isle of anglesey\", \"value_r\": \"isle of anglesey\", \"term_frequency_adjustment\": true, \"bar_sort_order\": 6, \"record_number\": 4}, {\"sql_condition\": \"\\\"occupation_l\\\" IS NULL OR \\\"occupation_r\\\" IS NULL\", \"label_for_charts\": \"occupation is NULL\", \"bayes_factor\": 1.0, \"log2_bayes_factor\": 0.0, \"comparison_vector_value\": -1, \"bayes_factor_description\": \"If comparison level is `occupation is null` then comparison is 1 times more likely to be a match\", \"column_name\": \"occupation\", \"value_l\": \"None\", \"value_r\": \"singer\", \"term_frequency_adjustment\": false, \"bar_sort_order\": 7, \"record_number\": 4}, {\"sql_condition\": \"\\\"occupation_l\\\" IS NULL OR \\\"occupation_r\\\" IS NULL\", \"label_for_charts\": \"occupation is NULL\", \"bayes_factor\": 1.0, \"log2_bayes_factor\": 0.0, \"comparison_vector_value\": -1, \"bayes_factor_description\": \"If comparison level is `occupation is null` then comparison is 1 times more likely to be a match\", \"column_name\": \"tf_occupation\", \"value_l\": \"\", \"value_r\": \"\", \"term_frequency_adjustment\": true, \"bar_sort_order\": 8, \"record_number\": 4}, {\"column_name\": \"Final score\", \"label_for_charts\": \"Final score\", \"sql_condition\": null, \"log2_bayes_factor\": 28.71169707422944, \"bayes_factor\": 439624660.31725746, \"comparison_vector_value\": null, \"m_probability\": null, \"u_probability\": null, \"bayes_factor_description\": null, \"value_l\": \"\", \"value_r\": \"\", \"term_frequency_adjustment\": null, \"bar_sort_order\": 9, \"record_number\": 4}]}}, {\"mode\": \"vega-lite\"});\n",
              "</script>"
            ],
            "text/plain": [
              "alt.LayerChart(...)"
            ]
          },
          "execution_count": 18,
          "metadata": {},
          "output_type": "execute_result"
        }
      ],
      "source": [
        "records_to_plot = df_predict.as_pandas_dataframe(limit=5).to_dict(orient=\"records\")\n",
        "linker.visualisations.waterfall_chart(records_to_plot, filter_nulls=False)"
      ]
    },
    {
      "cell_type": "markdown",
      "id": "31ef0bf0",
      "metadata": {},
      "source": [
        "### Cluster"
      ]
    },
    {
      "cell_type": "code",
      "execution_count": 19,
      "id": "7d071450",
      "metadata": {},
      "outputs": [
        {
          "name": "stderr",
          "output_type": "stream",
          "text": [
            "Completed iteration 1, root rows count 373\n",
            "Completed iteration 2, root rows count 74\n",
            "Completed iteration 3, root rows count 24\n",
            "Completed iteration 4, root rows count 1\n",
            "Completed iteration 5, root rows count 0\n"
          ]
        },
        {
          "name": "stdout",
          "output_type": "stream",
          "text": [
            "┌──────────────┬───────────────┬────────────┬───────────────────────────────────────┬───────────────────┬────────────┬────────────┬────────────┬──────────────────┬───────────────┬─────────┬────────────┐\n",
            "│  cluster_id  │   unique_id   │  cluster   │               full_name               │ first_and_surname │ first_name │  surname   │    dob     │   birth_place    │ postcode_fake │ gender  │ occupation │\n",
            "│   varchar    │    varchar    │  varchar   │                varchar                │      varchar      │  varchar   │  varchar   │  varchar   │     varchar      │    varchar    │ varchar │  varchar   │\n",
            "├──────────────┼───────────────┼────────────┼───────────────────────────────────────┼───────────────────┼────────────┼────────────┼────────────┼──────────────────┼───────────────┼─────────┼────────────┤\n",
            "│ Q100127000-1 │ Q100127000-1  │ Q100127000 │ arthur englefield                     │ arthur englefield │ arthur     │ englefield │ 1855-01-01 │ stockton-on-tees │ ts19 0sh      │ male    │ painter    │\n",
            "│ Q100127000-1 │ Q100127000-10 │ Q100127000 │ art                                   │ art               │ art        │ NULL       │ 1855-01-01 │ stockton-on-tees │ ts5 7hb       │ male    │ NULL       │\n",
            "│ Q100127000-1 │ Q100127000-11 │ Q100127000 │ artie englefield                      │ artie englefield  │ artie      │ englefield │ 1855-01-04 │ stockton-on-tees │ ts19 0sh      │ male    │ NULL       │\n",
            "│ Q100127000-1 │ Q100127000-15 │ Q100127000 │ artie englefield                      │ artie englefield  │ artie      │ englefield │ NULL       │ NULL             │ ts1o 0sh      │ male    │ painter    │\n",
            "│ Q100127000-1 │ Q100127000-16 │ Q100127000 │ artie englefield                      │ artie englefield  │ artie      │ englefield │ 1865-01-01 │ stockton-on-tees │ NULL          │ male    │ painter    │\n",
            "│ Q100127000-1 │ Q100127000-2  │ Q100127000 │ arthur englefield                     │ arthur englefield │ arthur     │ englefield │ 1855-01-01 │ stockton-on-tees │ ts19 0sh      │ male    │ painter    │\n",
            "│ Q100127000-1 │ Q100127000-3  │ Q100127000 │ arthur englefield                     │ arthur englefield │ arthur     │ englefield │ 1855-01-01 │ stockton-on-tees │ ts19 0sh      │ male    │ painter    │\n",
            "│ Q100127000-1 │ Q100127000-4  │ Q100127000 │ artie englefield                      │ artie englefield  │ artie      │ englefield │ 1855-01-01 │ stockton-on-tees │ ts19 0sh      │ male    │ painter    │\n",
            "│ Q100127000-1 │ Q100127000-5  │ Q100127000 │ artie englefield                      │ artie englefield  │ artie      │ englefield │ 1855-01-01 │ stockton-on-tees │ ts19 0sh      │ male    │ painter    │\n",
            "│ Q100127000-1 │ Q100127000-6  │ Q100127000 │ arthur englefield                     │ arthur englefield │ arthur     │ englefield │ 1855-01-01 │ stockton-on-tees │ ts19 0sh      │ male    │ painter    │\n",
            "│      ·       │      ·        │     ·      │       ·                               │       ·           │   ·        │   ·        │  ·         │    ·             │    ·          │  ·      │  ·         │\n",
            "│      ·       │      ·        │     ·      │       ·                               │       ·           │   ·        │   ·        │  ·         │    ·             │    ·          │  ·      │  ·         │\n",
            "│      ·       │      ·        │     ·      │       ·                               │       ·           │   ·        │   ·        │  ·         │    ·             │    ·          │  ·      │  ·         │\n",
            "│ Q18528273-1  │ Q18528273-9   │ Q18528273  │ harriet soltau                        │ harriet soltau    │ harriet    │ soltau     │ NULL       │ plymouth         │ pl1 3dq       │ female  │ NULL       │\n",
            "│ Q18528410-3  │ Q18528410-3   │ Q18528410  │ s. sprigge                            │ s. sprigge        │ s.         │ sprigge    │ 1860-06-22 │ NULL             │ NULL          │ male    │ NULL       │\n",
            "│ Q18528410-5  │ Q18528410-5   │ Q18528410  │ sprigge                               │ sprigge           │ sprigge    │ NULL       │ 1860-06-25 │ merton           │ ip25 6qx      │ NULL    │ NULL       │\n",
            "│ Q18528504-1  │ Q18528504-1   │ Q18528504  │ stevenson macgill                     │ stevenson macgill │ stevenson  │ macgill    │ 1765-01-01 │ north somerset   │ bs20 0qd      │ male    │ NULL       │\n",
            "│ Q18528554-1  │ Q18528554-11  │ Q18528554  │ elizabeth anne mould sodington blount │ elizabeth blount  │ elizabeth  │ blount     │ NULL       │ lambeth          │ NULL          │ NULL    │ NULL       │\n",
            "│ Q18528638-1  │ Q18528638-10  │ Q18528638  │ lionel lindsay                        │ lionel lindsay    │ lionel     │ lindsay    │ 1861-01-01 │ stoke-on-trent   │ st4 2fh       │ male    │ NULL       │\n",
            "│ Q18528638-1  │ Q18528638-5   │ Q18528638  │ lionel lindsay                        │ lionel lindsay    │ lionel     │ lindsay    │ 1861-01-01 │ stoke-on-trent   │ cw3 9au       │ male    │ NULL       │\n",
            "│ Q18528645-3  │ Q18528645-3   │ Q18528645  │ elizabeth bent                        │ elizabeth bent    │ elizabeth  │ bent       │ 1861-07-11 │ leicester        │ le1 5yp       │ female  │ NULL       │\n",
            "│ Q18528645-4  │ Q18528645-4   │ Q18528645  │ elizabeth bennett                     │ elizabeth bennett │ elizabeth  │ bennett    │ 1861-07-17 │ NULL             │ NULL          │ female  │ NULL       │\n",
            "│ Q18528656-13 │ Q18528656-13  │ Q18528656  │ theo foulks                           │ theo foulks       │ theo       │ foulks     │ NULL       │ NULL             │ sa33 4ng      │ female  │ NULL       │\n",
            "├──────────────┴───────────────┴────────────┴───────────────────────────────────────┴───────────────────┴────────────┴────────────┴────────────┴──────────────────┴───────────────┴─────────┴────────────┤\n",
            "│ ? rows (>9999 rows, 20 shown)                                                                                                                                                               12 columns │\n",
            "└────────────────────────────────────────────────────────────────────────────────────────────────────────────────────────────────────────────────────────────────────────────────────────────────────────┘\n",
            "\n"
          ]
        }
      ],
      "source": [
        "clusters = linker.clustering.cluster_pairwise_predictions_at_threshold(df_predict, threshold_match_probability=0.9)\n",
        "clusters.as_duckdbpyrelation().show(max_width=2000)"
      ]
    },
    {
      "cell_type": "code",
      "execution_count": 20,
      "id": "5e648d99",
      "metadata": {},
      "outputs": [],
      "source": [
        "from IPython.display import IFrame\n",
        "\n",
        "linker.visualisations.comparison_viewer_dashboard(\n",
        "    df_predict,\n",
        "    out_path=\"comparison_viewer.html\",\n",
        "    overwrite=True,\n",
        ")\n"
      ]
    },
    {
      "cell_type": "code",
      "execution_count": 21,
      "id": "46a89aa7",
      "metadata": {},
      "outputs": [],
      "source": [
        "from IPython.display import IFrame\n",
        "\n",
        "linker.visualisations.cluster_studio_dashboard(\n",
        "    df_predict,\n",
        "    clusters,\n",
        "    \"cluster_studio.html\",\n",
        "    sampling_method=\"by_cluster_size\",\n",
        "    overwrite=True,\n",
        ")\n",
        "\n",
        "\n"
      ]
    },
    {
      "cell_type": "code",
      "execution_count": null,
      "id": "8834b7d7",
      "metadata": {},
      "outputs": [],
      "source": []
    }
  ],
  "metadata": {
    "kernelspec": {
      "display_name": "Python 3 (ipykernel)",
      "language": "python",
      "name": "python3"
    },
    "language_info": {
      "codemirror_mode": {
        "name": "ipython",
        "version": 3
      },
      "file_extension": ".py",
      "mimetype": "text/x-python",
      "name": "python",
      "nbconvert_exporter": "python",
      "pygments_lexer": "ipython3",
      "version": "3.11.8"
    }
  },
  "nbformat": 4,
  "nbformat_minor": 5
}
