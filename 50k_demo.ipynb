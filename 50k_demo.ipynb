{
  "cells": [
    {
      "cell_type": "code",
      "execution_count": 1,
      "id": "9ceef6f1",
      "metadata": {
        "execution": {
          "iopub.execute_input": "2024-07-11T13:34:21.934832Z",
          "iopub.status.busy": "2024-07-11T13:34:21.934445Z",
          "iopub.status.idle": "2024-07-11T13:34:21.956453Z",
          "shell.execute_reply": "2024-07-11T13:34:21.955605Z"
        },
        "tags": [
          "hide_input"
        ]
      },
      "outputs": [],
      "source": [
        "# Uncomment and run this cell if you're running in Google Colab.\n",
        "# !pip install splink"
      ]
    },
    {
      "cell_type": "code",
      "execution_count": null,
      "id": "5620a9a6",
      "metadata": {},
      "outputs": [],
      "source": [
        "from splink import splink_datasets, DuckDBAPI, block_on\n",
        "import splink.exploratory as exploratory\n",
        "\n",
        "df = splink_datasets.historical_50k\n",
        "df = df.rename(columns={\"cluster\": \"cluster_ground_truth\"})\n",
        "df.head(5)\n"
      ]
    },
    {
      "cell_type": "markdown",
      "id": "05fe8e0f",
      "metadata": {},
      "source": [
        "## Exploratory analysis"
      ]
    },
    {
      "cell_type": "code",
      "execution_count": null,
      "id": "68f1e1dc",
      "metadata": {},
      "outputs": [],
      "source": [
        "import splink.exploratory as exploratory\n",
        "\n",
        "db_api = DuckDBAPI()\n",
        "exploratory.completeness_chart(df, db_api=db_api)"
      ]
    },
    {
      "cell_type": "code",
      "execution_count": null,
      "id": "f5335093",
      "metadata": {},
      "outputs": [],
      "source": [
        "db_api = DuckDBAPI()\n",
        "exploratory.profile_columns(df, column_expressions=[\"first_name\", \"dob\"], db_api=db_api)"
      ]
    },
    {
      "cell_type": "markdown",
      "id": "996dcd14",
      "metadata": {},
      "source": [
        "## Blocking analysis"
      ]
    },
    {
      "cell_type": "code",
      "execution_count": null,
      "id": "5b3404c8",
      "metadata": {},
      "outputs": [],
      "source": [
        "from splink import blocking_analysis as ba\n",
        "from splink import block_on\n",
        "\n",
        "blocking_rule_for_analysis = block_on(\"first_name\")\n",
        "\n",
        "res = ba.count_comparisons_from_blocking_rule(\n",
        "    table_or_tables=df,\n",
        "    blocking_rule=blocking_rule_for_analysis,\n",
        "    link_type=\"dedupe_only\",\n",
        "    db_api=db_api,\n",
        ")\n",
        "res"
      ]
    },
    {
      "cell_type": "code",
      "execution_count": null,
      "id": "998de226",
      "metadata": {},
      "outputs": [],
      "source": [
        "num_comparisons = res[\"number_of_comparisons_to_be_scored_post_filter_conditions\"]\n",
        "print(\n",
        "    f\"Number of comparisons generated: {num_comparisons:,}\"\n",
        ")"
      ]
    },
    {
      "cell_type": "code",
      "execution_count": null,
      "id": "bf0af8f2",
      "metadata": {},
      "outputs": [],
      "source": [
        "blocking_rule_for_analysis = block_on(\"substr(first_name, 1, 1)\")\n",
        "\n",
        "res = ba.count_comparisons_from_blocking_rule(\n",
        "    table_or_tables=df,\n",
        "    blocking_rule=blocking_rule_for_analysis,\n",
        "    link_type=\"dedupe_only\",\n",
        "    db_api=db_api,\n",
        ")\n",
        "\n",
        "num_comparisons = res[\"number_of_comparisons_to_be_scored_post_filter_conditions\"]\n",
        "print(\n",
        "    f\"Number of comparisons generated: {num_comparisons:,}\"\n",
        ")"
      ]
    },
    {
      "cell_type": "code",
      "execution_count": null,
      "id": "1fc21a71",
      "metadata": {},
      "outputs": [],
      "source": [
        "blocking_rules = [\n",
        "    block_on(\"first_name\", \"surname\"),\n",
        "    block_on(\"first_name\", \"dob\"),\n",
        "    block_on(\"dob\", \"postcode_fake\"),\n",
        "    block_on(\"occupation\", \"dob\"),\n",
        "    block_on(\"birth_place\", \"dob\"),\n",
        "    block_on(\"birth_place\", \"substr(postcode_fake,1,4)\"),\n",
        "    block_on(\"substr(first_name,1,2)\", \"surname\"),\n",
        "\n",
        "]\n",
        "\n",
        "ba.cumulative_comparisons_to_be_scored_from_blocking_rules_chart(\n",
        "    link_type=\"dedupe_only\",\n",
        "    blocking_rules=blocking_rules,\n",
        "    table_or_tables=df,\n",
        "    db_api=db_api,\n",
        ")\n",
        "\n"
      ]
    },
    {
      "cell_type": "code",
      "execution_count": null,
      "id": "8d2e2565",
      "metadata": {},
      "outputs": [],
      "source": [
        "blocking_rule_for_analysis = block_on(\"first_name\", \"surname\")\n",
        "\n",
        "ba.n_largest_blocks(\n",
        "    link_type=\"dedupe_only\",\n",
        "    blocking_rule=blocking_rule_for_analysis,\n",
        "    table_or_tables=df,\n",
        "    db_api=db_api,\n",
        ").as_duckdbpyrelation()"
      ]
    },
    {
      "cell_type": "markdown",
      "id": "381c6d2a",
      "metadata": {},
      "source": [
        "## Define and estimate a model"
      ]
    },
    {
      "cell_type": "markdown",
      "id": "6decf4c5",
      "metadata": {},
      "source": [
        "```\n",
        "Data Linking Model\n",
        "├─-- Comparison: Date of birth\n",
        "│    ├─-- ComparisonLevel: Exact match on date of birth with term frequency adjustments\n",
        "│    ├─-- ComparisonLevel: DamerauLevenshtein distance <= 1\n",
        "│    ├─-- ComparisonLevel: Abs date difference <= 1 month\n",
        "│    ├─-- ComparisonLevel: Abs date difference <= 1 year\n",
        "│    ├─-- ComparisonLevel: Abs date difference <= 10 year\n",
        "│    ├─-- ComparisonLevel: All other comparisons\n",
        "├─-- Comparison: Birth Place\n",
        "│    ├─-- ComparisonLevel: Exact match on birth place with term frequency adjustments\n",
        "│    ├─-- ComparisonLevel: All other\n",
        "```"
      ]
    },
    {
      "cell_type": "code",
      "execution_count": null,
      "id": "7711c266",
      "metadata": {},
      "outputs": [],
      "source": [
        "import splink.comparison_library as cl\n",
        "c = cl.DateOfBirthComparison(\n",
        "            \"dob\", input_is_string=True\n",
        "        ).get_comparison(\"duckdb\")\n",
        "\n",
        "for cl in c.as_dict()['comparison_levels'][1:]:\n",
        "    print(\"\")\n",
        "    print(cl[\"sql_condition\"])"
      ]
    },
    {
      "cell_type": "code",
      "execution_count": 11,
      "id": "f50e4703",
      "metadata": {},
      "outputs": [],
      "source": [
        "import splink.comparison_library as cl\n",
        "\n",
        "from splink import SettingsCreator\n",
        "\n",
        "settings = SettingsCreator(\n",
        "    link_type=\"dedupe_only\",\n",
        "    blocking_rules_to_generate_predictions=blocking_rules,\n",
        "    comparisons=[\n",
        "        cl.ForenameSurnameComparison(\n",
        "            \"first_name\",\n",
        "            \"surname\",\n",
        "            forename_surname_concat_col_name=\"first_and_surname\",\n",
        "        ),\n",
        "        cl.DateOfBirthComparison(\n",
        "            \"dob\", input_is_string=True\n",
        "        ),\n",
        "        cl.PostcodeComparison(\"postcode_fake\"),\n",
        "        cl.ExactMatch(\"birth_place\").configure(term_frequency_adjustments=True),\n",
        "        cl.ExactMatch(\"occupation\").configure(term_frequency_adjustments=True),\n",
        "    ],\n",
        "    retain_intermediate_calculation_columns=True,\n",
        "    retain_matching_columns=True,\n",
        "    additional_columns_to_retain=[\"cluster_ground_truth\"]\n",
        ")"
      ]
    },
    {
      "cell_type": "code",
      "execution_count": 12,
      "id": "b64c84a7",
      "metadata": {},
      "outputs": [],
      "source": [
        "from splink import Linker\n",
        "linker = Linker(df, settings, db_api=db_api)"
      ]
    },
    {
      "cell_type": "markdown",
      "id": "5bbcc26f",
      "metadata": {},
      "source": [
        "### Estimate the probability that two random records match"
      ]
    },
    {
      "cell_type": "code",
      "execution_count": null,
      "id": "53405f5f",
      "metadata": {},
      "outputs": [],
      "source": [
        "linker.training.estimate_probability_two_random_records_match(\n",
        "    [\n",
        "        \"l.first_name = r.first_name and l.surname = r.surname and l.dob = r.dob\",\n",
        "        \"substr(l.first_name,1,2) = substr(r.first_name,1,2) and l.surname = r.surname and substr(l.postcode_fake,1,2) = substr(r.postcode_fake,1,2)\",\n",
        "        \"l.dob = r.dob and l.postcode_fake = r.postcode_fake\",\n",
        "    ],\n",
        "    recall=0.6,\n",
        ")"
      ]
    },
    {
      "cell_type": "markdown",
      "id": "6f2b651e",
      "metadata": {},
      "source": [
        "### Estimate the `u` probabilities (direct estimation)"
      ]
    },
    {
      "cell_type": "code",
      "execution_count": null,
      "id": "b67e316e",
      "metadata": {},
      "outputs": [],
      "source": [
        "linker.training.estimate_u_using_random_sampling(max_pairs=1e6)"
      ]
    },
    {
      "cell_type": "markdown",
      "id": "10ec5635",
      "metadata": {},
      "source": [
        "### Estimate the `m` probabilities (unsupervised)"
      ]
    },
    {
      "cell_type": "code",
      "execution_count": null,
      "id": "1926c270",
      "metadata": {},
      "outputs": [],
      "source": [
        "training_blocking_rule = block_on(\"first_name\", \"surname\")\n",
        "training_session_names = (\n",
        "    linker.training.estimate_parameters_using_expectation_maximisation(\n",
        "        training_blocking_rule, estimate_without_term_frequencies=True\n",
        "    )\n",
        ")"
      ]
    },
    {
      "cell_type": "code",
      "execution_count": null,
      "id": "5d878167",
      "metadata": {},
      "outputs": [],
      "source": [
        "training_blocking_rule = block_on(\"dob\")\n",
        "training_session_dob = (\n",
        "    linker.training.estimate_parameters_using_expectation_maximisation(\n",
        "        training_blocking_rule, estimate_without_term_frequencies=True\n",
        "    )\n",
        ")"
      ]
    },
    {
      "cell_type": "markdown",
      "id": "770f1ec1",
      "metadata": {},
      "source": [
        "### Visualise the match weights"
      ]
    },
    {
      "cell_type": "code",
      "execution_count": null,
      "id": "9e836ec7",
      "metadata": {},
      "outputs": [],
      "source": [
        "linker.visualisations.match_weights_chart()"
      ]
    },
    {
      "cell_type": "markdown",
      "id": "c2ee87e8",
      "metadata": {},
      "source": [
        "### Predict"
      ]
    },
    {
      "cell_type": "code",
      "execution_count": null,
      "id": "449f4840",
      "metadata": {},
      "outputs": [],
      "source": [
        "df_predict = linker.inference.predict(threshold_match_weight=-1)\n",
        "\n",
        "\n",
        "sql = f\"\"\"\n",
        "select *\n",
        "from {df_predict.physical_name}\n",
        "where\n",
        "\n",
        "(unique_id_l = 'Q7964195-7' and unique_id_r = 'Q7964195-8')\n",
        "or\n",
        "(unique_id_l = 'Q2296770-1' and unique_id_r = 'Q2296770-6')\n",
        "\n",
        "\"\"\"\n",
        "\n",
        "rec = linker.misc.query_sql(sql)\n",
        "rec"
      ]
    },
    {
      "cell_type": "code",
      "execution_count": null,
      "id": "1d83c4c9",
      "metadata": {},
      "outputs": [],
      "source": [
        "input = rec.to_dict(orient='records')\n",
        "\n",
        "linker.visualisations.waterfall_chart(input, filter_nulls=False)\n"
      ]
    },
    {
      "cell_type": "markdown",
      "id": "31ef0bf0",
      "metadata": {},
      "source": [
        "### Cluster"
      ]
    },
    {
      "cell_type": "code",
      "execution_count": null,
      "id": "7d071450",
      "metadata": {},
      "outputs": [],
      "source": [
        "clusters = linker.clustering.cluster_pairwise_predictions_at_threshold(df_predict, threshold_match_probability=0.9)\n",
        "clusters.as_duckdbpyrelation().show(max_width=2000)"
      ]
    },
    {
      "cell_type": "code",
      "execution_count": 21,
      "id": "5e648d99",
      "metadata": {},
      "outputs": [],
      "source": [
        "from IPython.display import IFrame\n",
        "\n",
        "linker.visualisations.comparison_viewer_dashboard(\n",
        "    df_predict,\n",
        "    out_path=\"comparison_viewer.html\",\n",
        "    overwrite=True,\n",
        ")\n"
      ]
    },
    {
      "cell_type": "code",
      "execution_count": 22,
      "id": "46a89aa7",
      "metadata": {},
      "outputs": [],
      "source": [
        "from IPython.display import IFrame\n",
        "\n",
        "linker.visualisations.cluster_studio_dashboard(\n",
        "    df_predict,\n",
        "    clusters,\n",
        "    \"cluster_studio.html\",\n",
        "    sampling_method=\"by_cluster_size\",\n",
        "    overwrite=True,\n",
        ")\n",
        "\n",
        "\n"
      ]
    },
    {
      "cell_type": "markdown",
      "id": "8834b7d7",
      "metadata": {},
      "source": [
        "## Evaluation"
      ]
    },
    {
      "cell_type": "code",
      "execution_count": null,
      "id": "716ae6f2",
      "metadata": {},
      "outputs": [],
      "source": [
        "linker.evaluation.unlinkables_chart()"
      ]
    },
    {
      "cell_type": "code",
      "execution_count": null,
      "id": "e237cda9",
      "metadata": {},
      "outputs": [],
      "source": [
        "linker.evaluation.accuracy_analysis_from_labels_column(\"cluster_ground_truth\", output_type=\"roc\")"
      ]
    },
    {
      "cell_type": "code",
      "execution_count": null,
      "id": "7cc3a7d7",
      "metadata": {},
      "outputs": [],
      "source": [
        "linker.evaluation.accuracy_analysis_from_labels_column(\"cluster_ground_truth\", output_type=\"threshold_selection\")\n"
      ]
    },
    {
      "cell_type": "markdown",
      "id": "2358ef10",
      "metadata": {},
      "source": [
        "https://www.robinlinacre.com/splink_example_charts/example_charts/interactive_clusters.html\n",
        "\n",
        "https://www.robinlinacre.com/splink_example_charts/example_charts/splink3/labelling_tool_dedupe_only.html\n",
        "\n",
        "https://www.robinlinacre.com/splink_example_charts/example_charts/interactive_clusters.html Kitty muggeridge 137438955949  Rothschild 889\n"
      ]
    }
  ],
  "metadata": {
    "kernelspec": {
      "display_name": "venv",
      "language": "python",
      "name": "python3"
    },
    "language_info": {
      "codemirror_mode": {
        "name": "ipython",
        "version": 3
      },
      "file_extension": ".py",
      "mimetype": "text/x-python",
      "name": "python",
      "nbconvert_exporter": "python",
      "pygments_lexer": "ipython3",
      "version": "3.12.3"
    }
  },
  "nbformat": 4,
  "nbformat_minor": 5
}
